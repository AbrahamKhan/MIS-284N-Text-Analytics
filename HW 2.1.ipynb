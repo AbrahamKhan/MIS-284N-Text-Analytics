{
 "cells": [
  {
   "cell_type": "code",
   "execution_count": 3,
   "metadata": {
    "collapsed": true
   },
   "outputs": [],
   "source": [
    "# Web scraper for KanView website that provides payroll data for the state of Kansas\n",
    "# Selenium is used to handle the javascript on a website\n",
    "\n",
    "#Importing libraries\n",
    "from selenium import webdriver\n",
    "from selenium.webdriver.common.keys import Keys\n",
    "from bs4 import BeautifulSoup\n",
    "import re\n",
    "import pandas as pd\n",
    "import os     #to manipulate files\n",
    "\n"
   ]
  },
  {
   "cell_type": "code",
   "execution_count": 81,
   "metadata": {
    "collapsed": true
   },
   "outputs": [],
   "source": [
    "# chrome_path = r'C:\\Users\\Abraham\\Downloads\\Apps\\chromedriver'\n",
    "# # prepend it with r because of the backslash characters\n",
    "\n",
    "# driver = webdriver.Chrome(chrome_path) # This will open up a chrome window\n",
    "\n",
    "# page = 2557\n",
    "# url = \"https://forums.edmunds.com/discussion/18576/general/x/edmunds-members-cars-conversations/p\" + str(page)\n",
    "\n",
    "# driver.get(url)  # Open that website\n"
   ]
  },
  {
   "cell_type": "code",
   "execution_count": 82,
   "metadata": {
    "collapsed": true
   },
   "outputs": [],
   "source": [
    "# userlist = []\n",
    "# datelist = []\n",
    "# postlist = []\n",
    "# quotelist = []\n",
    "# while len(postlist)<5000:\n",
    "#     #User\n",
    "#     users = driver.find_elements_by_class_name('Username')\n",
    "#     for user in users:\n",
    "#         userlist.append(user.text)\n",
    "    \n",
    "#     #Date\n",
    "#     dates = driver.find_elements_by_class_name('DateCreated')\n",
    "#     for date in dates:\n",
    "#         datelist.append(date.text)\n",
    "    \n",
    "#     # This is the list of all the comments\n",
    "#     posts = driver.find_elements_by_class_name('Item-Body')\n",
    "#     for post in posts:\n",
    "#         postlist.append(post.text)\n",
    "\n",
    "#     # This is the list of the blockquotes that you don't want\n",
    "#     quotes = driver.find_elements_by_class_name('Quote')\n",
    "#     for quote in quotes:\n",
    "#         quotelist.append(quote.text)\n",
    "        \n",
    "#     page = page - 1\n",
    "#     url = \"https://forums.edmunds.com/discussion/18576/general/x/edmunds-members-cars-conversations/p\" + str(page)\n",
    "\n",
    "#     driver.get(url)\n",
    "    \n"
   ]
  },
  {
   "cell_type": "code",
   "execution_count": 84,
   "metadata": {
    "collapsed": true
   },
   "outputs": [],
   "source": [
    "# # Now you have to delete quotes from the posts\n",
    "# for j in range(0,len(quotelist)):\n",
    "#     for i in range(0,len(postlist)):\n",
    "#         if (quotelist[j] in postlist[i]):\n",
    "#             postlist[i]=postlist[i].replace(quotelist[j],'')   "
   ]
  },
  {
   "cell_type": "code",
   "execution_count": 85,
   "metadata": {
    "collapsed": true
   },
   "outputs": [],
   "source": [
    "# df_raw = pd.DataFrame(datelist)\n",
    "# df_raw['Users'] = userlist\n",
    "# df_raw['Text'] = postlist\n",
    "# df_raw.columns = ['Date','User','Text']"
   ]
  },
  {
   "cell_type": "code",
   "execution_count": 88,
   "metadata": {
    "collapsed": true
   },
   "outputs": [],
   "source": [
    "# postfile_name = r'C:\\Users\\Abraham\\MSBA\\Text\\HW2\\postfile.csv'\n",
    "# df_raw.to_csv(postfile_name)"
   ]
  },
  {
   "cell_type": "code",
   "execution_count": 4,
   "metadata": {},
   "outputs": [],
   "source": [
    "#Read in post file\n",
    "df_post = pd.read_csv(r'C:\\Users\\Abraham\\MSBA\\Text\\HW2\\postfile.csv')\n",
    "df_post = df_post.drop('Unnamed: 0', axis =1)"
   ]
  },
  {
   "cell_type": "code",
   "execution_count": 5,
   "metadata": {
    "collapsed": true
   },
   "outputs": [],
   "source": [
    "#Drop all \\n in the posts\n",
    "def dropnewline (s):\n",
    "    newwords = []\n",
    "    for word in str(s).split():\n",
    "        if '\\n' in word:\n",
    "            word = word.replace('\\n',' ')\n",
    "        newwords.append(word)\n",
    "    newstring = ' '.join(newwords)\n",
    "    return newstring\n",
    "\n",
    "df_post['Text'] = df_post['Text'].map(dropnewline)"
   ]
  },
  {
   "cell_type": "code",
   "execution_count": 6,
   "metadata": {
    "collapsed": true
   },
   "outputs": [],
   "source": [
    "#Read in the car-brand list\n",
    "df_cars = pd.read_csv(r'C:\\Users\\Abraham\\MSBA\\Text\\HW2\\carlist.csv')"
   ]
  },
  {
   "cell_type": "code",
   "execution_count": 7,
   "metadata": {
    "collapsed": true
   },
   "outputs": [],
   "source": [
    "#Create dataframe of brands to use for frequency counts\n",
    "df_brandcount = pd.DataFrame(df_post['Text'])\n",
    "\n",
    "for brand in df_cars['brand'].unique():\n",
    "    brand=str(brand).lstrip(' ')\n",
    "    df_brandcount[brand] = 0\n",
    "    \n",
    "# df_brandcount"
   ]
  },
  {
   "cell_type": "code",
   "execution_count": 8,
   "metadata": {
    "collapsed": true
   },
   "outputs": [],
   "source": [
    "#Replace all car names with brand names\n",
    "def replacecars (s):\n",
    "    nocars = []\n",
    "    for word in str(s).split():\n",
    "        brand = ''\n",
    "        for car in df_cars['model'].values:\n",
    "            if car == word:\n",
    "                brand = df_cars[df_cars['model']==car].iloc[0]['brand']\n",
    "                word = word.replace(car,brand)\n",
    "        nocars.append(word)\n",
    "    justbrands_str = ' '.join(nocars)\n",
    "    return justbrands_str\n",
    "\n",
    "df_brandcount['Text'] = df_brandcount['Text'].map(replacecars)\n"
   ]
  },
  {
   "cell_type": "code",
   "execution_count": null,
   "metadata": {},
   "outputs": [],
   "source": [
    "\n"
   ]
  },
  {
   "cell_type": "code",
   "execution_count": null,
   "metadata": {},
   "outputs": [],
   "source": [
    "\n",
    "\n"
   ]
  },
  {
   "cell_type": "code",
   "execution_count": null,
   "metadata": {
    "collapsed": true
   },
   "outputs": [],
   "source": []
  },
  {
   "cell_type": "code",
   "execution_count": 21,
   "metadata": {},
   "outputs": [],
   "source": [
    "#Doesn't work\n",
    "# def brandfreq (s):\n",
    "#     for word in str(s).split():\n",
    "#         for brand in df_cars['brand'].unique():\n",
    "#             if brand == word:\n",
    "#                 df_brandcount.loc[df_brandcount['Text']==s][brand] = 1\n",
    "                \n",
    "# df_brandcount['Text'].map(brandfreq)"
   ]
  }
 ],
 "metadata": {
  "kernelspec": {
   "display_name": "Python 3",
   "language": "python",
   "name": "python3"
  },
  "language_info": {
   "codemirror_mode": {
    "name": "ipython",
    "version": 3
   },
   "file_extension": ".py",
   "mimetype": "text/x-python",
   "name": "python",
   "nbconvert_exporter": "python",
   "pygments_lexer": "ipython3",
   "version": "3.6.1"
  }
 },
 "nbformat": 4,
 "nbformat_minor": 2
}
