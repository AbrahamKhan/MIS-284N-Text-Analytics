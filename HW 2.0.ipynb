{
 "cells": [
  {
   "cell_type": "code",
   "execution_count": null,
   "metadata": {},
   "outputs": [],
   "source": [
    "# Web scraper for KanView website that provides payroll data for the state of Kansas\n",
    "# Selenium is used to handle the javascript on a website\n",
    "\n",
    "#Importing libraries\n",
    "from selenium import webdriver\n",
    "from selenium.webdriver.common.keys import Keys\n",
    "from bs4 import BeautifulSoup\n",
    "import re\n",
    "import pandas as pd\n",
    "import os     #to manipulate files\n",
    "\n"
   ]
  },
  {
   "cell_type": "code",
   "execution_count": null,
   "metadata": {},
   "outputs": [],
   "source": [
    "chrome_path = r'C:\\Users\\Abraham\\Downloads\\Apps\\chromedriver'\n",
    "# prepend it with r because of the backslash characters\n",
    "\n",
    "driver = webdriver.Chrome(chrome_path) # This will open up a chrome window\n",
    "\n",
    "page = 2557\n",
    "url = \"https://forums.edmunds.com/discussion/18576/general/x/edmunds-members-cars-conversations/p\" + str(page)\n",
    "\n",
    "driver.get(url)  # Open that website\n"
   ]
  },
  {
   "cell_type": "code",
   "execution_count": null,
   "metadata": {},
   "outputs": [],
   "source": [
    "userlist = []\n",
    "datelist = []\n",
    "postlist = []\n",
    "quotelist = []\n",
    "while len(postlist)<5000:\n",
    "    #User\n",
    "    users = driver.find_elements_by_class_name('Username')\n",
    "    for user in users:\n",
    "        userlist.append(user.text)\n",
    "    \n",
    "    #Date\n",
    "    dates = driver.find_elements_by_class_name('DateCreated')\n",
    "    for date in dates:\n",
    "        datelist.append(date.text)\n",
    "    \n",
    "    # This is the list of all the comments\n",
    "    posts = driver.find_elements_by_class_name('Item-Body')\n",
    "    for post in posts:\n",
    "        postlist.append(post.text)\n",
    "\n",
    "    # This is the list of the blockquotes that you don't want\n",
    "    quotes = driver.find_elements_by_class_name('Quote')\n",
    "    for quote in quotes:\n",
    "        quotelist.append(quote.text)\n",
    "        \n",
    "    page = page - 1\n",
    "    url = \"https://forums.edmunds.com/discussion/18576/general/x/edmunds-members-cars-conversations/p\" + str(page)\n",
    "\n",
    "    driver.get(url)\n",
    "    \n"
   ]
  },
  {
   "cell_type": "code",
   "execution_count": null,
   "metadata": {},
   "outputs": [],
   "source": [
    "# Now you have to delete quotes from the posts\n",
    "for j in range(0,len(quotelist)):\n",
    "    for i in range(0,len(postlist)):\n",
    "        if (quotelist[j] in postlist[i]):\n",
    "            postlist[i]=postlist[i].replace(quotelist[j],'')   "
   ]
  },
  {
   "cell_type": "code",
   "execution_count": null,
   "metadata": {},
   "outputs": [],
   "source": [
    "len(postlist)"
   ]
  },
  {
   "cell_type": "code",
   "execution_count": null,
   "metadata": {},
   "outputs": [],
   "source": [
    "df_raw = pd.DataFrame(datelist)\n",
    "df_raw['Users'] = userlist\n",
    "df_raw['Text'] = postlist\n",
    "df_raw.columns = ['Date','User','Text']"
   ]
  },
  {
   "cell_type": "code",
   "execution_count": null,
   "metadata": {},
   "outputs": [],
   "source": [
    "df_raw"
   ]
  },
  {
   "cell_type": "code",
   "execution_count": null,
   "metadata": {},
   "outputs": [],
   "source": [
    "postfile_name = r'C:\\Users\\Abraham\\MSBA\\Text\\HW2\\postfile.csv'\n",
    "df_raw.to_csv(postfile_name)"
   ]
  },
  {
   "cell_type": "markdown",
   "metadata": {
    "collapsed": true
   },
   "source": [
    "# 3"
   ]
  },
  {
   "cell_type": "code",
   "execution_count": 1,
   "metadata": {},
   "outputs": [],
   "source": [
    "import pandas as pd\n",
    "posts=pd.read_csv('postfile.csv',encoding='cp1252')"
   ]
  },
  {
   "cell_type": "code",
   "execution_count": 2,
   "metadata": {},
   "outputs": [
    {
     "data": {
      "text/html": [
       "<div>\n",
       "<style scoped>\n",
       "    .dataframe tbody tr th:only-of-type {\n",
       "        vertical-align: middle;\n",
       "    }\n",
       "\n",
       "    .dataframe tbody tr th {\n",
       "        vertical-align: top;\n",
       "    }\n",
       "\n",
       "    .dataframe thead th {\n",
       "        text-align: right;\n",
       "    }\n",
       "</style>\n",
       "<table border=\"1\" class=\"dataframe\">\n",
       "  <thead>\n",
       "    <tr style=\"text-align: right;\">\n",
       "      <th></th>\n",
       "      <th>Unnamed: 0</th>\n",
       "      <th>Date</th>\n",
       "      <th>User</th>\n",
       "      <th>Text</th>\n",
       "    </tr>\n",
       "  </thead>\n",
       "  <tbody>\n",
       "    <tr>\n",
       "      <th>0</th>\n",
       "      <td>0</td>\n",
       "      <td>Sep-26</td>\n",
       "      <td>snakeweasel</td>\n",
       "      <td>I went and checked and yes the 59k one is an...</td>\n",
       "    </tr>\n",
       "    <tr>\n",
       "      <th>1</th>\n",
       "      <td>1</td>\n",
       "      <td>Sep-26</td>\n",
       "      <td>snakeweasel</td>\n",
       "      <td>I would have told them that I used to but I ...</td>\n",
       "    </tr>\n",
       "  </tbody>\n",
       "</table>\n",
       "</div>"
      ],
      "text/plain": [
       "   Unnamed: 0    Date         User  \\\n",
       "0           0  Sep-26  snakeweasel   \n",
       "1           1  Sep-26  snakeweasel   \n",
       "\n",
       "                                                Text  \n",
       "0    I went and checked and yes the 59k one is an...  \n",
       "1    I would have told them that I used to but I ...  "
      ]
     },
     "execution_count": 2,
     "metadata": {},
     "output_type": "execute_result"
    }
   ],
   "source": [
    "posts = posts.replace(r'\\n',' ', regex=True)\n",
    "posts = posts.replace(r'\\r',' ', regex=True)\n",
    "posts.head(2)"
   ]
  },
  {
   "cell_type": "code",
   "execution_count": 3,
   "metadata": {},
   "outputs": [],
   "source": [
    "import nltk\n",
    "import re\n",
    "from nltk.tokenize import sent_tokenize, word_tokenize"
   ]
  },
  {
   "cell_type": "code",
   "execution_count": 4,
   "metadata": {},
   "outputs": [],
   "source": [
    "\n",
    "# Concatenating entire text\n",
    "all_text=posts['Text'].str.cat(sep=' ')\n",
    "\n",
    "# Remove punctuation, digits & others, convert to lower and finally stopwords\n",
    "from string import punctuation\n",
    "for p in punctuation:\n",
    "    all_text =all_text.replace(p,'')\n",
    "all_text =re.sub('[0-9]+','',all_text)\n",
    "all_text=all_text.lower()\n",
    "all_text_list =re.findall('\\w+',all_text)\n",
    "\n",
    "\n",
    "from nltk.corpus import stopwords \n",
    "stop_words = set(stopwords.words('english'))\n",
    "all_text_list_clean = [w for w in all_text_list if not w in stop_words]\n"
   ]
  },
  {
   "cell_type": "code",
   "execution_count": 5,
   "metadata": {},
   "outputs": [],
   "source": [
    "words_in_texts=nltk.FreqDist(all_text_list_clean)"
   ]
  },
  {
   "cell_type": "code",
   "execution_count": 6,
   "metadata": {},
   "outputs": [],
   "source": [
    "words_in_texts=pd.DataFrame.from_dict(words_in_texts, orient='index', columns=['freq']).sort_values(by='freq', ascending=False)"
   ]
  },
  {
   "cell_type": "code",
   "execution_count": 7,
   "metadata": {},
   "outputs": [],
   "source": [
    "car_mapping=pd.read_csv('car-list.csv')"
   ]
  },
  {
   "cell_type": "code",
   "execution_count": 8,
   "metadata": {},
   "outputs": [],
   "source": [
    "def lowering (s):\n",
    "    return s.lower()\n",
    "car_mapping['model']=car_mapping['model'].map(lowering)\n",
    "car_mapping['brand']=car_mapping['brand'].map(lowering)"
   ]
  },
  {
   "cell_type": "code",
   "execution_count": 9,
   "metadata": {},
   "outputs": [],
   "source": [
    "check1=pd.Series(words_in_texts.index.values)"
   ]
  },
  {
   "cell_type": "code",
   "execution_count": 10,
   "metadata": {},
   "outputs": [],
   "source": [
    "check2=pd.Series(car_mapping['model'])"
   ]
  },
  {
   "cell_type": "code",
   "execution_count": 11,
   "metadata": {},
   "outputs": [
    {
     "data": {
      "text/plain": [
       "133"
      ]
     },
     "execution_count": 11,
     "metadata": {},
     "output_type": "execute_result"
    }
   ],
   "source": [
    "sum(check1.isin(check2))"
   ]
  },
  {
   "cell_type": "code",
   "execution_count": 12,
   "metadata": {},
   "outputs": [],
   "source": [
    "a = ['a', 'b', 'c', 'd', 'b']\n",
    "b = set(a)"
   ]
  },
  {
   "cell_type": "code",
   "execution_count": 13,
   "metadata": {},
   "outputs": [
    {
     "data": {
      "text/plain": [
       "['d', 'c', 'b', 'a']"
      ]
     },
     "execution_count": 13,
     "metadata": {},
     "output_type": "execute_result"
    }
   ],
   "source": [
    "list(b)"
   ]
  },
  {
   "cell_type": "markdown",
   "metadata": {},
   "source": [
    "### 3 Task A"
   ]
  },
  {
   "cell_type": "code",
   "execution_count": 14,
   "metadata": {},
   "outputs": [],
   "source": [
    "from string import punctuation\n",
    "def unique_words(s):\n",
    "# Remove punctuation, digits & others, convert to lower and finally stopwords\n",
    "    s=str(s)\n",
    "    for p in punctuation:\n",
    "        s =s.replace(p,'')\n",
    "    s=s.lower()\n",
    "    return list(set(re.findall('\\w+',s)))\n",
    "\n",
    "posts['unique_words_list']=posts['Text'].map(unique_words)"
   ]
  },
  {
   "cell_type": "code",
   "execution_count": 15,
   "metadata": {},
   "outputs": [],
   "source": [
    "# Mapping  to brand"
   ]
  },
  {
   "cell_type": "code",
   "execution_count": 16,
   "metadata": {},
   "outputs": [],
   "source": [
    "car_mapping=pd.read_csv('car-list.csv')\n",
    "def lowering (s):\n",
    "    s=s.rstrip()\n",
    "    return s.lower()\n",
    "car_mapping['model']=car_mapping['model'].map(lowering)\n",
    "car_mapping['brand']=car_mapping['brand'].map(lowering)"
   ]
  },
  {
   "cell_type": "code",
   "execution_count": 36,
   "metadata": {},
   "outputs": [],
   "source": [
    "def mentioned_brands(list_1):\n",
    "    list_i=pd.DataFrame(list_1)\n",
    "    mask=car_mapping['model'].isin(pd.Series(list_1))\n",
    "    joiner=car_mapping[mask]\n",
    "    joined=joiner.merge(list_i, left_on='model', right_on=0)\n",
    "    out=set(list(joined['brand']))\n",
    "    return list(out)\n",
    "\n",
    "posts['unique_brands']=posts['unique_words_list'].map(mentioned_brands)\n"
   ]
  },
  {
   "cell_type": "code",
   "execution_count": 37,
   "metadata": {},
   "outputs": [],
   "source": [
    "unique_brands_superlist=posts['unique_brands'].sum()\n",
    "unique_brands=nltk.FreqDist(unique_brands_superlist)\n",
    "unique_brands=pd.DataFrame.from_dict(unique_brands, orient='index', columns=['freq']).sort_values(by='freq', ascending=False)"
   ]
  },
  {
   "cell_type": "code",
   "execution_count": 38,
   "metadata": {},
   "outputs": [
    {
     "data": {
      "text/plain": [
       "<matplotlib.axes._subplots.AxesSubplot at 0x20ae1c8b828>"
      ]
     },
     "execution_count": 38,
     "metadata": {},
     "output_type": "execute_result"
    },
    {
     "data": {
      "image/png": "[encoded data removed]",
      "text/plain": [
       "<Figure size 432x288 with 1 Axes>"
      ]
     },
     "metadata": {
      "needs_background": "light"
     },
     "output_type": "display_data"
    }
   ],
   "source": [
    "unique_brands[:10].plot(kind='bar')"
   ]
  },
  {
   "cell_type": "code",
   "execution_count": 39,
   "metadata": {},
   "outputs": [
    {
     "data": {
      "text/plain": [
       "array([' mercedes-benz', ' lexus', ' hyundai', ' mazda', ' peugeot',\n",
       "       ' chrysler', ' ford', ' volkswagen', ' audi', ' honda', ' nissan',\n",
       "       ' subaru', ' chevrolet', ' infiniti', ' bmw', ' kia',\n",
       "       ' alfa romeo', ' mini', ' jeep', ' fiat', ' rover', ' volvo',\n",
       "       ' toyota', ' dodge', ' renault', ' saab', ' jaguar', ' mitsubishi',\n",
       "       ' porsche', ' land rover', ' suzuki', ' daewoo', ' opel', ' smart',\n",
       "       ' seat'], dtype=object)"
      ]
     },
     "execution_count": 39,
     "metadata": {},
     "output_type": "execute_result"
    }
   ],
   "source": [
    "unique_brands.index.values"
   ]
  },
  {
   "cell_type": "code",
   "execution_count": 40,
   "metadata": {},
   "outputs": [],
   "source": [
    "import numpy as np\n",
    "from itertools import combinations, groupby\n",
    "from collections import Counter\n",
    "\n",
    "# Sample data\n",
    "unique_brands_list = list(unique_brands.index.values)\n"
   ]
  },
  {
   "cell_type": "code",
   "execution_count": 41,
   "metadata": {},
   "outputs": [],
   "source": [
    "def combination_of_2(set):\n",
    "    return list(combinations(set,2))\n",
    "\n",
    "posts['combinations_of_2']=posts['unique_brands'].map(combination_of_2)"
   ]
  },
  {
   "cell_type": "code",
   "execution_count": 42,
   "metadata": {},
   "outputs": [],
   "source": [
    "set_of_1=posts['unique_brands'].sum()\n",
    "set_of_2=posts['combinations_of_2'].sum()"
   ]
  },
  {
   "cell_type": "code",
   "execution_count": 43,
   "metadata": {},
   "outputs": [],
   "source": [
    "from collections import Counter\n",
    "count_1s=Counter(set_of_1)"
   ]
  },
  {
   "cell_type": "code",
   "execution_count": 44,
   "metadata": {},
   "outputs": [],
   "source": [
    "count_2s=Counter(set_of_2)"
   ]
  },
  {
   "cell_type": "code",
   "execution_count": 46,
   "metadata": {},
   "outputs": [],
   "source": [
    "unique_name=unique_brands.index.values\n",
    "matrix = pd.DataFrame(index=unique_name, columns=unique_name)"
   ]
  },
  {
   "cell_type": "code",
   "execution_count": 101,
   "metadata": {},
   "outputs": [],
   "source": [
    "for row in unique_name:\n",
    "       for column in unique_name:\n",
    "            if row==column:\n",
    "                matrix.loc[row,column]=0\n",
    "            else:\n",
    "                matrix.loc[row,column]=(count_2s[(row, column)]+count_2s[(column, row)])/(count_1s[row]*count_1s[column])\n",
    "            "
   ]
  },
  {
   "cell_type": "code",
   "execution_count": 102,
   "metadata": {},
   "outputs": [
    {
     "data": {
      "text/html": [
       "<div>\n",
       "<style scoped>\n",
       "    .dataframe tbody tr th:only-of-type {\n",
       "        vertical-align: middle;\n",
       "    }\n",
       "\n",
       "    .dataframe tbody tr th {\n",
       "        vertical-align: top;\n",
       "    }\n",
       "\n",
       "    .dataframe thead th {\n",
       "        text-align: right;\n",
       "    }\n",
       "</style>\n",
       "<table border=\"1\" class=\"dataframe\">\n",
       "  <thead>\n",
       "    <tr style=\"text-align: right;\">\n",
       "      <th></th>\n",
       "      <th>mercedes-benz</th>\n",
       "      <th>lexus</th>\n",
       "      <th>hyundai</th>\n",
       "      <th>mazda</th>\n",
       "      <th>peugeot</th>\n",
       "      <th>chrysler</th>\n",
       "      <th>ford</th>\n",
       "      <th>volkswagen</th>\n",
       "      <th>audi</th>\n",
       "      <th>honda</th>\n",
       "      <th>...</th>\n",
       "      <th>saab</th>\n",
       "      <th>jaguar</th>\n",
       "      <th>mitsubishi</th>\n",
       "      <th>porsche</th>\n",
       "      <th>land rover</th>\n",
       "      <th>suzuki</th>\n",
       "      <th>daewoo</th>\n",
       "      <th>opel</th>\n",
       "      <th>smart</th>\n",
       "      <th>seat</th>\n",
       "    </tr>\n",
       "  </thead>\n",
       "  <tbody>\n",
       "    <tr>\n",
       "      <th>mercedes-benz</th>\n",
       "      <td>0.000000</td>\n",
       "      <td>0.000240</td>\n",
       "      <td>0.000175</td>\n",
       "      <td>0.000246</td>\n",
       "      <td>0.000176</td>\n",
       "      <td>0.000178</td>\n",
       "      <td>0.000218</td>\n",
       "      <td>0.000264</td>\n",
       "      <td>0.000246</td>\n",
       "      <td>0.000209</td>\n",
       "      <td>...</td>\n",
       "      <td>0.000281</td>\n",
       "      <td>0.000263</td>\n",
       "      <td>0.000281</td>\n",
       "      <td>0.000234</td>\n",
       "      <td>0.000281</td>\n",
       "      <td>0.000211</td>\n",
       "      <td>0.000281</td>\n",
       "      <td>0.000281</td>\n",
       "      <td>0.000281</td>\n",
       "      <td>0.000140</td>\n",
       "    </tr>\n",
       "    <tr>\n",
       "      <th>lexus</th>\n",
       "      <td>0.000240</td>\n",
       "      <td>0.000000</td>\n",
       "      <td>0.000164</td>\n",
       "      <td>0.000270</td>\n",
       "      <td>0.000174</td>\n",
       "      <td>0.000183</td>\n",
       "      <td>0.000233</td>\n",
       "      <td>0.000320</td>\n",
       "      <td>0.000320</td>\n",
       "      <td>0.000212</td>\n",
       "      <td>...</td>\n",
       "      <td>0.000309</td>\n",
       "      <td>0.000180</td>\n",
       "      <td>0.000263</td>\n",
       "      <td>0.000275</td>\n",
       "      <td>0.000206</td>\n",
       "      <td>0.000309</td>\n",
       "      <td>0.000309</td>\n",
       "      <td>0.000413</td>\n",
       "      <td>0.000275</td>\n",
       "      <td>0.000206</td>\n",
       "    </tr>\n",
       "    <tr>\n",
       "      <th>hyundai</th>\n",
       "      <td>0.000175</td>\n",
       "      <td>0.000164</td>\n",
       "      <td>0.000000</td>\n",
       "      <td>0.000341</td>\n",
       "      <td>0.000559</td>\n",
       "      <td>0.000661</td>\n",
       "      <td>0.000049</td>\n",
       "      <td>0.000102</td>\n",
       "      <td>0.000067</td>\n",
       "      <td>0.000066</td>\n",
       "      <td>...</td>\n",
       "      <td>0.000135</td>\n",
       "      <td>0.000135</td>\n",
       "      <td>0.000098</td>\n",
       "      <td>0.000180</td>\n",
       "      <td>0.000000</td>\n",
       "      <td>0.000270</td>\n",
       "      <td>0.000270</td>\n",
       "      <td>0.000000</td>\n",
       "      <td>0.000000</td>\n",
       "      <td>0.000000</td>\n",
       "    </tr>\n",
       "    <tr>\n",
       "      <th>mazda</th>\n",
       "      <td>0.000246</td>\n",
       "      <td>0.000270</td>\n",
       "      <td>0.000341</td>\n",
       "      <td>0.000000</td>\n",
       "      <td>0.000136</td>\n",
       "      <td>0.000138</td>\n",
       "      <td>0.000229</td>\n",
       "      <td>0.000356</td>\n",
       "      <td>0.000356</td>\n",
       "      <td>0.000260</td>\n",
       "      <td>...</td>\n",
       "      <td>0.000627</td>\n",
       "      <td>0.000313</td>\n",
       "      <td>0.000570</td>\n",
       "      <td>0.000209</td>\n",
       "      <td>0.000940</td>\n",
       "      <td>0.000313</td>\n",
       "      <td>0.000000</td>\n",
       "      <td>0.000835</td>\n",
       "      <td>0.000000</td>\n",
       "      <td>0.000627</td>\n",
       "    </tr>\n",
       "    <tr>\n",
       "      <th>peugeot</th>\n",
       "      <td>0.000176</td>\n",
       "      <td>0.000174</td>\n",
       "      <td>0.000559</td>\n",
       "      <td>0.000136</td>\n",
       "      <td>0.000000</td>\n",
       "      <td>0.000844</td>\n",
       "      <td>0.000057</td>\n",
       "      <td>0.000102</td>\n",
       "      <td>0.000451</td>\n",
       "      <td>0.000084</td>\n",
       "      <td>...</td>\n",
       "      <td>0.000232</td>\n",
       "      <td>0.000261</td>\n",
       "      <td>0.000759</td>\n",
       "      <td>0.000232</td>\n",
       "      <td>0.000000</td>\n",
       "      <td>0.000348</td>\n",
       "      <td>0.000348</td>\n",
       "      <td>0.000000</td>\n",
       "      <td>0.000000</td>\n",
       "      <td>0.000000</td>\n",
       "    </tr>\n",
       "  </tbody>\n",
       "</table>\n",
       "<p>5 rows × 35 columns</p>\n",
       "</div>"
      ],
      "text/plain": [
       "                 mercedes-benz     lexus   hyundai     mazda   peugeot  \\\n",
       " mercedes-benz        0.000000  0.000240  0.000175  0.000246  0.000176   \n",
       " lexus                0.000240  0.000000  0.000164  0.000270  0.000174   \n",
       " hyundai              0.000175  0.000164  0.000000  0.000341  0.000559   \n",
       " mazda                0.000246  0.000270  0.000341  0.000000  0.000136   \n",
       " peugeot              0.000176  0.000174  0.000559  0.000136  0.000000   \n",
       "\n",
       "                 chrysler      ford   volkswagen      audi     honda  \\\n",
       " mercedes-benz   0.000178  0.000218     0.000264  0.000246  0.000209   \n",
       " lexus           0.000183  0.000233     0.000320  0.000320  0.000212   \n",
       " hyundai         0.000661  0.000049     0.000102  0.000067  0.000066   \n",
       " mazda           0.000138  0.000229     0.000356  0.000356  0.000260   \n",
       " peugeot         0.000844  0.000057     0.000102  0.000451  0.000084   \n",
       "\n",
       "                  ...         saab    jaguar   mitsubishi   porsche  \\\n",
       " mercedes-benz    ...     0.000281  0.000263     0.000281  0.000234   \n",
       " lexus            ...     0.000309  0.000180     0.000263  0.000275   \n",
       " hyundai          ...     0.000135  0.000135     0.000098  0.000180   \n",
       " mazda            ...     0.000627  0.000313     0.000570  0.000209   \n",
       " peugeot          ...     0.000232  0.000261     0.000759  0.000232   \n",
       "\n",
       "                 land rover    suzuki    daewoo      opel     smart      seat  \n",
       " mercedes-benz     0.000281  0.000211  0.000281  0.000281  0.000281  0.000140  \n",
       " lexus             0.000206  0.000309  0.000309  0.000413  0.000275  0.000206  \n",
       " hyundai           0.000000  0.000270  0.000270  0.000000  0.000000  0.000000  \n",
       " mazda             0.000940  0.000313  0.000000  0.000835  0.000000  0.000627  \n",
       " peugeot           0.000000  0.000348  0.000348  0.000000  0.000000  0.000000  \n",
       "\n",
       "[5 rows x 35 columns]"
      ]
     },
     "execution_count": 102,
     "metadata": {},
     "output_type": "execute_result"
    }
   ],
   "source": [
    "matrix.head(5)"
   ]
  },
  {
   "cell_type": "code",
   "execution_count": 103,
   "metadata": {},
   "outputs": [
    {
     "data": {
      "text/html": [
       "<div>\n",
       "<style scoped>\n",
       "    .dataframe tbody tr th:only-of-type {\n",
       "        vertical-align: middle;\n",
       "    }\n",
       "\n",
       "    .dataframe tbody tr th {\n",
       "        vertical-align: top;\n",
       "    }\n",
       "\n",
       "    .dataframe thead th {\n",
       "        text-align: right;\n",
       "    }\n",
       "</style>\n",
       "<table border=\"1\" class=\"dataframe\">\n",
       "  <thead>\n",
       "    <tr style=\"text-align: right;\">\n",
       "      <th></th>\n",
       "      <th>mercedes-benz</th>\n",
       "      <th>lexus</th>\n",
       "      <th>hyundai</th>\n",
       "      <th>mazda</th>\n",
       "      <th>peugeot</th>\n",
       "      <th>chrysler</th>\n",
       "      <th>ford</th>\n",
       "      <th>volkswagen</th>\n",
       "      <th>audi</th>\n",
       "      <th>honda</th>\n",
       "      <th>...</th>\n",
       "      <th>saab</th>\n",
       "      <th>jaguar</th>\n",
       "      <th>mitsubishi</th>\n",
       "      <th>porsche</th>\n",
       "      <th>land rover</th>\n",
       "      <th>suzuki</th>\n",
       "      <th>daewoo</th>\n",
       "      <th>opel</th>\n",
       "      <th>smart</th>\n",
       "      <th>seat</th>\n",
       "    </tr>\n",
       "  </thead>\n",
       "  <tbody>\n",
       "    <tr>\n",
       "      <th>mercedes-benz</th>\n",
       "      <td>0.000000</td>\n",
       "      <td>0.000240</td>\n",
       "      <td>0.000175</td>\n",
       "      <td>0.000246</td>\n",
       "      <td>0.000176</td>\n",
       "      <td>0.000178</td>\n",
       "      <td>0.000218</td>\n",
       "      <td>0.000264</td>\n",
       "      <td>0.000246</td>\n",
       "      <td>0.000209</td>\n",
       "      <td>...</td>\n",
       "      <td>0.000281</td>\n",
       "      <td>0.000263</td>\n",
       "      <td>0.000281</td>\n",
       "      <td>0.000234</td>\n",
       "      <td>0.000281</td>\n",
       "      <td>0.000211</td>\n",
       "      <td>0.000281</td>\n",
       "      <td>0.000281</td>\n",
       "      <td>0.000281</td>\n",
       "      <td>0.000140</td>\n",
       "    </tr>\n",
       "    <tr>\n",
       "      <th>lexus</th>\n",
       "      <td>0.000240</td>\n",
       "      <td>0.000000</td>\n",
       "      <td>0.000164</td>\n",
       "      <td>0.000270</td>\n",
       "      <td>0.000174</td>\n",
       "      <td>0.000183</td>\n",
       "      <td>0.000233</td>\n",
       "      <td>0.000320</td>\n",
       "      <td>0.000320</td>\n",
       "      <td>0.000212</td>\n",
       "      <td>...</td>\n",
       "      <td>0.000309</td>\n",
       "      <td>0.000180</td>\n",
       "      <td>0.000263</td>\n",
       "      <td>0.000275</td>\n",
       "      <td>0.000206</td>\n",
       "      <td>0.000309</td>\n",
       "      <td>0.000309</td>\n",
       "      <td>0.000413</td>\n",
       "      <td>0.000275</td>\n",
       "      <td>0.000206</td>\n",
       "    </tr>\n",
       "    <tr>\n",
       "      <th>hyundai</th>\n",
       "      <td>0.000175</td>\n",
       "      <td>0.000164</td>\n",
       "      <td>0.000000</td>\n",
       "      <td>0.000341</td>\n",
       "      <td>0.000559</td>\n",
       "      <td>0.000661</td>\n",
       "      <td>0.000049</td>\n",
       "      <td>0.000102</td>\n",
       "      <td>0.000067</td>\n",
       "      <td>0.000066</td>\n",
       "      <td>...</td>\n",
       "      <td>0.000135</td>\n",
       "      <td>0.000135</td>\n",
       "      <td>0.000098</td>\n",
       "      <td>0.000180</td>\n",
       "      <td>0.000000</td>\n",
       "      <td>0.000270</td>\n",
       "      <td>0.000270</td>\n",
       "      <td>0.000000</td>\n",
       "      <td>0.000000</td>\n",
       "      <td>0.000000</td>\n",
       "    </tr>\n",
       "    <tr>\n",
       "      <th>mazda</th>\n",
       "      <td>0.000246</td>\n",
       "      <td>0.000270</td>\n",
       "      <td>0.000341</td>\n",
       "      <td>0.000000</td>\n",
       "      <td>0.000136</td>\n",
       "      <td>0.000138</td>\n",
       "      <td>0.000229</td>\n",
       "      <td>0.000356</td>\n",
       "      <td>0.000356</td>\n",
       "      <td>0.000260</td>\n",
       "      <td>...</td>\n",
       "      <td>0.000627</td>\n",
       "      <td>0.000313</td>\n",
       "      <td>0.000570</td>\n",
       "      <td>0.000209</td>\n",
       "      <td>0.000940</td>\n",
       "      <td>0.000313</td>\n",
       "      <td>0.000000</td>\n",
       "      <td>0.000835</td>\n",
       "      <td>0.000000</td>\n",
       "      <td>0.000627</td>\n",
       "    </tr>\n",
       "    <tr>\n",
       "      <th>peugeot</th>\n",
       "      <td>0.000176</td>\n",
       "      <td>0.000174</td>\n",
       "      <td>0.000559</td>\n",
       "      <td>0.000136</td>\n",
       "      <td>0.000000</td>\n",
       "      <td>0.000844</td>\n",
       "      <td>0.000057</td>\n",
       "      <td>0.000102</td>\n",
       "      <td>0.000451</td>\n",
       "      <td>0.000084</td>\n",
       "      <td>...</td>\n",
       "      <td>0.000232</td>\n",
       "      <td>0.000261</td>\n",
       "      <td>0.000759</td>\n",
       "      <td>0.000232</td>\n",
       "      <td>0.000000</td>\n",
       "      <td>0.000348</td>\n",
       "      <td>0.000348</td>\n",
       "      <td>0.000000</td>\n",
       "      <td>0.000000</td>\n",
       "      <td>0.000000</td>\n",
       "    </tr>\n",
       "    <tr>\n",
       "      <th>chrysler</th>\n",
       "      <td>0.000178</td>\n",
       "      <td>0.000183</td>\n",
       "      <td>0.000661</td>\n",
       "      <td>0.000138</td>\n",
       "      <td>0.000844</td>\n",
       "      <td>0.000000</td>\n",
       "      <td>0.000819</td>\n",
       "      <td>0.000088</td>\n",
       "      <td>0.000081</td>\n",
       "      <td>0.000091</td>\n",
       "      <td>...</td>\n",
       "      <td>0.000069</td>\n",
       "      <td>0.000104</td>\n",
       "      <td>0.000303</td>\n",
       "      <td>0.000000</td>\n",
       "      <td>0.000000</td>\n",
       "      <td>0.000000</td>\n",
       "      <td>0.000417</td>\n",
       "      <td>0.000556</td>\n",
       "      <td>0.000000</td>\n",
       "      <td>0.000833</td>\n",
       "    </tr>\n",
       "    <tr>\n",
       "      <th>ford</th>\n",
       "      <td>0.000218</td>\n",
       "      <td>0.000233</td>\n",
       "      <td>0.000049</td>\n",
       "      <td>0.000229</td>\n",
       "      <td>0.000057</td>\n",
       "      <td>0.000819</td>\n",
       "      <td>0.000000</td>\n",
       "      <td>0.000194</td>\n",
       "      <td>0.000188</td>\n",
       "      <td>0.000181</td>\n",
       "      <td>...</td>\n",
       "      <td>0.000091</td>\n",
       "      <td>0.000136</td>\n",
       "      <td>0.000791</td>\n",
       "      <td>0.000725</td>\n",
       "      <td>0.000000</td>\n",
       "      <td>0.000543</td>\n",
       "      <td>0.001087</td>\n",
       "      <td>0.001449</td>\n",
       "      <td>0.000000</td>\n",
       "      <td>0.002174</td>\n",
       "    </tr>\n",
       "    <tr>\n",
       "      <th>volkswagen</th>\n",
       "      <td>0.000264</td>\n",
       "      <td>0.000320</td>\n",
       "      <td>0.000102</td>\n",
       "      <td>0.000356</td>\n",
       "      <td>0.000102</td>\n",
       "      <td>0.000088</td>\n",
       "      <td>0.000194</td>\n",
       "      <td>0.000000</td>\n",
       "      <td>0.000880</td>\n",
       "      <td>0.000337</td>\n",
       "      <td>...</td>\n",
       "      <td>0.000287</td>\n",
       "      <td>0.001720</td>\n",
       "      <td>0.000417</td>\n",
       "      <td>0.000382</td>\n",
       "      <td>0.000573</td>\n",
       "      <td>0.001147</td>\n",
       "      <td>0.000573</td>\n",
       "      <td>0.000765</td>\n",
       "      <td>0.000000</td>\n",
       "      <td>0.000000</td>\n",
       "    </tr>\n",
       "    <tr>\n",
       "      <th>audi</th>\n",
       "      <td>0.000246</td>\n",
       "      <td>0.000320</td>\n",
       "      <td>0.000067</td>\n",
       "      <td>0.000356</td>\n",
       "      <td>0.000451</td>\n",
       "      <td>0.000081</td>\n",
       "      <td>0.000188</td>\n",
       "      <td>0.000880</td>\n",
       "      <td>0.000000</td>\n",
       "      <td>0.000181</td>\n",
       "      <td>...</td>\n",
       "      <td>0.000225</td>\n",
       "      <td>0.000169</td>\n",
       "      <td>0.000246</td>\n",
       "      <td>0.000901</td>\n",
       "      <td>0.000676</td>\n",
       "      <td>0.000000</td>\n",
       "      <td>0.000000</td>\n",
       "      <td>0.000000</td>\n",
       "      <td>0.000000</td>\n",
       "      <td>0.000000</td>\n",
       "    </tr>\n",
       "    <tr>\n",
       "      <th>honda</th>\n",
       "      <td>0.000209</td>\n",
       "      <td>0.000212</td>\n",
       "      <td>0.000066</td>\n",
       "      <td>0.000260</td>\n",
       "      <td>0.000084</td>\n",
       "      <td>0.000091</td>\n",
       "      <td>0.000181</td>\n",
       "      <td>0.000337</td>\n",
       "      <td>0.000181</td>\n",
       "      <td>0.000000</td>\n",
       "      <td>...</td>\n",
       "      <td>0.000266</td>\n",
       "      <td>0.002196</td>\n",
       "      <td>0.000290</td>\n",
       "      <td>0.000532</td>\n",
       "      <td>0.000799</td>\n",
       "      <td>0.001597</td>\n",
       "      <td>0.000799</td>\n",
       "      <td>0.000000</td>\n",
       "      <td>0.000000</td>\n",
       "      <td>0.000000</td>\n",
       "    </tr>\n",
       "  </tbody>\n",
       "</table>\n",
       "<p>10 rows × 35 columns</p>\n",
       "</div>"
      ],
      "text/plain": [
       "                 mercedes-benz     lexus   hyundai     mazda   peugeot  \\\n",
       " mercedes-benz        0.000000  0.000240  0.000175  0.000246  0.000176   \n",
       " lexus                0.000240  0.000000  0.000164  0.000270  0.000174   \n",
       " hyundai              0.000175  0.000164  0.000000  0.000341  0.000559   \n",
       " mazda                0.000246  0.000270  0.000341  0.000000  0.000136   \n",
       " peugeot              0.000176  0.000174  0.000559  0.000136  0.000000   \n",
       " chrysler             0.000178  0.000183  0.000661  0.000138  0.000844   \n",
       " ford                 0.000218  0.000233  0.000049  0.000229  0.000057   \n",
       " volkswagen           0.000264  0.000320  0.000102  0.000356  0.000102   \n",
       " audi                 0.000246  0.000320  0.000067  0.000356  0.000451   \n",
       " honda                0.000209  0.000212  0.000066  0.000260  0.000084   \n",
       "\n",
       "                 chrysler      ford   volkswagen      audi     honda  \\\n",
       " mercedes-benz   0.000178  0.000218     0.000264  0.000246  0.000209   \n",
       " lexus           0.000183  0.000233     0.000320  0.000320  0.000212   \n",
       " hyundai         0.000661  0.000049     0.000102  0.000067  0.000066   \n",
       " mazda           0.000138  0.000229     0.000356  0.000356  0.000260   \n",
       " peugeot         0.000844  0.000057     0.000102  0.000451  0.000084   \n",
       " chrysler        0.000000  0.000819     0.000088  0.000081  0.000091   \n",
       " ford            0.000819  0.000000     0.000194  0.000188  0.000181   \n",
       " volkswagen      0.000088  0.000194     0.000000  0.000880  0.000337   \n",
       " audi            0.000081  0.000188     0.000880  0.000000  0.000181   \n",
       " honda           0.000091  0.000181     0.000337  0.000181  0.000000   \n",
       "\n",
       "                  ...         saab    jaguar   mitsubishi   porsche  \\\n",
       " mercedes-benz    ...     0.000281  0.000263     0.000281  0.000234   \n",
       " lexus            ...     0.000309  0.000180     0.000263  0.000275   \n",
       " hyundai          ...     0.000135  0.000135     0.000098  0.000180   \n",
       " mazda            ...     0.000627  0.000313     0.000570  0.000209   \n",
       " peugeot          ...     0.000232  0.000261     0.000759  0.000232   \n",
       " chrysler         ...     0.000069  0.000104     0.000303  0.000000   \n",
       " ford             ...     0.000091  0.000136     0.000791  0.000725   \n",
       " volkswagen       ...     0.000287  0.001720     0.000417  0.000382   \n",
       " audi             ...     0.000225  0.000169     0.000246  0.000901   \n",
       " honda            ...     0.000266  0.002196     0.000290  0.000532   \n",
       "\n",
       "                 land rover    suzuki    daewoo      opel     smart      seat  \n",
       " mercedes-benz     0.000281  0.000211  0.000281  0.000281  0.000281  0.000140  \n",
       " lexus             0.000206  0.000309  0.000309  0.000413  0.000275  0.000206  \n",
       " hyundai           0.000000  0.000270  0.000270  0.000000  0.000000  0.000000  \n",
       " mazda             0.000940  0.000313  0.000000  0.000835  0.000000  0.000627  \n",
       " peugeot           0.000000  0.000348  0.000348  0.000000  0.000000  0.000000  \n",
       " chrysler          0.000000  0.000000  0.000417  0.000556  0.000000  0.000833  \n",
       " ford              0.000000  0.000543  0.001087  0.001449  0.000000  0.002174  \n",
       " volkswagen        0.000573  0.001147  0.000573  0.000765  0.000000  0.000000  \n",
       " audi              0.000676  0.000000  0.000000  0.000000  0.000000  0.000000  \n",
       " honda             0.000799  0.001597  0.000799  0.000000  0.000000  0.000000  \n",
       "\n",
       "[10 rows x 35 columns]"
      ]
     },
     "execution_count": 103,
     "metadata": {},
     "output_type": "execute_result"
    }
   ],
   "source": [
    "matrix.iloc[:10,:]"
   ]
  },
  {
   "cell_type": "code",
   "execution_count": 114,
   "metadata": {},
   "outputs": [
    {
     "data": {
      "image/png": "[encoded data removed]",
      "text/plain": [
       "<Figure size 432x288 with 1 Axes>"
      ]
     },
     "metadata": {},
     "output_type": "display_data"
    }
   ],
   "source": [
    "matrix_1=matrix.iloc[:10,:10]\n",
    "\n",
    "import numpy as np\n",
    "from sklearn import manifold\n",
    "from sklearn.manifold import MDS\n",
    "\n",
    "mdsdf = 1/matrix_1\n",
    "\n",
    "mdsdf=mdsdf.replace(np.nan,0)\n",
    "mdsdf=mdsdf.replace(np.inf,0)\n",
    "\n",
    "mdsmatrix=mdsdf.values\n",
    "\n",
    "from matplotlib import pyplot as plt\n",
    "\n",
    "mds=manifold.MDS(n_components=2, dissimilarity ='precomputed', random_state=6)\n",
    "\n",
    "results=mds.fit(mdsmatrix)\n",
    "coords=results.embedding_\n",
    "\n",
    "x=coords[:,0]\n",
    "y=coords[:,1]\n",
    "\n",
    "ax=plt.axes([0.,0.,1.,1.])\n",
    "plt.scatter(x,y,marker='o',color='orange')\n",
    "\n",
    "n=list(mdsdf.index)\n",
    "\n",
    "for i,n in enumerate(n):\n",
    "    #print(x[i].item())\n",
    "    #print(n)\n",
    "    #print(type(y[i]))\n",
    "    if n=='kia':\n",
    "        ax.annotate(n,xy=((x[i]+.01),y[i]-.01))\n",
    "    else:\n",
    "        ax.annotate(n,xy=((x[i]+.01),y[i]-.02))\n",
    "\n",
    "plt.xticks([])\n",
    "plt.yticks([])\n",
    "\n",
    "plt.show()\n",
    "\n",
    "\n"
   ]
  },
  {
   "cell_type": "code",
   "execution_count": null,
   "metadata": {},
   "outputs": [],
   "source": []
  }
 ],
 "metadata": {
  "kernelspec": {
   "display_name": "Python [conda env:py36]",
   "language": "python",
   "name": "conda-env-py36-py"
  },
  "language_info": {
   "codemirror_mode": {
    "name": "ipython",
    "version": 3
   },
   "file_extension": ".py",
   "mimetype": "text/x-python",
   "name": "python",
   "nbconvert_exporter": "python",
   "pygments_lexer": "ipython3",
   "version": "3.6.6"
  }
 },
 "nbformat": 4,
 "nbformat_minor": 2
}
