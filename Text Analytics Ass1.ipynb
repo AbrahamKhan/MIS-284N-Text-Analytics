{
 "cells": [
  {
   "cell_type": "code",
   "execution_count": 1,
   "metadata": {},
   "outputs": [
    {
     "name": "stdout",
     "output_type": "stream",
     "text": [
      "Populating the interactive namespace from numpy and matplotlib\n"
     ]
    }
   ],
   "source": [
    "from pandas import Series, DataFrame\n",
    "import pandas as pd\n",
    "import os\n",
    "%pylab inline"
   ]
  },
  {
   "cell_type": "code",
   "execution_count": 2,
   "metadata": {
    "collapsed": true
   },
   "outputs": [],
   "source": [
    "from patsy import dmatrices"
   ]
  },
  {
   "cell_type": "code",
   "execution_count": 3,
   "metadata": {},
   "outputs": [
    {
     "name": "stdout",
     "output_type": "stream",
     "text": [
      "[nltk_data] Downloading package punkt to\n",
      "[nltk_data]     C:\\Users\\judge\\AppData\\Roaming\\nltk_data...\n",
      "[nltk_data]   Package punkt is already up-to-date!\n",
      "[nltk_data] Downloading package averaged_perceptron_tagger to\n",
      "[nltk_data]     C:\\Users\\judge\\AppData\\Roaming\\nltk_data...\n",
      "[nltk_data]   Package averaged_perceptron_tagger is already up-to-\n",
      "[nltk_data]       date!\n",
      "[nltk_data] Downloading package universal_tagset to\n",
      "[nltk_data]     C:\\Users\\judge\\AppData\\Roaming\\nltk_data...\n",
      "[nltk_data]   Package universal_tagset is already up-to-date!\n"
     ]
    }
   ],
   "source": [
    "import nltk\n",
    "import re\n",
    "import string\n",
    "from nltk.tokenize import sent_tokenize, word_tokenize\n",
    "nltk.download('punkt')\n",
    "nltk.download('averaged_perceptron_tagger')\n",
    "import nltk\n",
    "nltk.download('universal_tagset')\n",
    "from nltk.probability import FreqDist\n",
    "from nltk.stem.porter import *"
   ]
  },
  {
   "cell_type": "code",
   "execution_count": 4,
   "metadata": {},
   "outputs": [
    {
     "name": "stdout",
     "output_type": "stream",
     "text": [
      "[nltk_data] Downloading package stopwords to\n",
      "[nltk_data]     C:\\Users\\judge\\AppData\\Roaming\\nltk_data...\n",
      "[nltk_data]   Package stopwords is already up-to-date!\n"
     ]
    },
    {
     "data": {
      "text/plain": [
       "True"
      ]
     },
     "execution_count": 4,
     "metadata": {},
     "output_type": "execute_result"
    }
   ],
   "source": [
    "import nltk\n",
    "from nltk.corpus import stopwords\n",
    "nltk.download('stopwords')"
   ]
  },
  {
   "cell_type": "code",
   "execution_count": 5,
   "metadata": {
    "collapsed": true
   },
   "outputs": [],
   "source": [
    "stemmer = PorterStemmer()"
   ]
  },
  {
   "cell_type": "code",
   "execution_count": 6,
   "metadata": {
    "collapsed": true
   },
   "outputs": [],
   "source": [
    "train_rev = pd.read_csv('Train_rev1.csv')"
   ]
  },
  {
   "cell_type": "code",
   "execution_count": 7,
   "metadata": {
    "collapsed": true
   },
   "outputs": [],
   "source": [
    "rows = np.random.choice(train_rev.index.values, 2500)"
   ]
  },
  {
   "cell_type": "code",
   "execution_count": 8,
   "metadata": {
    "collapsed": true
   },
   "outputs": [],
   "source": [
    "train_rev1 = train_rev.loc[rows].copy()"
   ]
  },
  {
   "cell_type": "code",
   "execution_count": 9,
   "metadata": {
    "collapsed": true
   },
   "outputs": [],
   "source": [
    "Concat=pd.DataFrame([[train_rev1['FullDescription'].dropna().astype(str).str.cat(sep=', ') \n",
    "                         for c in train_rev1]], \n",
    "                       columns=train_rev1.columns)['FullDescription']"
   ]
  },
  {
   "cell_type": "code",
   "execution_count": 10,
   "metadata": {
    "collapsed": true
   },
   "outputs": [],
   "source": [
    "Fulldescription=Concat[0].lower()\n",
    "pattern = '[{}]'.format(re.escape(string.punctuation))\n",
    "Fulldescription1=re.sub(pattern, '', Fulldescription)\n"
   ]
  },
  {
   "cell_type": "code",
   "execution_count": 11,
   "metadata": {
    "collapsed": true
   },
   "outputs": [],
   "source": [
    "#Fulldescription1=re.sub('[0-9]', '', Fulldescription)"
   ]
  },
  {
   "cell_type": "code",
   "execution_count": 12,
   "metadata": {
    "collapsed": true
   },
   "outputs": [],
   "source": [
    "Fulldescription1=re.findall('[a-z]+', Fulldescription)\n",
    "Fulldescription1=' '.join(Fulldescription1)"
   ]
  },
  {
   "cell_type": "code",
   "execution_count": 13,
   "metadata": {},
   "outputs": [
    {
     "data": {
      "text/plain": [
       "[(u'NOUN', 215070),\n",
       " (u'VERB', 109244),\n",
       " (u'ADJ', 74108),\n",
       " (u'ADP', 66103),\n",
       " (u'DET', 53233),\n",
       " (u'CONJ', 31006),\n",
       " (u'PRON', 22216),\n",
       " (u'PRT', 21220),\n",
       " (u'ADV', 16733),\n",
       " (u'NUM', 1117),\n",
       " (u'X', 421),\n",
       " (u'.', 2)]"
      ]
     },
     "execution_count": 13,
     "metadata": {},
     "output_type": "execute_result"
    }
   ],
   "source": [
    "text=nltk.word_tokenize(Fulldescription1)\n",
    "text1=nltk.pos_tag(text,tagset='universal')\n",
    "freq=nltk.FreqDist(tag for (word, tag) in text1)\n",
    "freq\n",
    "sorted(freq.items(), key=lambda x:x[1],reverse=True)"
   ]
  },
  {
   "cell_type": "code",
   "execution_count": 14,
   "metadata": {},
   "outputs": [
    {
     "data": {
      "text/plain": [
       "[('NN', 163509),\n",
       " ('JJ', 72007),\n",
       " ('IN', 66103),\n",
       " ('DT', 51432),\n",
       " ('NNS', 51296),\n",
       " ('VB', 32999),\n",
       " ('CC', 31006),\n",
       " ('VBG', 23028),\n",
       " ('TO', 20301),\n",
       " ('VBP', 16061),\n",
       " ('RB', 15241),\n",
       " ('PRP', 12922),\n",
       " ('VBN', 12364),\n",
       " ('VBZ', 10925),\n",
       " ('MD', 10482),\n",
       " ('PRP$', 7777),\n",
       " ('VBD', 3385),\n",
       " ('WP', 1497),\n",
       " ('WDT', 1376),\n",
       " ('JJS', 1204),\n",
       " ('CD', 1117),\n",
       " ('WRB', 933),\n",
       " ('RP', 913),\n",
       " ('JJR', 897),\n",
       " ('FW', 413),\n",
       " ('RBR', 304),\n",
       " ('EX', 266),\n",
       " ('NNP', 264),\n",
       " ('RBS', 255),\n",
       " ('PDT', 159),\n",
       " ('WP$', 20),\n",
       " ('UH', 7),\n",
       " ('POS', 6),\n",
       " ('$', 2),\n",
       " ('NNPS', 1),\n",
       " ('SYM', 1)]"
      ]
     },
     "execution_count": 14,
     "metadata": {},
     "output_type": "execute_result"
    }
   ],
   "source": [
    "text=nltk.word_tokenize(Fulldescription1)\n",
    "text1=nltk.pos_tag(text)\n",
    "freq=nltk.FreqDist(tag for (word, tag) in text1)\n",
    "freq\n",
    "sorted(freq.items(), key=lambda x:x[1],reverse=True)"
   ]
  },
  {
   "cell_type": "code",
   "execution_count": 15,
   "metadata": {
    "collapsed": true
   },
   "outputs": [],
   "source": [
    "#Exlcuding stopwords\n",
    "stop_words=set(stopwords.words('english'))"
   ]
  },
  {
   "cell_type": "code",
   "execution_count": 16,
   "metadata": {
    "collapsed": true
   },
   "outputs": [],
   "source": [
    "Fulldescription1_fil=[w for w in text if not w in stop_words]"
   ]
  },
  {
   "cell_type": "code",
   "execution_count": 17,
   "metadata": {},
   "outputs": [
    {
     "data": {
      "text/plain": [
       "[(u'NOUN', 208043),\n",
       " (u'ADJ', 76374),\n",
       " (u'VERB', 73374),\n",
       " (u'ADV', 13796),\n",
       " (u'ADP', 6343),\n",
       " (u'NUM', 1166),\n",
       " (u'PRON', 711),\n",
       " (u'X', 564),\n",
       " (u'CONJ', 431),\n",
       " (u'DET', 364),\n",
       " (u'PRT', 96)]"
      ]
     },
     "execution_count": 17,
     "metadata": {},
     "output_type": "execute_result"
    }
   ],
   "source": [
    "Fulldescription2=\" \".join(Fulldescription1_fil)\n",
    "text2=nltk.word_tokenize(Fulldescription2)\n",
    "text2=nltk.pos_tag(text2,tagset='universal')\n",
    "freq2=nltk.FreqDist(tag for (word, tag) in text2)\n",
    "sorted(freq2.items(), key=lambda x:x[1],reverse=True)"
   ]
  },
  {
   "cell_type": "markdown",
   "metadata": {},
   "source": [
    "#A2 wRITE ABOUT WHETHER IT AGREES WITH ZIPFS LAW "
   ]
  },
  {
   "cell_type": "code",
   "execution_count": 18,
   "metadata": {},
   "outputs": [
    {
     "data": {
      "text/plain": [
       "FreqDist({('and', 'CC'): 26761, ('the', 'DT'): 21353, ('to', 'TO'): 20301, ('a', 'DT'): 15730, ('of', 'IN'): 14676, ('in', 'IN'): 10443, ('for', 'IN'): 8941, ('with', 'IN'): 7218, ('you', 'PRP'): 7082, ('will', 'MD'): 6693, ...})"
      ]
     },
     "execution_count": 18,
     "metadata": {},
     "output_type": "execute_result"
    }
   ],
   "source": [
    "A2=nltk.FreqDist(text1)\n",
    "A2"
   ]
  },
  {
   "cell_type": "code",
   "execution_count": 19,
   "metadata": {
    "collapsed": true
   },
   "outputs": [],
   "source": [
    "pylab.rcParams['figure.figsize'] = (20, 8)\n"
   ]
  },
  {
   "cell_type": "code",
   "execution_count": 20,
   "metadata": {},
   "outputs": [
    {
     "data": {
      "image/png": "[encoded data removed]",
      "text/plain": [
       "<Figure size 1440x576 with 1 Axes>"
      ]
     },
     "metadata": {},
     "output_type": "display_data"
    }
   ],
   "source": [
    "A2.plot(100)"
   ]
  },
  {
   "cell_type": "markdown",
   "metadata": {},
   "source": [
    "Satisifes Zipf's law: \n",
    "(1)few words occur very frequently\n",
    "(2)medium number of words have medium frequency\n",
    "(3)Many words occur very infrequently"
   ]
  },
  {
   "cell_type": "code",
   "execution_count": 21,
   "metadata": {
    "collapsed": true
   },
   "outputs": [],
   "source": [
    "Freq=pd.DataFrame(nltk.word_tokenize(Fulldescription1),columns=['Word'])"
   ]
  },
  {
   "cell_type": "code",
   "execution_count": 22,
   "metadata": {
    "collapsed": true
   },
   "outputs": [],
   "source": [
    "Freq1=pd.DataFrame(Freq['Word'].value_counts())"
   ]
  },
  {
   "cell_type": "code",
   "execution_count": 23,
   "metadata": {
    "collapsed": true
   },
   "outputs": [],
   "source": [
    "Freq1['Rank']=Freq1['Word'].rank(ascending=False)"
   ]
  },
  {
   "cell_type": "code",
   "execution_count": 24,
   "metadata": {
    "collapsed": true
   },
   "outputs": [],
   "source": [
    "Freq1['Wordcount_ln']=log(Freq1['Word'])\n",
    "Freq1['Rank_ln']=log(Freq1['Rank'])"
   ]
  },
  {
   "cell_type": "code",
   "execution_count": 25,
   "metadata": {},
   "outputs": [
    {
     "data": {
      "text/plain": [
       "Text(0,0.5,'log(Rank)')"
      ]
     },
     "execution_count": 25,
     "metadata": {},
     "output_type": "execute_result"
    },
    {
     "data": {
      "image/png": "[encoded data removed]",
      "text/plain": [
       "<Figure size 1440x576 with 1 Axes>"
      ]
     },
     "metadata": {},
     "output_type": "display_data"
    }
   ],
   "source": [
    "plt.plot(Freq1['Wordcount_ln'],Freq1['Rank_ln'])\n",
    "xlabel(\"log(wordcount)\")\n",
    "ylabel(\"log(Rank)\")\n"
   ]
  },
  {
   "cell_type": "code",
   "execution_count": 26,
   "metadata": {},
   "outputs": [
    {
     "data": {
      "image/png": "[encoded data removed]",
      "text/plain": [
       "<Figure size 1440x576 with 1 Axes>"
      ]
     },
     "metadata": {},
     "output_type": "display_data"
    }
   ],
   "source": [
    "import seaborn as sns\n",
    "from scipy import stats\n",
    "slope, intercept, r_value, p_value, std_err = stats.linregress(Freq1['Wordcount_ln'],Freq1['Rank_ln'])\n",
    "ax=sns.regplot(x='Wordcount_ln', y='Rank_ln', data=Freq1,color='b',line_kws={'label':\"y={0:.1f}x+{1:.1f}\".format(slope,intercept)})\n",
    "ax.legend()\n",
    "plt.show()\n"
   ]
  },
  {
   "cell_type": "code",
   "execution_count": 27,
   "metadata": {},
   "outputs": [
    {
     "data": {
      "image/png": "[encoded data removed]",
      "text/plain": [
       "<Figure size 1440x576 with 1 Axes>"
      ]
     },
     "metadata": {},
     "output_type": "display_data"
    }
   ],
   "source": [
    "Freq_filter=Freq1[Freq1['Wordcount_ln']<=5]\n",
    "\n",
    "slope, intercept, r_value, p_value, std_err = stats.linregress(Freq_filter['Wordcount_ln'],Freq_filter['Rank_ln'])\n",
    "ax=sns.regplot(x='Wordcount_ln', y='Rank_ln', data=Freq_filter,color='b',line_kws={'label':\"y={0:.1f}x+{1:.1f}\".format(slope,intercept)})\n",
    "ax.legend()\n",
    "plt.show()"
   ]
  },
  {
   "cell_type": "markdown",
   "metadata": {},
   "source": [
    "Zipfs law: \n",
    "rank*wordcount=constant ; log(rank)+log(wordcount)=constant \n",
    "ideally slope should be equal to -1 but it is -0.6 in this case??? Doubt????\n",
    "product of the frequency of words and their rank is approximately constant upto a certain rank according to the above graph which again proves that the data follows Zipf's law"
   ]
  },
  {
   "cell_type": "markdown",
   "metadata": {},
   "source": [
    "#A3"
   ]
  },
  {
   "cell_type": "code",
   "execution_count": 28,
   "metadata": {
    "collapsed": true
   },
   "outputs": [],
   "source": [
    "text_A3=nltk.word_tokenize(Fulldescription2)\n",
    "#prefixes=(\"\\xe2\")\n",
    "#newlist =[x for x in text_A3 if not x.startswith(prefixes)]\n",
    "#prefixes\n",
    "#[stemmer.stem(i) for i in text_A3]"
   ]
  },
  {
   "cell_type": "code",
   "execution_count": 29,
   "metadata": {
    "collapsed": true
   },
   "outputs": [],
   "source": [
    "from nltk.stem import WordNetLemmatizer\n",
    "lemmatizer = WordNetLemmatizer()\n",
    "text_A3=[lemmatizer.lemmatize(i) for i in text_A3]"
   ]
  },
  {
   "cell_type": "code",
   "execution_count": 30,
   "metadata": {},
   "outputs": [
    {
     "data": {
      "text/plain": [
       "['legal',\n",
       " 'team',\n",
       " 'experienced',\n",
       " 'significant',\n",
       " 'growth',\n",
       " 'past',\n",
       " 'year',\n",
       " 'result',\n",
       " 'client',\n",
       " 'currently',\n",
       " 'exciting',\n",
       " 'opportunity',\n",
       " 'consultant',\n",
       " 'join',\n",
       " 'wellestablished',\n",
       " 'successful',\n",
       " 'leeds',\n",
       " 'team',\n",
       " 'responsible',\n",
       " 'maintaining',\n",
       " 'improving',\n",
       " 'existing',\n",
       " 'client',\n",
       " 'service',\n",
       " u'relationship',\n",
       " 'well',\n",
       " 'growing',\n",
       " 'existing',\n",
       " 'client',\n",
       " 'base',\n",
       " 'increase',\n",
       " 'market',\n",
       " 'share',\n",
       " 'within',\n",
       " 'sector',\n",
       " 'working',\n",
       " 'strong',\n",
       " 'client',\n",
       " 'portfolio',\n",
       " 'benefit',\n",
       " 'large',\n",
       " 'client',\n",
       " 'base',\n",
       " 'welldeveloped',\n",
       " u'relationship',\n",
       " 'extremely',\n",
       " 'knowledgeable',\n",
       " 'team',\n",
       " 'people',\n",
       " 'successful',\n",
       " 'legal',\n",
       " 'team',\n",
       " 'energetic',\n",
       " u'result',\n",
       " 'driven',\n",
       " 'determined',\n",
       " 'ultimately',\n",
       " 'people',\n",
       " 'focused',\n",
       " u'posse',\n",
       " 'excellent',\n",
       " 'communication',\n",
       " u'skill',\n",
       " 'business',\n",
       " 'awareness',\n",
       " 'resilience',\n",
       " 'determination',\n",
       " 'passion',\n",
       " 'required',\n",
       " 'build',\n",
       " 'long',\n",
       " 'fruitful',\n",
       " 'career',\n",
       " 'legal',\n",
       " 'recruitment',\n",
       " 'also',\n",
       " 'good',\n",
       " 'understanding',\n",
       " 'importance',\n",
       " 'building',\n",
       " 'longterm',\n",
       " u'relationship',\n",
       " 'providing',\n",
       " 'consultative',\n",
       " 'approach',\n",
       " 'commercial',\n",
       " 'environment',\n",
       " 'whether',\n",
       " 'experience',\n",
       " 'legal',\n",
       " 'recruitment',\n",
       " 'recruitment',\n",
       " 'sector',\n",
       " 'fantastic',\n",
       " 'opportunity',\n",
       " 'within',\n",
       " 'legal',\n",
       " 'business',\n",
       " 'interested',\n",
       " 'hearing',\n",
       " 'selfmotivated',\n",
       " 'enthusiastic',\n",
       " u'individual',\n",
       " 'committed',\n",
       " 'delivering',\n",
       " 'best',\n",
       " 'client',\n",
       " 'candidate',\n",
       " 'service',\n",
       " 'determined',\n",
       " 'succeed',\n",
       " 'successful',\n",
       " 'fast',\n",
       " 'paced',\n",
       " 'competitive',\n",
       " 'environment',\n",
       " 'return',\n",
       " 'offer',\n",
       " 'challenging',\n",
       " 'teamorientated',\n",
       " 'environment',\n",
       " 'within',\n",
       " 'business',\n",
       " 'function',\n",
       " 'recognises',\n",
       " 'future',\n",
       " 'growth',\n",
       " 'depends',\n",
       " 'addition',\n",
       " 'supporting',\n",
       " u'need',\n",
       " 'growth',\n",
       " 'development',\n",
       " 'structured',\n",
       " 'career',\n",
       " 'path',\n",
       " 'ensures',\n",
       " 'great',\n",
       " 'performance',\n",
       " 'recognised',\n",
       " 'well',\n",
       " 'rewarded',\n",
       " 'financially',\n",
       " 'non',\n",
       " 'financially',\n",
       " 'recruitment',\n",
       " u'sale',\n",
       " 'experience',\n",
       " 'essential',\n",
       " 'job',\n",
       " 'originally',\n",
       " 'posted',\n",
       " 'www',\n",
       " 'totaljobs',\n",
       " 'com',\n",
       " 'jobseeking',\n",
       " 'legalrecruitmentconsultant',\n",
       " 'job',\n",
       " 'flourishing',\n",
       " 'boutique',\n",
       " 'westend',\n",
       " 'firm',\n",
       " 'strong',\n",
       " 'emphasis',\n",
       " u'medium',\n",
       " 'leisure',\n",
       " 'sector',\n",
       " u'boast',\n",
       " 'wellrespected',\n",
       " 'corporate',\n",
       " 'team',\n",
       " 'advising',\n",
       " 'range',\n",
       " 'corporate',\n",
       " 'commercial',\n",
       " u'matter',\n",
       " 'number',\n",
       " 'high',\n",
       " 'profile',\n",
       " u'client',\n",
       " 'already',\n",
       " 'established',\n",
       " 'team',\n",
       " 'place',\n",
       " 'keen',\n",
       " 'bring',\n",
       " 'additional',\n",
       " 'partner',\n",
       " 'ideally',\n",
       " u'contact',\n",
       " 'arena',\n",
       " 'complement',\n",
       " 'sector',\n",
       " 'focus',\n",
       " 'slick',\n",
       " 'highly',\n",
       " 'supportive',\n",
       " 'environment',\n",
       " 'firm',\n",
       " u'offer',\n",
       " 'excellent',\n",
       " 'platform',\n",
       " 'grow',\n",
       " 'practice',\n",
       " 'become',\n",
       " 'leading',\n",
       " 'name',\n",
       " 'field',\n",
       " 'information',\n",
       " 'confidence',\n",
       " 'please',\n",
       " 'call',\n",
       " 'claire',\n",
       " 'cavanagh',\n",
       " 'ej',\n",
       " 'legal',\n",
       " 'email',\n",
       " 'clairecejgroup',\n",
       " 'co',\n",
       " 'uk',\n",
       " 'cc',\n",
       " 'information',\n",
       " 'visit',\n",
       " 'www',\n",
       " 'ejlegal',\n",
       " 'co',\n",
       " 'uk',\n",
       " 'searchlawjobs',\n",
       " 'job',\n",
       " 'title',\n",
       " 'business',\n",
       " 'development',\n",
       " 'managersector',\n",
       " 'engineeringniche',\n",
       " 'process',\n",
       " 'equipment',\n",
       " 'selling',\n",
       " 'industrial',\n",
       " u'hose',\n",
       " 'couplingsselling',\n",
       " 'end',\n",
       " u'user',\n",
       " 'resellers',\n",
       " 'chemical',\n",
       " 'oil',\n",
       " 'gas',\n",
       " 'food',\n",
       " 'beverage',\n",
       " 'general',\n",
       " 'engineering',\n",
       " 'territory',\n",
       " 'lancashire',\n",
       " 'greater',\n",
       " 'manchester',\n",
       " 'merseyside',\n",
       " 'cheshire',\n",
       " 'staffordshire',\n",
       " 'flintshire',\n",
       " 'derbyshire',\n",
       " 'leicestershire',\n",
       " 'lincolnshire',\n",
       " 'nottinghamshire',\n",
       " 'south',\n",
       " 'yorkshire',\n",
       " 'north',\n",
       " 'yorkshire',\n",
       " 'west',\n",
       " 'yorkshire',\n",
       " 'durham',\n",
       " 'cumbria',\n",
       " 'package',\n",
       " 'k',\n",
       " 'basic',\n",
       " 'k',\n",
       " 'ote',\n",
       " 'company',\n",
       " 'car',\n",
       " 'laptop',\n",
       " 'mobile',\n",
       " 'healthcare',\n",
       " 'pension',\n",
       " 'life',\n",
       " 'insuranceconsultant',\n",
       " 'michael',\n",
       " 'moorecompany',\n",
       " 'info',\n",
       " 'multinational',\n",
       " 'multibillion',\n",
       " 'dollar',\n",
       " 'group',\n",
       " 'great',\n",
       " u'opportunity',\n",
       " 'progress',\n",
       " 'within',\n",
       " 'role',\n",
       " 'upwards',\n",
       " 'business',\n",
       " 'specialist',\n",
       " 'within',\n",
       " 'process',\n",
       " 'equipment',\n",
       " 'market',\n",
       " 'sectorrole',\n",
       " 'information',\n",
       " 'lancashire',\n",
       " 'greater',\n",
       " 'manchester',\n",
       " 'merseyside',\n",
       " 'cheshire',\n",
       " 'staffordshire',\n",
       " 'flintshire',\n",
       " 'derbyshire',\n",
       " 'leicestershire',\n",
       " 'lincolnshire',\n",
       " 'nottinghamshire',\n",
       " 'south',\n",
       " 'yorkshire',\n",
       " 'north',\n",
       " 'yorkshire',\n",
       " 'west',\n",
       " 'yorkshire',\n",
       " 'durham',\n",
       " 'cumbria',\n",
       " 'selling',\n",
       " 'industrial',\n",
       " 'hose',\n",
       " u'coupling',\n",
       " 'sell',\n",
       " u'type',\n",
       " u'industry',\n",
       " 'anyone',\n",
       " 'moving',\n",
       " u'fluid',\n",
       " 'selling',\n",
       " 'resellers',\n",
       " 'end',\n",
       " u'user',\n",
       " 'within',\n",
       " 'chemical',\n",
       " 'oil',\n",
       " 'gas',\n",
       " 'food',\n",
       " 'beverage',\n",
       " 'general',\n",
       " 'engineering',\n",
       " u'industry',\n",
       " 'dealing',\n",
       " 'anyone',\n",
       " u'owner',\n",
       " 'small',\n",
       " 'resellers',\n",
       " 'procurement',\n",
       " u'manager',\n",
       " 'larger',\n",
       " 'companiesrequirements',\n",
       " 'must',\n",
       " 'following',\n",
       " 'engineering',\n",
       " 'background',\n",
       " 'proven',\n",
       " u'sale',\n",
       " 'ability',\n",
       " 'industrial',\n",
       " 'mechanical',\n",
       " 'background',\n",
       " 'account',\n",
       " 'management',\n",
       " 'experienceideally',\n",
       " 'following',\n",
       " 'experience',\n",
       " 'selling',\n",
       " 'industrial',\n",
       " u'hose',\n",
       " u'coupling',\n",
       " 'experience',\n",
       " 'reading',\n",
       " 'technical',\n",
       " u'drawing',\n",
       " 'good',\n",
       " 'work',\n",
       " 'ethic',\n",
       " 'hard',\n",
       " 'working',\n",
       " 'tenacious',\n",
       " u'candidate',\n",
       " 'must',\n",
       " 'eligible',\n",
       " 'work',\n",
       " 'live',\n",
       " 'uk',\n",
       " 'target',\n",
       " 'recruitment',\n",
       " 'recognised',\n",
       " 'one',\n",
       " 'uk',\n",
       " 'leading',\n",
       " u'sale',\n",
       " u'recruiter',\n",
       " 'achieved',\n",
       " 'significant',\n",
       " 'organic',\n",
       " 'growth',\n",
       " 'since',\n",
       " 'inception',\n",
       " 'development',\n",
       " 'specialist',\n",
       " u'team',\n",
       " 'focusing',\n",
       " 'key',\n",
       " u'market',\n",
       " 'construction',\n",
       " u'sale',\n",
       " 'recruitment',\n",
       " 'engineering',\n",
       " u'sale',\n",
       " 'recruitment',\n",
       " 'commercial',\n",
       " u'sale',\n",
       " 'recruitment',\n",
       " 'enabled',\n",
       " u'consultant',\n",
       " 'become',\n",
       " u'expert',\n",
       " 'field',\n",
       " u'role',\n",
       " 'sector',\n",
       " 'based',\n",
       " u'team',\n",
       " 'recruit',\n",
       " 'include',\n",
       " u'sale',\n",
       " 'executive',\n",
       " u'job',\n",
       " 'area',\n",
       " u'sale',\n",
       " 'manager',\n",
       " u'job',\n",
       " u'sale',\n",
       " 'engineer',\n",
       " u'job',\n",
       " 'national',\n",
       " 'account',\n",
       " 'manager',\n",
       " u'job',\n",
       " 'business',\n",
       " 'development',\n",
       " 'manager',\n",
       " u'job',\n",
       " u'sale',\n",
       " 'representative',\n",
       " u'job',\n",
       " 'field',\n",
       " u'sale',\n",
       " u'job',\n",
       " u'sector',\n",
       " 'construction',\n",
       " u'sale',\n",
       " 'recruitment',\n",
       " 'include',\n",
       " u'bathroom',\n",
       " 'building',\n",
       " u'material',\n",
       " 'building',\n",
       " u'service',\n",
       " u'coating',\n",
       " u'repair',\n",
       " u'treatment',\n",
       " 'heating',\n",
       " 'plumbing',\n",
       " u'interior',\n",
       " u'kitchen',\n",
       " 'plant',\n",
       " 'equipment',\n",
       " 'roofing',\n",
       " 'drainage',\n",
       " u'sector',\n",
       " 'engineering',\n",
       " u'sale',\n",
       " 'recruitment',\n",
       " 'include',\n",
       " 'capital',\n",
       " 'equipment',\n",
       " 'control',\n",
       " 'automation',\n",
       " 'electrical',\n",
       " 'electronic',\n",
       " 'fluid',\n",
       " 'power',\n",
       " 'industrial',\n",
       " 'instrumentation',\n",
       " 'control',\n",
       " 'power',\n",
       " 'generation',\n",
       " 'transmission',\n",
       " u'service',\n",
       " u'sector',\n",
       " 'commercial',\n",
       " u'sale',\n",
       " 'recruitment',\n",
       " 'include',\n",
       " 'business',\n",
       " 'finance',\n",
       " 'business',\n",
       " 'information',\n",
       " u'telecom',\n",
       " 'office',\n",
       " 'contract',\n",
       " 'furniture',\n",
       " 'office',\n",
       " 'equipment',\n",
       " 'office',\n",
       " u'supply',\n",
       " 'professional',\n",
       " u'service',\n",
       " 'rental',\n",
       " u'service',\n",
       " 'security',\n",
       " 'job',\n",
       " 'title',\n",
       " 'night',\n",
       " 'porter',\n",
       " 'category',\n",
       " 'reception',\n",
       " 'front',\n",
       " 'house',\n",
       " 'location',\n",
       " 'daventry',\n",
       " 'court',\n",
       " 'hotel',\n",
       " 'salary',\n",
       " 'per',\n",
       " 'annum',\n",
       " 'posted',\n",
       " 'date',\n",
       " 'jan',\n",
       " 'closing',\n",
       " 'date',\n",
       " 'feb',\n",
       " 'daventry',\n",
       " 'court',\n",
       " 'hotel',\n",
       " 'modern',\n",
       " 'bedroom',\n",
       " 'four',\n",
       " 'star',\n",
       " 'hotel',\n",
       " 'situated',\n",
       " 'outside',\n",
       " 'northampton',\n",
       " 'spacious',\n",
       " 'hotel',\n",
       " 'conference',\n",
       " u'room',\n",
       " 'hold',\n",
       " u'guest',\n",
       " 'modern',\n",
       " 'yet',\n",
       " 'elegant',\n",
       " 'hotel',\n",
       " 'team',\n",
       " 'contemporary',\n",
       " 'property',\n",
       " 'passion',\n",
       " 'drive',\n",
       " 'offer',\n",
       " 'exceptional',\n",
       " 'quality',\n",
       " 'service',\n",
       " 'looking',\n",
       " u'guest',\n",
       " u'member',\n",
       " 'staff',\n",
       " 'ensuring',\n",
       " 'safety',\n",
       " 'serving',\n",
       " u'guest',\n",
       " 'food',\n",
       " 'drink',\n",
       " 'ordered',\n",
       " u'hour',\n",
       " 'pm',\n",
       " 'also',\n",
       " 'completing',\n",
       " 'daily',\n",
       " 'weekly',\n",
       " 'cleaning',\n",
       " u'task',\n",
       " 'needed',\n",
       " 'also',\n",
       " 'setting',\n",
       " 'conference',\n",
       " u'room',\n",
       " 'required',\n",
       " 'standard',\n",
       " 'apply',\n",
       " 'need',\n",
       " 'knowledge',\n",
       " 'fire',\n",
       " 'health',\n",
       " 'safety',\n",
       " 'food',\n",
       " 'hygiene',\n",
       " 'able',\n",
       " 'work',\n",
       " 'unsupervised',\n",
       " 'friendly',\n",
       " 'personality',\n",
       " 'able',\n",
       " 'communicate',\n",
       " 'well',\n",
       " 'others',\n",
       " u'applicant',\n",
       " 'must',\n",
       " 'minimum',\n",
       " u'year',\n",
       " 'old',\n",
       " 'eligible',\n",
       " 'live',\n",
       " 'work',\n",
       " 'uk',\n",
       " 'job',\n",
       " 'title',\n",
       " 'mechanical',\n",
       " 'detailed',\n",
       " 'design',\n",
       " 'engineer',\n",
       " 'salary',\n",
       " 'depending',\n",
       " 'experience',\n",
       " 'location',\n",
       " 'west',\n",
       " u'midland',\n",
       " 'start',\n",
       " 'asap',\n",
       " 'fantastic',\n",
       " 'opportunity',\n",
       " 'arisen',\n",
       " 'rapidly',\n",
       " 'growing',\n",
       " 'aerospace',\n",
       " 'company',\n",
       " 'mechanical',\n",
       " 'detailed',\n",
       " 'design',\n",
       " 'engineer',\n",
       " 'draughtsman',\n",
       " u'midland',\n",
       " 'company',\n",
       " 'business',\n",
       " 'pipelined',\n",
       " u'year',\n",
       " 'come',\n",
       " 'doubt',\n",
       " 'major',\n",
       " 'player',\n",
       " 'field',\n",
       " u'year',\n",
       " 'come',\n",
       " 'role',\n",
       " 'designer',\n",
       " 'producing',\n",
       " 'detailed',\n",
       " 'product',\n",
       " u'drawing',\n",
       " u'model',\n",
       " 'using',\n",
       " 'cad',\n",
       " u'tool',\n",
       " 'whilst',\n",
       " 'taking',\n",
       " 'account',\n",
       " u'factor',\n",
       " 'manufacturing',\n",
       " 'assembly',\n",
       " 'cost',\n",
       " u'material',\n",
       " 'disassembly',\n",
       " 'also',\n",
       " 'charged',\n",
       " 'production',\n",
       " 'configuration',\n",
       " 'control',\n",
       " 'documentation',\n",
       " 'support',\n",
       " 'site',\n",
       " u'team',\n",
       " 'resolving',\n",
       " 'technical',\n",
       " u'issue',\n",
       " 'experience',\n",
       " 'pelease',\n",
       " 'note',\n",
       " 'following',\n",
       " u'criterion',\n",
       " 'need',\n",
       " 'met',\n",
       " 'considered',\n",
       " 'role',\n",
       " 'mechanical',\n",
       " 'engineering',\n",
       " 'degree',\n",
       " 'related',\n",
       " 'degree',\n",
       " 'experience',\n",
       " 'proven',\n",
       " 'experience',\n",
       " 'draughfting',\n",
       " 'modelling',\n",
       " 'strong',\n",
       " 'engineering',\n",
       " 'background',\n",
       " 'aerospace',\n",
       " 'related',\n",
       " 'industry',\n",
       " 'proficient',\n",
       " 'cad',\n",
       " u'tool',\n",
       " 'proactive',\n",
       " 'approach',\n",
       " 'role',\n",
       " 'product',\n",
       " 'selfmotivated',\n",
       " 'attention',\n",
       " 'detail',\n",
       " 'team',\n",
       " 'orientated',\n",
       " 'ability',\n",
       " 'work',\n",
       " 'solo',\n",
       " 'required',\n",
       " 'information',\n",
       " 'please',\n",
       " 'hesitate',\n",
       " 'call',\n",
       " 'tom',\n",
       " 'blackburn',\n",
       " 'ref',\n",
       " 'expeng',\n",
       " 'client',\n",
       " 'near',\n",
       " 'northampton',\n",
       " 'looking',\n",
       " 'recruit',\n",
       " 'nd',\n",
       " 'line',\n",
       " 'support',\n",
       " 'analyst',\n",
       " 'initial',\n",
       " u'week',\n",
       " 'period',\n",
       " 'although',\n",
       " 'good',\n",
       " 'chance',\n",
       " 'role',\n",
       " 'could',\n",
       " 'extended',\n",
       " 'even',\n",
       " 'go',\n",
       " 'permanent',\n",
       " 'require',\n",
       " 'candidate',\n",
       " 'solid',\n",
       " 'nd',\n",
       " 'line',\n",
       " 'support',\n",
       " u'skill',\n",
       " 'good',\n",
       " 'knowledge',\n",
       " u'window',\n",
       " 'xp',\n",
       " u'window',\n",
       " 'desktop',\n",
       " 'support',\n",
       " 'hardware',\n",
       " 'support',\n",
       " 'basic',\n",
       " u'application',\n",
       " 'server',\n",
       " 'experience',\n",
       " 'desirable',\n",
       " 'role',\n",
       " 'involve',\n",
       " 'travel',\n",
       " 'car',\n",
       " 'full',\n",
       " 'licence',\n",
       " 'essential',\n",
       " 'daily',\n",
       " 'rate',\n",
       " 'limited',\n",
       " 'umbrella',\n",
       " 'company',\n",
       " 'job',\n",
       " 'originally',\n",
       " 'posted',\n",
       " 'www',\n",
       " 'cwjobs',\n",
       " 'co',\n",
       " 'uk',\n",
       " 'jobseeking',\n",
       " 'ndlinesupportanalyst',\n",
       " 'job',\n",
       " 'client',\n",
       " 'part',\n",
       " 'large',\n",
       " 'corporate',\n",
       " u'letting',\n",
       " 'group',\n",
       " 'currently',\n",
       " 'seeking',\n",
       " 'experienced',\n",
       " 'administrator',\n",
       " 'join',\n",
       " 'expanding',\n",
       " 'norwich',\n",
       " 'city',\n",
       " 'centre',\n",
       " 'branch',\n",
       " 'succesful',\n",
       " 'candidate',\n",
       " 'must',\n",
       " 'solid',\n",
       " 'administration',\n",
       " 'background',\n",
       " 'excellent',\n",
       " 'skils',\n",
       " 'good',\n",
       " 'attention',\n",
       " 'detail',\n",
       " 'previous',\n",
       " 'property',\n",
       " u'letting',\n",
       " 'experience',\n",
       " 'would',\n",
       " 'advantage',\n",
       " 'essential',\n",
       " 'able',\n",
       " 'multitalk',\n",
       " 'work',\n",
       " 'well',\n",
       " 'part',\n",
       " 'busy',\n",
       " 'team',\n",
       " 'feel',\n",
       " 'confident',\n",
       " 'dealing',\n",
       " u'client',\n",
       " 'face',\n",
       " 'face',\n",
       " 'telephone',\n",
       " 'great',\n",
       " 'opportunity',\n",
       " 'become',\n",
       " 'part',\n",
       " 'successful',\n",
       " 'team',\n",
       " 'someone',\n",
       " 'right',\n",
       " 'amount',\n",
       " 'energy',\n",
       " 'enthusiasm',\n",
       " 'drive',\n",
       " 'given',\n",
       " 'opportunity',\n",
       " 'succeed',\n",
       " 'meridian',\n",
       " 'business',\n",
       " 'support',\n",
       " 'acting',\n",
       " 'behalf',\n",
       " u'client',\n",
       " 'recruitment',\n",
       " 'agency',\n",
       " 'client',\n",
       " 'looking',\n",
       " u'inspector',\n",
       " 'temporary',\n",
       " 'contract',\n",
       " u'week',\n",
       " u'hour',\n",
       " 'work',\n",
       " 'hour',\n",
       " 'unpaid',\n",
       " 'break',\n",
       " 'maybe',\n",
       " 'possibly',\n",
       " 'weekend',\n",
       " 'work',\n",
       " 'inspecting',\n",
       " 'measuring',\n",
       " u'item',\n",
       " 'repetitive',\n",
       " 'work',\n",
       " 'good',\n",
       " 'communication',\n",
       " u'skill',\n",
       " 'required',\n",
       " 'vacancy',\n",
       " 'advertised',\n",
       " 'behalf',\n",
       " 'premiere',\n",
       " 'people',\n",
       " 'operating',\n",
       " 'employment',\n",
       " 'agency',\n",
       " 'equal',\n",
       " u'opportunity',\n",
       " 'employer',\n",
       " 'premiere',\n",
       " 'people',\n",
       " u'welcome',\n",
       " u'application',\n",
       " u'section',\n",
       " 'community',\n",
       " 'highly',\n",
       " 'skilled',\n",
       " 'enthusiastic',\n",
       " 'individual',\n",
       " 'committed',\n",
       " 'providing',\n",
       " 'best',\n",
       " 'customer',\n",
       " 'service',\n",
       " 'care',\n",
       " u'patient',\n",
       " u'family',\n",
       " 'looking',\n",
       " 'join',\n",
       " 'forward',\n",
       " 'thinking',\n",
       " 'hospital',\n",
       " 'investing',\n",
       " 'future',\n",
       " 'located',\n",
       " 'heart',\n",
       " 'kensington',\n",
       " 'client',\n",
       " 'international',\n",
       " 'hospital',\n",
       " 'committed',\n",
       " 'providing',\n",
       " 'highest',\n",
       " 'quality',\n",
       " 'healthcare',\n",
       " u'patient',\n",
       " 'attract',\n",
       " 'leading',\n",
       " u'consultant',\n",
       " u'doctor',\n",
       " 'recognised',\n",
       " 'excellence',\n",
       " 'specialised',\n",
       " u'field',\n",
       " 'invest',\n",
       " 'heavily',\n",
       " 'stateoftheart',\n",
       " 'equipment',\n",
       " 'successful',\n",
       " 'offered',\n",
       " 'dynamic',\n",
       " 'working',\n",
       " 'environment',\n",
       " 'competitive',\n",
       " 'salary',\n",
       " 'excellent',\n",
       " u'benefit',\n",
       " 'access',\n",
       " 'personal',\n",
       " 'development',\n",
       " u'opportunity',\n",
       " 'description',\n",
       " 'role',\n",
       " 'sister',\n",
       " 'charge',\n",
       " 'nurse',\n",
       " 'clinical',\n",
       " 'facilitator',\n",
       " 'c',\n",
       " 'paediatric',\n",
       " 'ward',\n",
       " 'assist',\n",
       " 'lead',\n",
       " 'nurse',\n",
       " 'effective',\n",
       " 'operational',\n",
       " 'management',\n",
       " 'department',\n",
       " 'organisation',\n",
       " 'deliver',\n",
       " 'high',\n",
       " 'quality',\n",
       " 'nursing',\n",
       " 'care',\n",
       " 'admission',\n",
       " 'discharge',\n",
       " 'provide',\n",
       " 'clinical',\n",
       " 'leadership',\n",
       " 'nursing',\n",
       " 'team',\n",
       " ...]"
      ]
     },
     "execution_count": 30,
     "metadata": {},
     "output_type": "execute_result"
    }
   ],
   "source": [
    "text_A3"
   ]
  },
  {
   "cell_type": "code",
   "execution_count": 31,
   "metadata": {},
   "outputs": [
    {
     "data": {
      "text/plain": [
       "experience    4341\n",
       "role          3189\n",
       "work          3019\n",
       "team          2990\n",
       "client        2973\n",
       "business      2966\n",
       "skill         2531\n",
       "service       2527\n",
       "job           2467\n",
       "within        2304\n",
       "dtype: int64"
      ]
     },
     "execution_count": 31,
     "metadata": {},
     "output_type": "execute_result"
    }
   ],
   "source": [
    "words = pd.Series(text_A3)\n",
    "words.value_counts(ascending=False)[:10]"
   ]
  },
  {
   "cell_type": "markdown",
   "metadata": {},
   "source": [
    "Part B B1)"
   ]
  },
  {
   "cell_type": "code",
   "execution_count": 32,
   "metadata": {
    "collapsed": true
   },
   "outputs": [],
   "source": [
    "train_rev1['ContractType']=train_rev1['ContractType'].fillna(\"Unknown\")\n",
    "train_rev1['Title']=train_rev1['Title'].fillna(\"Unknown\")\n",
    "train_rev1['ContractTime']=train_rev1['ContractTime'].fillna(\"Unknown\")\n",
    "TopCities=['London',\n",
    "'Oxford',\n",
    "'Brighton and Hove',\n",
    "'Cambridge',\n",
    "'Bristol',\n",
    "'Portsmouth',\n",
    "'Reading, Berkshire',\n",
    "'Edinburgh',\n",
    "'Leicester',\n",
    "'York']\n",
    "pattern = '|'.join(TopCities)\n",
    "#frame.a.str.contains(pattern)\n",
    "train_rev1['High_CL']=train_rev1['LocationRaw'].str.contains(pattern)\n",
    "train_rev1['High_CL']=(train_rev1['High_CL']==True).astype(int)\n",
    "train_rev1['H/L']=train_rev1.SalaryNormalized.rank(pct=True)\n",
    "train_rev1['y']=np.where(train_rev1['H/L'] >= 0.75, 1, 0)"
   ]
  },
  {
   "cell_type": "code",
   "execution_count": 33,
   "metadata": {
    "collapsed": true
   },
   "outputs": [],
   "source": [
    "data=train_rev1[['ContractType','ContractTime','H/L','Category','y']]"
   ]
  },
  {
   "cell_type": "code",
   "execution_count": 34,
   "metadata": {},
   "outputs": [
    {
     "data": {
      "text/plain": [
       "0    1874\n",
       "1     626\n",
       "Name: y, dtype: int64"
      ]
     },
     "execution_count": 34,
     "metadata": {},
     "output_type": "execute_result"
    }
   ],
   "source": [
    "data['y'].value_counts()"
   ]
  },
  {
   "cell_type": "code",
   "execution_count": 35,
   "metadata": {},
   "outputs": [
    {
     "name": "stdout",
     "output_type": "stream",
     "text": [
      "['ContractType' 'ContractTime' 'H/L' 'Category' 'y']\n"
     ]
    }
   ],
   "source": [
    "print data.columns.values"
   ]
  },
  {
   "cell_type": "code",
   "execution_count": 36,
   "metadata": {},
   "outputs": [
    {
     "data": {
      "text/plain": [
       "array(['ContractType_Unknown', 'ContractType_full_time',\n",
       "       'ContractType_part_time', 'ContractTime_Unknown',\n",
       "       'ContractTime_contract', 'ContractTime_permanent',\n",
       "       'Category_Accounting & Finance Jobs', 'Category_Admin Jobs',\n",
       "       'Category_Charity & Voluntary Jobs', 'Category_Consultancy Jobs'],\n",
       "      dtype=object)"
      ]
     },
     "execution_count": 36,
     "metadata": {},
     "output_type": "execute_result"
    }
   ],
   "source": [
    "categorical_columns = ['ContractType','ContractTime','Category']\n",
    "df_dummies = pd.get_dummies(data[categorical_columns],\n",
    "                            prefix=categorical_columns,\n",
    "                            columns=categorical_columns)\n",
    "dummy_column_names = df_dummies.columns.values\n",
    "dummy_column_names[:10]"
   ]
  },
  {
   "cell_type": "code",
   "execution_count": 37,
   "metadata": {
    "collapsed": true
   },
   "outputs": [],
   "source": [
    "df2 = pd.concat([data, df_dummies], axis=1)"
   ]
  },
  {
   "cell_type": "code",
   "execution_count": 38,
   "metadata": {},
   "outputs": [
    {
     "name": "stdout",
     "output_type": "stream",
     "text": [
      "y ~ 0 + Q(\"ContractType_Unknown\") + Q(\"ContractType_full_time\") + Q(\"ContractType_part_time\") + Q(\"ContractTime_Unknown\") + Q(\"ContractTime_contract\") + Q(\"ContractTime_permanent\") + Q(\"Category_Accounting & Finance Jobs\") + Q(\"Category_Admin Jobs\") + Q(\"Category_Charity & Voluntary Jobs\") + Q(\"Category_Consultancy Jobs\") + Q(\"Category_Creative & Design Jobs\") + Q(\"Category_Customer Services Jobs\") + Q(\"Category_Domestic help & Cleaning Jobs\") + Q(\"Category_Energy, Oil & Gas Jobs\") + Q(\"Category_Engineering Jobs\") + Q(\"Category_Graduate Jobs\") + Q(\"Category_HR & Recruitment Jobs\") + Q(\"Category_Healthcare & Nursing Jobs\") + Q(\"Category_Hospitality & Catering Jobs\") + Q(\"Category_IT Jobs\") + Q(\"Category_Legal Jobs\") + Q(\"Category_Logistics & Warehouse Jobs\") + Q(\"Category_Maintenance Jobs\") + Q(\"Category_Manufacturing Jobs\") + Q(\"Category_Other/General Jobs\") + Q(\"Category_PR, Advertising & Marketing Jobs\") + Q(\"Category_Property Jobs\") + Q(\"Category_Retail Jobs\") + Q(\"Category_Sales Jobs\") + Q(\"Category_Scientific & QA Jobs\") + Q(\"Category_Social work Jobs\") + Q(\"Category_Teaching Jobs\") + Q(\"Category_Trade & Construction Jobs\") + Q(\"Category_Travel Jobs\")\n"
     ]
    }
   ],
   "source": [
    "formula = 'y ~ 0 + {}'.format(' + '.join(['Q(\"{}\")'.format(x) for x in dummy_column_names]))\n",
    "print formula"
   ]
  },
  {
   "cell_type": "code",
   "execution_count": 39,
   "metadata": {},
   "outputs": [
    {
     "data": {
      "text/plain": [
       "1750"
      ]
     },
     "execution_count": 39,
     "metadata": {},
     "output_type": "execute_result"
    }
   ],
   "source": [
    "#df2_train=\n",
    "#rows1 = np.random.choice(df2.index.values, int(0.7*len(df2)))\n",
    "df2_train = df2.sample(n=int(round(0.7*len(df2),0)))\n",
    "#df2_train=df2.loc[rows1]\n",
    "len(df2_train)\n"
   ]
  },
  {
   "cell_type": "code",
   "execution_count": 40,
   "metadata": {},
   "outputs": [
    {
     "data": {
      "text/plain": [
       "742"
      ]
     },
     "execution_count": 40,
     "metadata": {},
     "output_type": "execute_result"
    }
   ],
   "source": [
    "df2_test=df2[~df2.index.isin(df2_train.index)].dropna()\n",
    "len(df2_test)"
   ]
  },
  {
   "cell_type": "code",
   "execution_count": 41,
   "metadata": {
    "collapsed": true
   },
   "outputs": [],
   "source": [
    "Y, X = dmatrices(formula, df2, return_type='dataframe')\n",
    "y = Y['y'].values"
   ]
  },
  {
   "cell_type": "code",
   "execution_count": 42,
   "metadata": {},
   "outputs": [
    {
     "name": "stdout",
     "output_type": "stream",
     "text": [
      "Accuracy_dataset 0.7528\n"
     ]
    }
   ],
   "source": [
    "from sklearn import naive_bayes\n",
    "model = naive_bayes.MultinomialNB()\n",
    "model.fit(X, y)\n",
    "from sklearn import metrics\n",
    "prediction = model.predict(X)\n",
    "print \"Accuracy_dataset\",metrics.accuracy_score(y, prediction)"
   ]
  },
  {
   "cell_type": "code",
   "execution_count": 43,
   "metadata": {},
   "outputs": [
    {
     "name": "stdout",
     "output_type": "stream",
     "text": [
      "Train_set Accuracy 0.756\n"
     ]
    }
   ],
   "source": [
    "Y_train, X_train = dmatrices(formula, df2_train, return_type='dataframe')\n",
    "y_train = Y_train['y'].values\n",
    "model.fit(X_train, y_train)\n",
    "prediction_train = model.predict(X_train)\n",
    "print \"Train_set Accuracy\",metrics.accuracy_score(y_train, prediction_train)"
   ]
  },
  {
   "cell_type": "code",
   "execution_count": 44,
   "metadata": {},
   "outputs": [
    {
     "name": "stdout",
     "output_type": "stream",
     "text": [
      "Test_set Accuracy 0.7452830188679245\n"
     ]
    }
   ],
   "source": [
    "Y_test, X_test = dmatrices(formula, df2_test, return_type='dataframe')\n",
    "y_test = Y_test['y'].values\n",
    "model.fit(X_test, y_test)\n",
    "prediction_test = model.predict(X_test)\n",
    "print \"Test_set Accuracy\",metrics.accuracy_score(y_test, prediction_test)"
   ]
  },
  {
   "cell_type": "code",
   "execution_count": 45,
   "metadata": {
    "collapsed": true
   },
   "outputs": [],
   "source": [
    "#test_rev1 = pd.read_csv('Test_rev1.csv')\n",
    "#test_rev1['ContractType']=test_rev1['ContractType'].fillna(\"Unknown\")\n",
    "#test_rev1['Title']=test_rev1['Title'].fillna(\"Unknown\")\n",
    "#test_rev1['ContractTime']=test_rev1['ContractTime'].fillna(\"Unknown\")\n",
    "#test_rev1['High_CL']=test_rev1['LocationRaw'].str.contains(pattern)\n",
    "#test_rev1['High_CL']=(test_rev1['High_CL']==True).astype(int)"
   ]
  },
  {
   "cell_type": "code",
   "execution_count": 46,
   "metadata": {
    "collapsed": true
   },
   "outputs": [],
   "source": [
    "from sklearn.feature_extraction.text import TfidfVectorizer\n",
    "from sklearn import metrics\n",
    "from operator import itemgetter\n",
    "from sklearn.metrics import classification_report\n",
    "import csv\n",
    "import os"
   ]
  },
  {
   "cell_type": "code",
   "execution_count": 47,
   "metadata": {},
   "outputs": [
    {
     "data": {
      "text/plain": [
       "'[\\\\!\\\\\"\\\\#\\\\$\\\\%\\\\&\\\\\\'\\\\(\\\\)\\\\*\\\\+\\\\,\\\\-\\\\.\\\\/\\\\:\\\\;\\\\<\\\\=\\\\>\\\\?\\\\@\\\\[\\\\\\\\\\\\]\\\\^\\\\_\\\\`\\\\{\\\\|\\\\}\\\\~]'"
      ]
     },
     "execution_count": 47,
     "metadata": {},
     "output_type": "execute_result"
    }
   ],
   "source": [
    "pattern = '[{}]'.format(re.escape(string.punctuation))\n",
    "pattern"
   ]
  },
  {
   "cell_type": "code",
   "execution_count": 48,
   "metadata": {
    "collapsed": true
   },
   "outputs": [],
   "source": [
    "train_rev1['FullDescription1']=train_rev1['FullDescription'].dropna().str.lower()\n",
    "train_rev1['FullDescription1']=train_rev1['FullDescription1'].str.replace('\\d+', '')"
   ]
  },
  {
   "cell_type": "code",
   "execution_count": 49,
   "metadata": {
    "collapsed": true
   },
   "outputs": [],
   "source": [
    "train_rev1['FullDescription1']=train_rev1['FullDescription'].dropna().str.lower().str.replace('\\d+', '').apply(lambda x:''.join([i for i in x \n",
    "                                                  if i not in string.punctuation]))"
   ]
  },
  {
   "cell_type": "code",
   "execution_count": 50,
   "metadata": {},
   "outputs": [
    {
     "data": {
      "text/plain": [
       "160628    the legal team has experienced significant gro...\n",
       "152151    this flourishing boutique westend firm with a ...\n",
       "50758     job title business development managersector e...\n",
       "172288    job title  night porter category  receptionfro...\n",
       "241827    job title mechanical detailed design engineer ...\n",
       "179896    my client near northampton is looking to recru...\n",
       "235122    my client part of a large corporate lettings g...\n",
       "208474    our client is looking for inspectors on a temp...\n",
       "135193    are you a highly skilled enthusiastic individu...\n",
       "123579    an exciting opportunity has arisen for fork li...\n",
       "188032    ruby on rails developer  nginx  unicorn postgr...\n",
       "175283    a world leading company with  years in their f...\n",
       "64697      assist the financial controller commercial di...\n",
       "68047     a leading fashion brand with a great opportuni...\n",
       "182789    hcl nursing are recruiting for health care ass...\n",
       "20640     our client is a very forward thinking developi...\n",
       "115348    modus care provides specialist health and resi...\n",
       "66943     swim recruitment are looking for a compliance ...\n",
       "32465     i am currently working with a public sector or...\n",
       "102523    account manager  theatre consumablesbasic sala...\n",
       "235755    sap cs consultant required for a  month contra...\n",
       "138591    a leading global blue chip bank is looking to ...\n",
       "77986     graduate trainee business development executiv...\n",
       "226609    if you are qualified accountant who is seeking...\n",
       "24819     medacs healthcare leading nursing agency and p...\n",
       "244297    project managers south east uk experienced pro...\n",
       "62510     neilson financial services provides the uk mar...\n",
       "95274     greenwellgleeson are recruiting for the positi...\n",
       "29868     job title  sales executive tf ref  skills  sal...\n",
       "180728    role name systems analyst required skill sql s...\n",
       "                                ...                        \n",
       "147095    this leading financial services organisation h...\n",
       "239780    due to unprecedented growth in  my client is l...\n",
       "110481    mechanical design engineer    northamptonshire...\n",
       "158514    our client a market leading healthcare busines...\n",
       "147455    investments and treasury manager job summary m...\n",
       "1938      our client is the one of the uk s largest manu...\n",
       "231023    head chef required for a great staff dining un...\n",
       "148872    final year students nqt sqts are you a final y...\n",
       "85573     technical sales manager  carbonus leading inte...\n",
       "104303    data analystcoordinator  hull  ph a fantastic ...\n",
       "187453    to manage the development and marketing activi...\n",
       "137063    sous chef –  aa rosette  gastro pub sous chef ...\n",
       "98021     application software engineer my client is loo...\n",
       "217342    account manager  national coverage my client i...\n",
       "99038     job description job title assistant manager re...\n",
       "40262     junior business analyst permanent london a fan...\n",
       "116406    world leading aerostructures engineering compa...\n",
       "193538    to carry out home visits during the out of hou...\n",
       "160255    graduate consultancy rolefantastic company lon...\n",
       "25500     technical analystdesktop coventry  are you loo...\n",
       "110084    an exceptional role for a pricing actuary to t...\n",
       "243501    estate conveyancer the estate conveyancer will...\n",
       "116202    qualified social worker  child protection and ...\n",
       "87712     principal building surveyor to  per annum hour...\n",
       "131162    aggregations analyst  to  leading syndicate ba...\n",
       "219609    the role  assisting in process delivery for pa...\n",
       "1780      project manager  project manager  project mana...\n",
       "243089    bi developer  olap bi developer required to de...\n",
       "162228    my key client based in guildford are urgently ...\n",
       "99448     stafffinders are currently recruiting for expe...\n",
       "Name: FullDescription1, Length: 2500, dtype: object"
      ]
     },
     "execution_count": 50,
     "metadata": {},
     "output_type": "execute_result"
    }
   ],
   "source": [
    "train_rev1['FullDescription1']"
   ]
  },
  {
   "cell_type": "markdown",
   "metadata": {},
   "source": [
    "w_tokenizer = nltk.tokenize.WhitespaceTokenizer()\n",
    "lemmatizer = nltk.stem.WordNetLemmatizer()\n",
    "def lemmatize_text(text):\n",
    "    return [lemmatizer.lemmatize(w) for w in w_tokenizer.tokenize(text)]\n",
    "train_rev1['FullDescription1']= train_rev1['FullDescription1'].apply(lemmatize_text)"
   ]
  },
  {
   "cell_type": "markdown",
   "metadata": {},
   "source": [
    "#Doubts : should we consider trigrams as well? \n",
    "what are the limits for the parameters in tfidf\n",
    "Zipf's laws: should we consider how it changes for each and every variants or just wrt ln x works?\n",
    "should we split the ranks and run regression ?\n",
    "we hv got slope as -0.6 is that ok ?\n",
    "should we use stemmed version before calculating tf-idf?\n"
   ]
  },
  {
   "cell_type": "code",
   "execution_count": 52,
   "metadata": {},
   "outputs": [
    {
     "data": {
      "text/plain": [
       "(2500L, 5922L)"
      ]
     },
     "execution_count": 52,
     "metadata": {},
     "output_type": "execute_result"
    }
   ],
   "source": [
    "features.shape\n",
    "#5952 features for 2500 job descriptions"
   ]
  },
  {
   "cell_type": "code",
   "execution_count": 55,
   "metadata": {},
   "outputs": [
    {
     "name": "stdout",
     "output_type": "stream",
     "text": [
      "[4710  578 4924 ... 1118  336  339]\n",
      "('Category:', 0)\n",
      "  . Most correlated unigrams:\n",
      ". lead\n",
      ". senior\n",
      ". stakeholders\n",
      ". teams\n",
      ". financial\n",
      ". projects\n",
      ". risk\n",
      ". consulting\n",
      ". architect\n",
      ". architecture\n",
      "  . Most correlated bigrams:\n",
      ". qualified accountant\n",
      ". monday friday\n",
      ". leading financial\n",
      ". subject matter\n",
      ". demonstrable experience\n",
      ". responsible leading\n",
      ". services organisation\n",
      ". customer service\n",
      ". financial services\n",
      ". based london\n",
      "[ 339  336 1118 ... 4924  578 4710]\n",
      "('Category:', 1)\n",
      "  . Most correlated unigrams:\n",
      ". sounds\n",
      ". offers\n",
      ". healthcare\n",
      ". aimed\n",
      ". holding\n",
      ". makers\n",
      ". levels\n",
      ". plus\n",
      ". performed\n",
      ". brand\n",
      "  . Most correlated bigrams:\n",
      ". required join\n",
      ". skills attributes\n",
      ". active directory\n",
      ". exciting opportunities\n",
      ". team experience\n",
      ". team based\n",
      ". essential ideally\n",
      ". key attributes\n",
      ". skill set\n",
      ". sales managers\n"
     ]
    }
   ],
   "source": [
    "for i in range(0,2):\n",
    "    features_chi2 = chi2(features,labels==i)\n",
    "    \n",
    "    indices = np.argsort(features_chi2[i])\n",
    "    print indices\n",
    "    feature_names = np.array(tfidf.get_feature_names())[indices]\n",
    "    feature_names\n",
    "    unigrams = [v for v in feature_names if len(v.split(' ')) == 1]\n",
    "    bigrams = [v for v in feature_names if len(v.split(' ')) == 2]\n",
    "    print(\"Category:\",i)\n",
    "    print(\"  . Most correlated unigrams:\\n. {}\".format('\\n. '.join(unigrams[-N:])))\n",
    "    print(\"  . Most correlated bigrams:\\n. {}\".format('\\n. '.join(bigrams[-N:])))"
   ]
  },
  {
   "cell_type": "code",
   "execution_count": 56,
   "metadata": {
    "collapsed": true
   },
   "outputs": [],
   "source": [
    "labels =train_rev1['y']\n",
    "from sklearn.model_selection import train_test_split\n",
    "from sklearn.feature_extraction.text import CountVectorizer\n",
    "from sklearn.feature_extraction.text import TfidfTransformer\n",
    "from sklearn.naive_bayes import MultinomialNB\n",
    "X_train, X_test, y_train, y_test, indices_train, indices_test = train_test_split(features, labels, train_rev1.index, test_size=0.33, random_state=0)\n"
   ]
  },
  {
   "cell_type": "code",
   "execution_count": 57,
   "metadata": {
    "collapsed": true
   },
   "outputs": [],
   "source": [
    "clf=MultinomialNB().fit(X_train, y_train)"
   ]
  },
  {
   "cell_type": "code",
   "execution_count": null,
   "metadata": {
    "collapsed": true
   },
   "outputs": [],
   "source": [
    "from sklearn.feature_selection import chi2\n",
    "import numpy as np\n",
    "N = 10\n",
    "features\n",
    "labels=train_rev1.y\n",
    "labels\n",
    "\n",
    "from operator import itemgetter\n",
    "pd.DataFrame(clf.coef_)\n",
    "#What are the top N most predictive features per class?\n",
    "N = 10\n",
    "vocabulary = np.array([t for t, i in sorted(tfidf.vocabulary_.iteritems(), key=itemgetter(1))])\n",
    "topN = np.argsort(clf.coef_[0])[-N:]\n",
    "print \"\\nThe top %d most informative features for category %s: \\n%s\" % (N, unique(labels), \" \".join(vocabulary[topN]))\n",
    " #print topN"
   ]
  },
  {
   "cell_type": "code",
   "execution_count": 58,
   "metadata": {
    "collapsed": true
   },
   "outputs": [],
   "source": [
    "y_pred = clf.predict(X_test)"
   ]
  },
  {
   "cell_type": "code",
   "execution_count": 59,
   "metadata": {},
   "outputs": [
    {
     "data": {
      "text/plain": [
       "(1675, 825)"
      ]
     },
     "execution_count": 59,
     "metadata": {},
     "output_type": "execute_result"
    }
   ],
   "source": [
    "len(X_train),len(X_test)"
   ]
  },
  {
   "cell_type": "code",
   "execution_count": 60,
   "metadata": {},
   "outputs": [
    {
     "data": {
      "text/plain": [
       "0    611\n",
       "1    214\n",
       "Name: y, dtype: int64"
      ]
     },
     "execution_count": 60,
     "metadata": {},
     "output_type": "execute_result"
    }
   ],
   "source": [
    "y_test.value_counts()"
   ]
  },
  {
   "cell_type": "code",
   "execution_count": 61,
   "metadata": {},
   "outputs": [
    {
     "data": {
      "text/plain": [
       "array([[601,  10],\n",
       "       [197,  17]], dtype=int64)"
      ]
     },
     "execution_count": 61,
     "metadata": {},
     "output_type": "execute_result"
    }
   ],
   "source": [
    "from sklearn.metrics import confusion_matrix\n",
    "conf_mat = confusion_matrix(y_test, y_pred)\n",
    "conf_mat"
   ]
  },
  {
   "cell_type": "code",
   "execution_count": 62,
   "metadata": {},
   "outputs": [
    {
     "name": "stdout",
     "output_type": "stream",
     "text": [
      "Text_Accuracy:  0.7490909090909091\n"
     ]
    }
   ],
   "source": [
    "Text_Accuracy=mean(y_test==y_pred)\n",
    "print \"Text_Accuracy: \",Text_Accuracy"
   ]
  },
  {
   "cell_type": "code",
   "execution_count": 63,
   "metadata": {},
   "outputs": [
    {
     "data": {
      "text/plain": [
       "0.7768028352113407"
      ]
     },
     "execution_count": 63,
     "metadata": {},
     "output_type": "execute_result"
    }
   ],
   "source": [
    "from sklearn.model_selection import cross_val_score\n",
    "accuracies = cross_val_score(MultinomialNB(), features,train_rev1['y'] , scoring='accuracy', cv=5)\n",
    "accuracies.mean()"
   ]
  }
 ],
 "metadata": {
  "kernelspec": {
   "display_name": "Python 3",
   "language": "python",
   "name": "python3"
  },
  "language_info": {
   "codemirror_mode": {
    "name": "ipython",
    "version": 3
   },
   "file_extension": ".py",
   "mimetype": "text/x-python",
   "name": "python",
   "nbconvert_exporter": "python",
   "pygments_lexer": "ipython3",
   "version": "3.6.1"
  }
 },
 "nbformat": 4,
 "nbformat_minor": 2
}
