{
 "cells": [
  {
   "cell_type": "code",
   "execution_count": 166,
   "metadata": {},
   "outputs": [
    {
     "name": "stdout",
     "output_type": "stream",
     "text": [
      "Populating the interactive namespace from numpy and matplotlib\n"
     ]
    }
   ],
   "source": [
    "import re\n",
    "import pandas as pd\n",
    "%pylab inline\n",
    "from matplotlib import pyplot as plt\n",
    "import nltk\n",
    "from nltk.corpus import stopwords\n",
    "from nltk.stem import WordNetLemmatizer, SnowballStemmer\n",
    "from nltk.stem.porter import *\n",
    "from string import punctuation\n",
    "import warnings\n",
    "warnings.filterwarnings('ignore')\n",
    "\n",
    "import sys\n",
    "# !pip install vaderSentiment\n",
    "# !{sys.executable} -m pip install gensim\n",
    "# import pysentiment as ps\n",
    "# !{sys.executable} -m pip install pysentiment\n",
    "# nltk.download('vader_lexicon')\n",
    "\n",
    "from nltk import sentiment\n",
    "from nltk.sentiment import vader\n",
    "from nltk.sentiment.vader import SentimentIntensityAnalyzer\n",
    "\n",
    "from vaderSentiment.vaderSentiment import SentimentIntensityAnalyzer\n",
    "\n",
    "import gensim\n",
    "from gensim import corpora, models, similarities"
   ]
  },
  {
   "cell_type": "code",
   "execution_count": 54,
   "metadata": {},
   "outputs": [],
   "source": [
    "df = pd.read_csv(r'C:\\Users\\Abraham\\MSBA\\Text\\Project\\tweets_4_4.csv')\n",
    "df.columns = ['ID','Screen_Name','Followers','Retweet','InReplyTo','Favorite','Friends','Listed','Location','Text']\n",
    "\n",
    "df_raw = df[df['Location'].notnull()].drop_duplicates()"
   ]
  },
  {
   "cell_type": "markdown",
   "metadata": {},
   "source": [
    "## Dummy for Texas"
   ]
  },
  {
   "cell_type": "code",
   "execution_count": 55,
   "metadata": {
    "collapsed": true
   },
   "outputs": [],
   "source": [
    "def findtx(s):\n",
    "    intexas = 0\n",
    "    s=str(s).lower()\n",
    "    tx1 = re.findall('tx',s)\n",
    "    tx2 = re.findall('texas',s)\n",
    "    \n",
    "    if len(tx1)>0 or len(tx2)>0:\n",
    "        intexas = 1 \n",
    "    return intexas\n",
    "\n",
    "df_raw['Texas'] = 0\n",
    "df_raw['Texas'] = df_raw['Location'].map(findtx)"
   ]
  },
  {
   "cell_type": "markdown",
   "metadata": {},
   "source": [
    "## Dummy for Urban/City"
   ]
  },
  {
   "cell_type": "code",
   "execution_count": 56,
   "metadata": {
    "collapsed": true
   },
   "outputs": [],
   "source": [
    "citystr = 'houston|austin|san antonio|dallas|fort worth|dfw|atx|hou|htx|dtx|dal|el paso|corpus christi|\\\n",
    "sanantonio|fortworth|elpaso|laredo|arlington|plano|corpuschristi'\n",
    "\n",
    "def findcities(s):\n",
    "    urban = 0\n",
    "    s=str(s).lower()\n",
    "    citiesfound = re.findall(citystr,s)\n",
    "    if len(citiesfound) > 0 :\n",
    "        urban = 1\n",
    "    return urban\n",
    "\n",
    "df_raw['Urban'] = 0\n",
    "df_raw['Urban'] = df_raw['Location'].map(findcities)"
   ]
  },
  {
   "cell_type": "markdown",
   "metadata": {},
   "source": [
    "## Dummy for Candidates"
   ]
  },
  {
   "cell_type": "code",
   "execution_count": 57,
   "metadata": {
    "collapsed": true
   },
   "outputs": [],
   "source": [
    "def findbeto(s):\n",
    "    beto = 0\n",
    "    s = str(s).lower()\n",
    "    txt1 = re.findall('beto',s)\n",
    "    if len(txt1) > 0:\n",
    "        beto = 1\n",
    "    return beto\n",
    "\n",
    "df_raw['Beto'] = df_raw['Text'].map(findbeto)\n",
    "\n",
    "def findcruz(s):\n",
    "    cruz = 0\n",
    "    s = str(s).lower()\n",
    "    txt1 = re.findall('cruz',s)\n",
    "    if len(txt1) > 0:\n",
    "        cruz = 1\n",
    "    return cruz\n",
    "\n",
    "df_raw['Cruz'] = df_raw['Text'].map(findcruz)"
   ]
  },
  {
   "cell_type": "markdown",
   "metadata": {},
   "source": [
    "# Clean tweets"
   ]
  },
  {
   "cell_type": "code",
   "execution_count": 175,
   "metadata": {
    "collapsed": true
   },
   "outputs": [],
   "source": [
    "def processTweet(tweet):\n",
    "    \n",
    "    if tweet.startswith(\"RT\"):\n",
    "        i = tweet.index(':')\n",
    "        tweet = tweet[i+2:]\n",
    "    \n",
    "    tweet = tweet.lower()\n",
    "    tweet = re.sub('((www\\.[^\\s]+)|(https?://[^\\s]+))','',tweet)\n",
    "    tweet = re.sub('([0-9]+)','', tweet)\n",
    "    tweet = re.sub('@[^\\s]+','',tweet)\n",
    "    tweet = re.sub('[\\s]+', ' ', tweet)\n",
    "    tweet = re.sub('&amp;', '', tweet)\n",
    "    tweet = re.sub(r'#([^\\s]+)', r'\\1', tweet)\n",
    "    tweet = tweet.strip('\\'\"')\n",
    "    return tweet\n",
    "\n",
    "df_raw['Text']=df_raw['Text'].map(processTweet)"
   ]
  },
  {
   "cell_type": "markdown",
   "metadata": {},
   "source": [
    "## Overal Sentiment for each tweet"
   ]
  },
  {
   "cell_type": "code",
   "execution_count": 176,
   "metadata": {},
   "outputs": [],
   "source": [
    "#Returns compound sentiment score between -1 and 1\n",
    "def getScores(s):\n",
    "    score = SentimentIntensityAnalyzer().polarity_scores(s)\n",
    "    return score['compound']\n",
    "\n",
    "df_raw['Score'] = df_raw['Text'].map(getScores)"
   ]
  },
  {
   "cell_type": "code",
   "execution_count": 177,
   "metadata": {},
   "outputs": [],
   "source": [
    "dftx = df_raw[df_raw['Texas']==1]"
   ]
  },
  {
   "cell_type": "markdown",
   "metadata": {},
   "source": [
    "## Beto Sentiments in different regions"
   ]
  },
  {
   "cell_type": "code",
   "execution_count": 178,
   "metadata": {},
   "outputs": [
    {
     "name": "stdout",
     "output_type": "stream",
     "text": [
      "Nationwide Beto Sentiment:  0.014103557312252947\n"
     ]
    },
    {
     "data": {
      "image/png": "[encoded data removed]",
      "text/plain": [
       "<matplotlib.figure.Figure at 0x1ff70eb6c18>"
      ]
     },
     "metadata": {},
     "output_type": "display_data"
    }
   ],
   "source": [
    "#Beto Sentiment Nationwide\n",
    "df_raw[df_raw['Beto']==1]['Score'].hist(bins=20)\n",
    "plt.title('Beto Sentiment Nationwide')\n",
    "plt.ylabel('Number of Tweets')\n",
    "\n",
    "senti_betonation = df_raw[df_raw['Beto']==1]['Score'].mean()\n",
    "print('Nationwide Beto Sentiment: ', senti_betonation)"
   ]
  },
  {
   "cell_type": "code",
   "execution_count": 179,
   "metadata": {},
   "outputs": [
    {
     "name": "stdout",
     "output_type": "stream",
     "text": [
      "Texas Beto Sentiment:  -0.03628684210526315\n"
     ]
    },
    {
     "data": {
      "image/png": "[encoded data removed]",
      "text/plain": [
       "<matplotlib.figure.Figure at 0x1ff7106cfd0>"
      ]
     },
     "metadata": {},
     "output_type": "display_data"
    }
   ],
   "source": [
    "#Beto Sentiment in Texas\n",
    "dftx[dftx['Beto']==1]['Score'].hist(bins=20)\n",
    "plt.title('Beto Sentiment in Texas')\n",
    "plt.ylabel('Number of Tweets')\n",
    "\n",
    "senti_betotexas = dftx[dftx['Beto']==1]['Score'].mean()\n",
    "print('Texas Beto Sentiment: ', senti_betotexas)"
   ]
  },
  {
   "cell_type": "code",
   "execution_count": 180,
   "metadata": {},
   "outputs": [
    {
     "name": "stdout",
     "output_type": "stream",
     "text": [
      "Texas Urban Beto Sentiment:  0.03915384615384616\n"
     ]
    },
    {
     "data": {
      "image/png": "[encoded data removed]",
      "text/plain": [
       "<matplotlib.figure.Figure at 0x1ff710b3630>"
      ]
     },
     "metadata": {},
     "output_type": "display_data"
    }
   ],
   "source": [
    "#Beto Sentiment in Texas Cities\n",
    "dftx.loc[(dftx['Beto']==1) & (dftx['Urban']==1)]['Score'].hist(bins=20)\n",
    "plt.title('Beto Sentiment in Texas Cities')\n",
    "plt.ylabel('Number of Tweets')\n",
    "\n",
    "senti_betotxurban = dftx.loc[(dftx['Beto']==1) & (dftx['Urban']==1)]['Score'].mean()\n",
    "print('Texas Urban Beto Sentiment: ', senti_betotxurban)"
   ]
  },
  {
   "cell_type": "code",
   "execution_count": 181,
   "metadata": {},
   "outputs": [
    {
     "name": "stdout",
     "output_type": "stream",
     "text": [
      "Rural Texas Beto Sentiment:  -0.07551599999999997\n"
     ]
    },
    {
     "data": {
      "image/png": "[encoded data removed]",
      "text/plain": [
       "<matplotlib.figure.Figure at 0x1ff711aae80>"
      ]
     },
     "metadata": {},
     "output_type": "display_data"
    }
   ],
   "source": [
    "#Beto Sentiment in Rural Texas\n",
    "dftx.loc[(dftx['Beto']==1) & (dftx['Urban']==0)]['Score'].hist(bins=20)\n",
    "plt.title('Beto Sentiment in Rural Texas')\n",
    "plt.ylabel('Number of Tweets')\n",
    "\n",
    "senti_betotxrural = dftx.loc[(dftx['Beto']==1) & (dftx['Urban']==0)]['Score'].mean()\n",
    "print('Rural Texas Beto Sentiment: ', senti_betotxrural)"
   ]
  },
  {
   "cell_type": "markdown",
   "metadata": {},
   "source": [
    "## Cruz Sentiments in different regions"
   ]
  },
  {
   "cell_type": "code",
   "execution_count": 182,
   "metadata": {},
   "outputs": [
    {
     "name": "stdout",
     "output_type": "stream",
     "text": [
      "Nationwide Cruz Sentiment:  0.42262798165137416\n"
     ]
    },
    {
     "data": {
      "image/png": "[encoded data removed]",
      "text/plain": [
       "<matplotlib.figure.Figure at 0x1ff71252780>"
      ]
     },
     "metadata": {},
     "output_type": "display_data"
    }
   ],
   "source": [
    "#Cruz Sentiment Nationwide\n",
    "df_raw[df_raw['Cruz']==1]['Score'].hist(bins=20, color='darkred')\n",
    "plt.title('Cruz Sentiment Nationwide')\n",
    "plt.ylabel('Number of Tweets')\n",
    "\n",
    "senti_cruznation = df_raw[df_raw['Cruz']==1]['Score'].mean()\n",
    "print('Nationwide Cruz Sentiment: ', senti_cruznation)"
   ]
  },
  {
   "cell_type": "code",
   "execution_count": 183,
   "metadata": {},
   "outputs": [
    {
     "name": "stdout",
     "output_type": "stream",
     "text": [
      "Texas Cruz Sentiment:  0.3220249999999998\n"
     ]
    },
    {
     "data": {
      "image/png": "[encoded data removed]",
      "text/plain": [
       "<matplotlib.figure.Figure at 0x1ff710f3cc0>"
      ]
     },
     "metadata": {},
     "output_type": "display_data"
    }
   ],
   "source": [
    "#Cruz Sentiment in Texas\n",
    "dftx[dftx['Cruz']==1]['Score'].hist(bins=20, color='darkred')\n",
    "plt.title('Cruz Sentiment in Texas')\n",
    "plt.ylabel('Number of Tweets')\n",
    "\n",
    "senti_cruztexas = dftx[dftx['Cruz']==1]['Score'].mean()\n",
    "print('Texas Cruz Sentiment: ', senti_cruztexas)"
   ]
  },
  {
   "cell_type": "code",
   "execution_count": 235,
   "metadata": {},
   "outputs": [
    {
     "name": "stdout",
     "output_type": "stream",
     "text": [
      "Texas Urban Cruz Sentiment:  0.40395333333333305\n"
     ]
    },
    {
     "data": {
      "image/png": "[encoded data removed]",
      "text/plain": [
       "<matplotlib.figure.Figure at 0x1ff71643cf8>"
      ]
     },
     "metadata": {},
     "output_type": "display_data"
    }
   ],
   "source": [
    "#Cruz Sentiment in Texas Cities\n",
    "dftx.loc[(dftx['Cruz']==1) & (dftx['Urban']==1)]['Score'].hist(bins=20, color='darkred')\n",
    "plt.title('Cruz Sentiment in Texas Cities')\n",
    "plt.ylabel('Number of Tweets')\n",
    "\n",
    "senti_cruztxurban = dftx.loc[(dftx['Cruz']==1) & (dftx['Urban']==1)]['Score'].mean()\n",
    "print('Texas Urban Cruz Sentiment: ', senti_cruztxurban)\n",
    "\n",
    "# print (dftx.loc[(dftx['Cruz']==1) & (dftx['Urban']==1)]['Location'].value_counts())"
   ]
  },
  {
   "cell_type": "code",
   "execution_count": 185,
   "metadata": {},
   "outputs": [
    {
     "name": "stdout",
     "output_type": "stream",
     "text": [
      "Rural Texas Cruz Sentiment:  0.2166885714285715\n"
     ]
    },
    {
     "data": {
      "image/png": "[encoded data removed]",
      "text/plain": [
       "<matplotlib.figure.Figure at 0x1ff70fb57b8>"
      ]
     },
     "metadata": {},
     "output_type": "display_data"
    }
   ],
   "source": [
    "#Cruz Sentiment in Rural Texas\n",
    "dftx.loc[(dftx['Cruz']==1) & (dftx['Urban']==0)]['Score'].hist(bins=20, color='darkred')\n",
    "plt.title('Cruz Sentiment in Rural Texas')\n",
    "plt.ylabel('Number of Tweets')\n",
    "\n",
    "senti_cruztxrural = dftx.loc[(dftx['Cruz']==1) & (dftx['Urban']==0)]['Score'].mean()\n",
    "print('Rural Texas Cruz Sentiment: ', senti_cruztxrural)"
   ]
  },
  {
   "cell_type": "markdown",
   "metadata": {},
   "source": [
    "# Lift in Texas (urban vs rural)"
   ]
  },
  {
   "cell_type": "code",
   "execution_count": 186,
   "metadata": {
    "collapsed": true
   },
   "outputs": [],
   "source": [
    "prcruz = dftx['Cruz'].mean()\n",
    "prbeto = dftx['Beto'].mean()\n",
    "prcity = dftx['Urban'].mean() #About 52% urban"
   ]
  },
  {
   "cell_type": "code",
   "execution_count": 187,
   "metadata": {},
   "outputs": [
    {
     "data": {
      "text/plain": [
       "1.0747767857142858"
      ]
     },
     "execution_count": 187,
     "metadata": {},
     "output_type": "execute_result"
    }
   ],
   "source": [
    "#Lift Cruz and City\n",
    "cruzcity = dftx[dftx['Cruz']==1]['Urban'].sum()\n",
    "prcruzcity = cruzcity/len(dftx)\n",
    "\n",
    "lift_cruzcity = prcruzcity/(prcruz*prcity)\n",
    "lift_cruzcity"
   ]
  },
  {
   "cell_type": "code",
   "execution_count": 188,
   "metadata": {},
   "outputs": [
    {
     "data": {
      "text/plain": [
       "0.917892156862745"
      ]
     },
     "execution_count": 188,
     "metadata": {},
     "output_type": "execute_result"
    }
   ],
   "source": [
    "#Lift Cruz and Rural\n",
    "cruzrural = len(dftx[dftx['Cruz']==1]['Urban']) - cruzcity\n",
    "prcruzrural = cruzrural/len(dftx)\n",
    "\n",
    "lift_cruzrural = prcruzrural/(prcruz*(1-prcity))\n",
    "lift_cruzrural"
   ]
  },
  {
   "cell_type": "code",
   "execution_count": 189,
   "metadata": {},
   "outputs": [
    {
     "data": {
      "text/plain": [
       "0.6536654135338347"
      ]
     },
     "execution_count": 189,
     "metadata": {},
     "output_type": "execute_result"
    }
   ],
   "source": [
    "#Lift Beto and City\n",
    "betocity = dftx[dftx['Beto']==1]['Urban'].sum()\n",
    "prbetocity = betocity/len(dftx)\n",
    "\n",
    "lift_betocity = prbetocity/(prbeto*prcity)\n",
    "lift_betocity"
   ]
  },
  {
   "cell_type": "code",
   "execution_count": 190,
   "metadata": {
    "scrolled": true
   },
   "outputs": [
    {
     "data": {
      "text/plain": [
       "1.3802889576883384"
      ]
     },
     "execution_count": 190,
     "metadata": {},
     "output_type": "execute_result"
    }
   ],
   "source": [
    "#Lift Beto and Rural\n",
    "betorural = len(dftx[dftx['Beto']==1]['Urban']) - betocity\n",
    "prbetorural = betorural/len(dftx)\n",
    "\n",
    "lift_betorural = prbetorural/(prbeto*(1-prcity))\n",
    "lift_betorural"
   ]
  },
  {
   "cell_type": "markdown",
   "metadata": {},
   "source": [
    "# Ted Cruz Topics"
   ]
  },
  {
   "cell_type": "code",
   "execution_count": 191,
   "metadata": {},
   "outputs": [],
   "source": [
    "cruztweets = dftx[dftx['Cruz']==1]['Text']"
   ]
  },
  {
   "cell_type": "code",
   "execution_count": 216,
   "metadata": {
    "collapsed": true
   },
   "outputs": [],
   "source": [
    "stemmer = SnowballStemmer('english')\n",
    "# def lemmatize_stemming(text):\n",
    "#     return stemmer.stem(WordNetLemmatizer().lemmatize(text, pos='v'))\n",
    "def preprocess(text):\n",
    "    result = []\n",
    "    for token in gensim.utils.simple_preprocess(text):\n",
    "        if token not in gensim.parsing.preprocessing.STOPWORDS and len(token) > 3:\n",
    "            result.append(token)\n",
    "    return result\n",
    "\n",
    "cruzwords = cruztweets.map(preprocess)"
   ]
  },
  {
   "cell_type": "code",
   "execution_count": 219,
   "metadata": {},
   "outputs": [
    {
     "name": "stdout",
     "output_type": "stream",
     "text": [
      "Word 0 (\"cruz\") appears 1 time.\n",
      "Word 2 (\"register\") appears 1 time.\n",
      "Word 3 (\"texas\") appears 1 time.\n",
      "Word 5 (\"vote\") appears 1 time.\n",
      "Word 6 (\"dont\") appears 1 time.\n",
      "Word 7 (\"tomorrow\") appears 1 time.\n"
     ]
    }
   ],
   "source": [
    "cruz_dt = gensim.corpora.Dictionary(cruzwords)\n",
    "\n",
    "cruz_bow = [cruz_dt.doc2bow(tweet) for tweet in cruzwords]\n",
    "\n",
    "bow_tweet_1 = cruz_bow[1]\n",
    "\n",
    "#Print sample breakdown\n",
    "for i in range(len(bow_tweet_1)):\n",
    "    print(\"Word {} (\\\"{}\\\") appears {} time.\".format(bow_tweet_1[i][0], \n",
    "                                                     cruz_dt[bow_tweet_1[i][0]], \n",
    "                                                     bow_tweet_1[i][1]))"
   ]
  },
  {
   "cell_type": "code",
   "execution_count": 226,
   "metadata": {},
   "outputs": [],
   "source": [
    "cruz_tfidf = models.TfidfModel(cruz_bow)\n",
    "cruz_model = cruz_tfidf[cruz_bow]\n",
    "lda_model_tfidf = gensim.models.LdaMulticore(cruz_model, num_topics=10, id2word=cruz_dt, passes=2, workers=4)"
   ]
  },
  {
   "cell_type": "code",
   "execution_count": 227,
   "metadata": {},
   "outputs": [
    {
     "name": "stdout",
     "output_type": "stream",
     "text": [
      "0.038*\"tomorrow\" + 0.038*\"doubts\" + 0.038*\"endorsed\" + 0.038*\"becaus\" + 0.038*\"conservative\" + 0.037*\"dont\" + 0.033*\"register\" + 0.031*\"texas\" + 0.029*\"november\" + 0.021*\"prosperous\"\n",
      " \n",
      "0.114*\"fuck\" + 0.111*\"registered\" + 0.053*\"today\" + 0.028*\"november\" + 0.023*\"register\" + 0.021*\"cause\" + 0.019*\"refuse\" + 0.019*\"leading\" + 0.017*\"friends\" + 0.015*\"party\"\n",
      " \n",
      "0.030*\"beto\" + 0.023*\"socialism\" + 0.023*\"wants\" + 0.021*\"stuck\" + 0.021*\"voting\" + 0.021*\"said\" + 0.021*\"uhhhhhh\" + 0.021*\"girl\" + 0.021*\"bitch\" + 0.021*\"class\"\n",
      " \n",
      "0.022*\"beto\" + 0.019*\"county\" + 0.019*\"tarrant\" + 0.019*\"signs\" + 0.018*\"great\" + 0.018*\"state\" + 0.018*\"lead\" + 0.017*\"fellow\" + 0.017*\"alamo\" + 0.017*\"burning\"\n",
      " \n",
      "0.175*\"tomorrow\" + 0.169*\"dont\" + 0.150*\"register\" + 0.106*\"texas\" + 0.044*\"vote\" + 0.008*\"rule\" + 0.007*\"depends\" + 0.007*\"november\" + 0.006*\"freedom\" + 0.006*\"family\"\n",
      " \n"
     ]
    }
   ],
   "source": [
    "df_topics = pd.DataFrame(lda_model_tfidf.print_topics(5))\n",
    "for r in range(len(df_topics)):\n",
    "    print (df_topics.iloc[r][1])\n",
    "    print (' ')"
   ]
  },
  {
   "cell_type": "code",
   "execution_count": null,
   "metadata": {},
   "outputs": [],
   "source": []
  },
  {
   "cell_type": "code",
   "execution_count": null,
   "metadata": {},
   "outputs": [],
   "source": []
  },
  {
   "cell_type": "code",
   "execution_count": null,
   "metadata": {
    "collapsed": true
   },
   "outputs": [],
   "source": []
  },
  {
   "cell_type": "code",
   "execution_count": null,
   "metadata": {
    "collapsed": true
   },
   "outputs": [],
   "source": []
  },
  {
   "cell_type": "code",
   "execution_count": null,
   "metadata": {
    "collapsed": true
   },
   "outputs": [],
   "source": []
  },
  {
   "cell_type": "code",
   "execution_count": null,
   "metadata": {
    "collapsed": true
   },
   "outputs": [],
   "source": []
  },
  {
   "cell_type": "code",
   "execution_count": null,
   "metadata": {
    "collapsed": true
   },
   "outputs": [],
   "source": []
  },
  {
   "cell_type": "code",
   "execution_count": null,
   "metadata": {
    "collapsed": true
   },
   "outputs": [],
   "source": []
  },
  {
   "cell_type": "code",
   "execution_count": null,
   "metadata": {
    "collapsed": true
   },
   "outputs": [],
   "source": []
  }
 ],
 "metadata": {
  "kernelspec": {
   "display_name": "Python 3",
   "language": "python",
   "name": "python3"
  }
 },
 "nbformat": 4,
 "nbformat_minor": 2
}
