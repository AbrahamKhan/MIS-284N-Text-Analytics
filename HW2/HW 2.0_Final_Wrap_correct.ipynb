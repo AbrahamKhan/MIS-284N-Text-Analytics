{
 "cells": [
  {
   "cell_type": "markdown",
   "metadata": {},
   "source": [
    "Group : Abraham, Avani, Apoorva, Alyson, Jefrey                                         \n",
    "* Run on Python 2"
   ]
  },
  {
   "cell_type": "markdown",
   "metadata": {},
   "source": [
    "### 1 / 2"
   ]
  },
  {
   "cell_type": "code",
   "execution_count": 68,
   "metadata": {},
   "outputs": [],
   "source": [
    "# Web scraper for Edmunds\n",
    "# Selenium is used to handle the javascript on a website\n",
    "\n",
    "#Importing libraries\n",
    "from selenium import webdriver\n",
    "from selenium.webdriver.common.keys import Keys\n",
    "from bs4 import BeautifulSoup\n",
    "import re\n",
    "import pandas as pd\n",
    "import os     #to manipulate files\n",
    "\n",
    "import warnings\n",
    "warnings.filterwarnings('ignore')\n"
   ]
  },
  {
   "cell_type": "code",
   "execution_count": null,
   "metadata": {},
   "outputs": [],
   "source": [
    "chrome_path = r'C:\\Users\\Abraham\\Downloads\\Apps\\chromedriver'\n",
    "# prepend it with r because of the backslash characters\n",
    "\n",
    "driver = webdriver.Chrome(chrome_path) # This will open up a chrome window\n",
    "\n",
    "page = 2557\n",
    "url = \"https://forums.edmunds.com/discussion/18576/general/x/edmunds-members-cars-conversations/p\" + str(page)\n",
    "\n",
    "driver.get(url)  # Open that website\n"
   ]
  },
  {
   "cell_type": "code",
   "execution_count": null,
   "metadata": {},
   "outputs": [],
   "source": [
    "userlist = []\n",
    "datelist = []\n",
    "postlist = []\n",
    "quotelist = []\n",
    "while len(postlist)<5000:\n",
    "    #User\n",
    "    users = driver.find_elements_by_class_name('Username')\n",
    "    for user in users:\n",
    "        userlist.append(user.text)\n",
    "    \n",
    "    #Date\n",
    "    dates = driver.find_elements_by_class_name('DateCreated')\n",
    "    for date in dates:\n",
    "        datelist.append(date.text)\n",
    "    \n",
    "    # This is the list of all the comments\n",
    "    posts = driver.find_elements_by_class_name('Item-Body')\n",
    "    for post in posts:\n",
    "        postlist.append(post.text)\n",
    "\n",
    "    # This is the list of the blockquotes that you don't want\n",
    "    quotes = driver.find_elements_by_class_name('Quote')\n",
    "    for quote in quotes:\n",
    "        quotelist.append(quote.text)\n",
    "        \n",
    "    page = page - 1\n",
    "    url = \"https://forums.edmunds.com/discussion/18576/general/x/edmunds-members-cars-conversations/p\" + str(page)\n",
    "\n",
    "    driver.get(url)\n",
    "    \n"
   ]
  },
  {
   "cell_type": "code",
   "execution_count": null,
   "metadata": {},
   "outputs": [],
   "source": [
    "# Now you have to delete quotes from the posts\n",
    "for j in range(0,len(quotelist)):\n",
    "    for i in range(0,len(postlist)):\n",
    "        if (quotelist[j] in postlist[i]):\n",
    "            postlist[i]=postlist[i].replace(quotelist[j],'')   "
   ]
  },
  {
   "cell_type": "code",
   "execution_count": null,
   "metadata": {},
   "outputs": [],
   "source": [
    "len(postlist)"
   ]
  },
  {
   "cell_type": "code",
   "execution_count": null,
   "metadata": {},
   "outputs": [],
   "source": [
    "df_raw = pd.DataFrame(datelist)\n",
    "df_raw['Users'] = userlist\n",
    "df_raw['Text'] = postlist\n",
    "df_raw.columns = ['Date','User','Text']"
   ]
  },
  {
   "cell_type": "code",
   "execution_count": null,
   "metadata": {},
   "outputs": [],
   "source": [
    "df_raw"
   ]
  },
  {
   "cell_type": "code",
   "execution_count": null,
   "metadata": {},
   "outputs": [],
   "source": [
    "postfile_name = r'C:\\Users\\Abraham\\MSBA\\Text\\HW2\\postfile.csv'\n",
    "df_raw.to_csv(postfile_name)"
   ]
  },
  {
   "cell_type": "markdown",
   "metadata": {
    "collapsed": true
   },
   "source": [
    "# 3"
   ]
  },
  {
   "cell_type": "code",
   "execution_count": 113,
   "metadata": {},
   "outputs": [],
   "source": [
    "import pandas as pd\n",
    "posts=pd.read_csv('postfile.csv')"
   ]
  },
  {
   "cell_type": "code",
   "execution_count": 6,
   "metadata": {},
   "outputs": [
    {
     "data": {
      "text/html": [
       "<div>\n",
       "<style scoped>\n",
       "    .dataframe tbody tr th:only-of-type {\n",
       "        vertical-align: middle;\n",
       "    }\n",
       "\n",
       "    .dataframe tbody tr th {\n",
       "        vertical-align: top;\n",
       "    }\n",
       "\n",
       "    .dataframe thead th {\n",
       "        text-align: right;\n",
       "    }\n",
       "</style>\n",
       "<table border=\"1\" class=\"dataframe\">\n",
       "  <thead>\n",
       "    <tr style=\"text-align: right;\">\n",
       "      <th></th>\n",
       "      <th>Unnamed: 0</th>\n",
       "      <th>Date</th>\n",
       "      <th>User</th>\n",
       "      <th>Text</th>\n",
       "    </tr>\n",
       "  </thead>\n",
       "  <tbody>\n",
       "    <tr>\n",
       "      <th>0</th>\n",
       "      <td>0</td>\n",
       "      <td>Sep-26</td>\n",
       "      <td>snakeweasel</td>\n",
       "      <td>I went and checked and yes the 59k one is an...</td>\n",
       "    </tr>\n",
       "    <tr>\n",
       "      <th>1</th>\n",
       "      <td>1</td>\n",
       "      <td>Sep-26</td>\n",
       "      <td>snakeweasel</td>\n",
       "      <td>I would have told them that I used to but I ...</td>\n",
       "    </tr>\n",
       "  </tbody>\n",
       "</table>\n",
       "</div>"
      ],
      "text/plain": [
       "   Unnamed: 0    Date         User  \\\n",
       "0           0  Sep-26  snakeweasel   \n",
       "1           1  Sep-26  snakeweasel   \n",
       "\n",
       "                                                Text  \n",
       "0    I went and checked and yes the 59k one is an...  \n",
       "1    I would have told them that I used to but I ...  "
      ]
     },
     "execution_count": 6,
     "metadata": {},
     "output_type": "execute_result"
    }
   ],
   "source": [
    "posts = posts.replace(r'\\n',' ', regex=True)\n",
    "posts = posts.replace(r'\\r',' ', regex=True)\n",
    "posts.head(2)"
   ]
  },
  {
   "cell_type": "code",
   "execution_count": 7,
   "metadata": {},
   "outputs": [],
   "source": [
    "import nltk\n",
    "import re\n",
    "from nltk.tokenize import sent_tokenize, word_tokenize"
   ]
  },
  {
   "cell_type": "markdown",
   "metadata": {},
   "source": [
    "### 3 Task A"
   ]
  },
  {
   "cell_type": "code",
   "execution_count": 8,
   "metadata": {},
   "outputs": [],
   "source": [
    "from string import punctuation\n",
    "def unique_words(s):\n",
    "# Remove punctuation & others, convert to lower and finally stopwords\n",
    "    s=str(s)\n",
    "    for p in punctuation:\n",
    "        s =s.replace(p,'')\n",
    "    s=s.lower()\n",
    "    return list(set(re.findall('\\w+',s)))\n",
    "\n",
    "posts['unique_words_list']=posts['Text'].map(unique_words)"
   ]
  },
  {
   "cell_type": "code",
   "execution_count": 9,
   "metadata": {},
   "outputs": [
    {
     "data": {
      "text/html": [
       "<div>\n",
       "<style scoped>\n",
       "    .dataframe tbody tr th:only-of-type {\n",
       "        vertical-align: middle;\n",
       "    }\n",
       "\n",
       "    .dataframe tbody tr th {\n",
       "        vertical-align: top;\n",
       "    }\n",
       "\n",
       "    .dataframe thead th {\n",
       "        text-align: right;\n",
       "    }\n",
       "</style>\n",
       "<table border=\"1\" class=\"dataframe\">\n",
       "  <thead>\n",
       "    <tr style=\"text-align: right;\">\n",
       "      <th></th>\n",
       "      <th>Unnamed: 0</th>\n",
       "      <th>Date</th>\n",
       "      <th>User</th>\n",
       "      <th>Text</th>\n",
       "      <th>unique_words_list</th>\n",
       "    </tr>\n",
       "  </thead>\n",
       "  <tbody>\n",
       "    <tr>\n",
       "      <th>0</th>\n",
       "      <td>0</td>\n",
       "      <td>Sep-26</td>\n",
       "      <td>snakeweasel</td>\n",
       "      <td>I went and checked and yes the 59k one is an...</td>\n",
       "      <td>[and, the, hyundai, checked, ctx700d, 2015, i,...</td>\n",
       "    </tr>\n",
       "    <tr>\n",
       "      <th>1</th>\n",
       "      <td>1</td>\n",
       "      <td>Sep-26</td>\n",
       "      <td>snakeweasel</td>\n",
       "      <td>I would have told them that I used to but I ...</td>\n",
       "      <td>[because, sonata, have, sebring, ragtop, would...</td>\n",
       "    </tr>\n",
       "    <tr>\n",
       "      <th>2</th>\n",
       "      <td>2</td>\n",
       "      <td>Sep-26</td>\n",
       "      <td>bwia</td>\n",
       "      <td>No, it can't be otherwise the transactions w...</td>\n",
       "      <td>[secure, is, africa, it, cant, in, even, slow,...</td>\n",
       "    </tr>\n",
       "    <tr>\n",
       "      <th>3</th>\n",
       "      <td>3</td>\n",
       "      <td>Sep-26</td>\n",
       "      <td>Mr_Shiftright</td>\n",
       "      <td>stickguy said:  function is not reliability. S...</td>\n",
       "      <td>[and, alfa, help, just, is, share, satisfactio...</td>\n",
       "    </tr>\n",
       "    <tr>\n",
       "      <th>4</th>\n",
       "      <td>4</td>\n",
       "      <td>Sep-26</td>\n",
       "      <td>imidazol97</td>\n",
       "      <td>show previous quotes        I would have tol...</td>\n",
       "      <td>[because, golf, show, cobalt, back, nascar, ye...</td>\n",
       "    </tr>\n",
       "  </tbody>\n",
       "</table>\n",
       "</div>"
      ],
      "text/plain": [
       "   Unnamed: 0    Date           User  \\\n",
       "0           0  Sep-26    snakeweasel   \n",
       "1           1  Sep-26    snakeweasel   \n",
       "2           2  Sep-26           bwia   \n",
       "3           3  Sep-26  Mr_Shiftright   \n",
       "4           4  Sep-26     imidazol97   \n",
       "\n",
       "                                                Text  \\\n",
       "0    I went and checked and yes the 59k one is an...   \n",
       "1    I would have told them that I used to but I ...   \n",
       "2    No, it can't be otherwise the transactions w...   \n",
       "3  stickguy said:  function is not reliability. S...   \n",
       "4    show previous quotes        I would have tol...   \n",
       "\n",
       "                                   unique_words_list  \n",
       "0  [and, the, hyundai, checked, ctx700d, 2015, i,...  \n",
       "1  [because, sonata, have, sebring, ragtop, would...  \n",
       "2  [secure, is, africa, it, cant, in, even, slow,...  \n",
       "3  [and, alfa, help, just, is, share, satisfactio...  \n",
       "4  [because, golf, show, cobalt, back, nascar, ye...  "
      ]
     },
     "execution_count": 9,
     "metadata": {},
     "output_type": "execute_result"
    }
   ],
   "source": [
    "posts[:5]"
   ]
  },
  {
   "cell_type": "code",
   "execution_count": 10,
   "metadata": {},
   "outputs": [],
   "source": [
    "# Mapping  to brand\n",
    "car_mapping=pd.read_csv('car-list.csv')\n",
    "def lowering (s):\n",
    "    s=s.rstrip()\n",
    "    return s.lower()\n",
    "car_mapping['model']=car_mapping['model'].map(lowering)\n",
    "car_mapping['brand']=car_mapping['brand'].map(lowering)"
   ]
  },
  {
   "cell_type": "code",
   "execution_count": 11,
   "metadata": {},
   "outputs": [],
   "source": [
    "def mentioned_brands(list_1):\n",
    "    list_i=pd.DataFrame(list_1)\n",
    "    mask=car_mapping['model'].isin(pd.Series(list_1))\n",
    "    joiner=car_mapping[mask]\n",
    "    joined=joiner.merge(list_i, left_on='model', right_on=0)\n",
    "    out=set(list(joined['brand']))\n",
    "    return list(out)\n",
    "\n",
    "posts['unique_brands']=posts['unique_words_list'].map(mentioned_brands)\n"
   ]
  },
  {
   "cell_type": "code",
   "execution_count": 12,
   "metadata": {},
   "outputs": [],
   "source": [
    "unique_brands_superlist=posts['unique_brands'].sum()\n",
    "unique_brands=nltk.FreqDist(unique_brands_superlist)\n",
    "unique_brands=pd.DataFrame.from_dict(unique_brands, orient='index', columns=['freq']).sort_values(by='freq', ascending=False)"
   ]
  },
  {
   "cell_type": "code",
   "execution_count": 13,
   "metadata": {},
   "outputs": [
    {
     "data": {
      "text/plain": [
       "<matplotlib.axes._subplots.AxesSubplot at 0xf86e080>"
      ]
     },
     "execution_count": 13,
     "metadata": {},
     "output_type": "execute_result"
    }
   ],
   "source": [
    "unique_brands[:10].plot(kind='bar')"
   ]
  },
  {
   "cell_type": "code",
   "execution_count": 97,
   "metadata": {},
   "outputs": [
    {
     "data": {
      "text/html": [
       "<div>\n",
       "<style scoped>\n",
       "    .dataframe tbody tr th:only-of-type {\n",
       "        vertical-align: middle;\n",
       "    }\n",
       "\n",
       "    .dataframe tbody tr th {\n",
       "        vertical-align: top;\n",
       "    }\n",
       "\n",
       "    .dataframe thead th {\n",
       "        text-align: right;\n",
       "    }\n",
       "</style>\n",
       "<table border=\"1\" class=\"dataframe\">\n",
       "  <thead>\n",
       "    <tr style=\"text-align: right;\">\n",
       "      <th></th>\n",
       "      <th>freq</th>\n",
       "    </tr>\n",
       "  </thead>\n",
       "  <tbody>\n",
       "    <tr>\n",
       "      <th>mercedes-benz</th>\n",
       "      <td>3562</td>\n",
       "    </tr>\n",
       "    <tr>\n",
       "      <th>lexus</th>\n",
       "      <td>2424</td>\n",
       "    </tr>\n",
       "    <tr>\n",
       "      <th>hyundai</th>\n",
       "      <td>926</td>\n",
       "    </tr>\n",
       "    <tr>\n",
       "      <th>mazda</th>\n",
       "      <td>798</td>\n",
       "    </tr>\n",
       "    <tr>\n",
       "      <th>peugeot</th>\n",
       "      <td>719</td>\n",
       "    </tr>\n",
       "    <tr>\n",
       "      <th>chrysler</th>\n",
       "      <td>600</td>\n",
       "    </tr>\n",
       "    <tr>\n",
       "      <th>ford</th>\n",
       "      <td>460</td>\n",
       "    </tr>\n",
       "    <tr>\n",
       "      <th>volkswagen</th>\n",
       "      <td>436</td>\n",
       "    </tr>\n",
       "    <tr>\n",
       "      <th>audi</th>\n",
       "      <td>370</td>\n",
       "    </tr>\n",
       "    <tr>\n",
       "      <th>honda</th>\n",
       "      <td>313</td>\n",
       "    </tr>\n",
       "  </tbody>\n",
       "</table>\n",
       "</div>"
      ],
      "text/plain": [
       "                freq\n",
       " mercedes-benz  3562\n",
       " lexus          2424\n",
       " hyundai         926\n",
       " mazda           798\n",
       " peugeot         719\n",
       " chrysler        600\n",
       " ford            460\n",
       " volkswagen      436\n",
       " audi            370\n",
       " honda           313"
      ]
     },
     "execution_count": 97,
     "metadata": {},
     "output_type": "execute_result"
    }
   ],
   "source": [
    "unique_brands[:10]"
   ]
  },
  {
   "cell_type": "code",
   "execution_count": 16,
   "metadata": {},
   "outputs": [],
   "source": [
    "import numpy as np\n",
    "from itertools import combinations, groupby\n",
    "from collections import Counter\n",
    "\n",
    "# Sample data\n",
    "unique_brands_list = list(unique_brands.index.values)\n",
    "def combination_of_2(set):\n",
    "    return list(combinations(set,2))\n",
    "\n",
    "posts['combinations_of_2']=posts['unique_brands'].map(combination_of_2)\n",
    "set_of_1=posts['unique_brands'].sum()\n",
    "set_of_2=posts['combinations_of_2'].sum()\n",
    "\n",
    "from collections import Counter\n",
    "count_1s=Counter(set_of_1)\n",
    "count_2s=Counter(set_of_2)"
   ]
  },
  {
   "cell_type": "code",
   "execution_count": 33,
   "metadata": {},
   "outputs": [
    {
     "data": {
      "text/html": [
       "<div>\n",
       "<style scoped>\n",
       "    .dataframe tbody tr th:only-of-type {\n",
       "        vertical-align: middle;\n",
       "    }\n",
       "\n",
       "    .dataframe tbody tr th {\n",
       "        vertical-align: top;\n",
       "    }\n",
       "\n",
       "    .dataframe thead th {\n",
       "        text-align: right;\n",
       "    }\n",
       "</style>\n",
       "<table border=\"1\" class=\"dataframe\">\n",
       "  <thead>\n",
       "    <tr style=\"text-align: right;\">\n",
       "      <th></th>\n",
       "      <th>mercedes-benz</th>\n",
       "      <th>lexus</th>\n",
       "      <th>hyundai</th>\n",
       "      <th>mazda</th>\n",
       "      <th>peugeot</th>\n",
       "      <th>chrysler</th>\n",
       "      <th>ford</th>\n",
       "      <th>volkswagen</th>\n",
       "      <th>audi</th>\n",
       "      <th>honda</th>\n",
       "      <th>nissan</th>\n",
       "      <th>subaru</th>\n",
       "      <th>chevrolet</th>\n",
       "      <th>infiniti</th>\n",
       "    </tr>\n",
       "  </thead>\n",
       "  <tbody>\n",
       "    <tr>\n",
       "      <th>mercedes-benz</th>\n",
       "      <td>0</td>\n",
       "      <td>1.20131</td>\n",
       "      <td>0.875713</td>\n",
       "      <td>1.2328</td>\n",
       "      <td>0.879591</td>\n",
       "      <td>0.892423</td>\n",
       "      <td>1.09071</td>\n",
       "      <td>1.32481</td>\n",
       "      <td>1.23067</td>\n",
       "      <td>1.04619</td>\n",
       "      <td>1.2462</td>\n",
       "      <td>1.11577</td>\n",
       "      <td>1.05404</td>\n",
       "      <td>1.09714</td>\n",
       "    </tr>\n",
       "    <tr>\n",
       "      <th>lexus</th>\n",
       "      <td>1.20131</td>\n",
       "      <td>0</td>\n",
       "      <td>0.82295</td>\n",
       "      <td>1.35091</td>\n",
       "      <td>0.870306</td>\n",
       "      <td>0.915564</td>\n",
       "      <td>1.16728</td>\n",
       "      <td>1.60099</td>\n",
       "      <td>1.60191</td>\n",
       "      <td>1.06228</td>\n",
       "      <td>1.22975</td>\n",
       "      <td>1.09538</td>\n",
       "      <td>0.934913</td>\n",
       "      <td>0.982689</td>\n",
       "    </tr>\n",
       "    <tr>\n",
       "      <th>hyundai</th>\n",
       "      <td>0.875713</td>\n",
       "      <td>0.82295</td>\n",
       "      <td>0</td>\n",
       "      <td>1.70717</td>\n",
       "      <td>2.79701</td>\n",
       "      <td>3.3067</td>\n",
       "      <td>0.246798</td>\n",
       "      <td>0.508367</td>\n",
       "      <td>0.336052</td>\n",
       "      <td>0.328163</td>\n",
       "      <td>0.367401</td>\n",
       "      <td>3.37878</td>\n",
       "      <td>0.34701</td>\n",
       "      <td>0.422033</td>\n",
       "    </tr>\n",
       "    <tr>\n",
       "      <th>mazda</th>\n",
       "      <td>1.2328</td>\n",
       "      <td>1.35091</td>\n",
       "      <td>1.70717</td>\n",
       "      <td>0</td>\n",
       "      <td>0.68054</td>\n",
       "      <td>0.69005</td>\n",
       "      <td>1.14554</td>\n",
       "      <td>1.78412</td>\n",
       "      <td>1.78023</td>\n",
       "      <td>1.30274</td>\n",
       "      <td>0.974475</td>\n",
       "      <td>4.3446</td>\n",
       "      <td>1.01727</td>\n",
       "      <td>1.0261</td>\n",
       "    </tr>\n",
       "    <tr>\n",
       "      <th>peugeot</th>\n",
       "      <td>0.879591</td>\n",
       "      <td>0.870306</td>\n",
       "      <td>2.79701</td>\n",
       "      <td>0.68054</td>\n",
       "      <td>0</td>\n",
       "      <td>4.22389</td>\n",
       "      <td>0.287579</td>\n",
       "      <td>0.511005</td>\n",
       "      <td>2.25809</td>\n",
       "      <td>0.422641</td>\n",
       "      <td>2.47854</td>\n",
       "      <td>0.117609</td>\n",
       "      <td>5.45705</td>\n",
       "      <td>0.310592</td>\n",
       "    </tr>\n",
       "    <tr>\n",
       "      <th>chrysler</th>\n",
       "      <td>0.892423</td>\n",
       "      <td>0.915564</td>\n",
       "      <td>3.3067</td>\n",
       "      <td>0.69005</td>\n",
       "      <td>4.22389</td>\n",
       "      <td>0</td>\n",
       "      <td>4.09912</td>\n",
       "      <td>0.44013</td>\n",
       "      <td>0.405892</td>\n",
       "      <td>0.453152</td>\n",
       "      <td>0.459018</td>\n",
       "      <td>0.281869</td>\n",
       "      <td>0.310056</td>\n",
       "      <td>0.279145</td>\n",
       "    </tr>\n",
       "    <tr>\n",
       "      <th>ford</th>\n",
       "      <td>1.09071</td>\n",
       "      <td>1.16728</td>\n",
       "      <td>0.246798</td>\n",
       "      <td>1.14554</td>\n",
       "      <td>0.287579</td>\n",
       "      <td>4.09912</td>\n",
       "      <td>0</td>\n",
       "      <td>0.973444</td>\n",
       "      <td>0.941199</td>\n",
       "      <td>0.903987</td>\n",
       "      <td>0.704376</td>\n",
       "      <td>0.625015</td>\n",
       "      <td>0.698546</td>\n",
       "      <td>0.647293</td>\n",
       "    </tr>\n",
       "    <tr>\n",
       "      <th>volkswagen</th>\n",
       "      <td>1.32481</td>\n",
       "      <td>1.60099</td>\n",
       "      <td>0.508367</td>\n",
       "      <td>1.78412</td>\n",
       "      <td>0.511005</td>\n",
       "      <td>0.44013</td>\n",
       "      <td>0.973444</td>\n",
       "      <td>0</td>\n",
       "      <td>4.40647</td>\n",
       "      <td>1.6874</td>\n",
       "      <td>0.594519</td>\n",
       "      <td>2.09463</td>\n",
       "      <td>0.736998</td>\n",
       "      <td>1.70731</td>\n",
       "    </tr>\n",
       "    <tr>\n",
       "      <th>audi</th>\n",
       "      <td>1.23067</td>\n",
       "      <td>1.60191</td>\n",
       "      <td>0.336052</td>\n",
       "      <td>1.78023</td>\n",
       "      <td>2.25809</td>\n",
       "      <td>0.405892</td>\n",
       "      <td>0.941199</td>\n",
       "      <td>4.40647</td>\n",
       "      <td>0</td>\n",
       "      <td>0.907745</td>\n",
       "      <td>4.77262</td>\n",
       "      <td>0.63992</td>\n",
       "      <td>0.63992</td>\n",
       "      <td>0.855039</td>\n",
       "    </tr>\n",
       "    <tr>\n",
       "      <th>honda</th>\n",
       "      <td>1.04619</td>\n",
       "      <td>1.06228</td>\n",
       "      <td>0.328163</td>\n",
       "      <td>1.30274</td>\n",
       "      <td>0.422641</td>\n",
       "      <td>0.453152</td>\n",
       "      <td>0.903987</td>\n",
       "      <td>1.6874</td>\n",
       "      <td>0.907745</td>\n",
       "      <td>0</td>\n",
       "      <td>0.569352</td>\n",
       "      <td>1.29678</td>\n",
       "      <td>1.08065</td>\n",
       "      <td>6.59959</td>\n",
       "    </tr>\n",
       "    <tr>\n",
       "      <th>nissan</th>\n",
       "      <td>1.2462</td>\n",
       "      <td>1.22975</td>\n",
       "      <td>0.367401</td>\n",
       "      <td>0.974475</td>\n",
       "      <td>2.47854</td>\n",
       "      <td>0.459018</td>\n",
       "      <td>0.704376</td>\n",
       "      <td>0.594519</td>\n",
       "      <td>4.77262</td>\n",
       "      <td>0.569352</td>\n",
       "      <td>0</td>\n",
       "      <td>0.656783</td>\n",
       "      <td>0.656783</td>\n",
       "      <td>0.903382</td>\n",
       "    </tr>\n",
       "    <tr>\n",
       "      <th>subaru</th>\n",
       "      <td>1.11577</td>\n",
       "      <td>1.09538</td>\n",
       "      <td>3.37878</td>\n",
       "      <td>4.3446</td>\n",
       "      <td>0.117609</td>\n",
       "      <td>0.281869</td>\n",
       "      <td>0.625015</td>\n",
       "      <td>2.09463</td>\n",
       "      <td>0.63992</td>\n",
       "      <td>1.29678</td>\n",
       "      <td>0.656783</td>\n",
       "      <td>0</td>\n",
       "      <td>0.342814</td>\n",
       "      <td>0.817316</td>\n",
       "    </tr>\n",
       "    <tr>\n",
       "      <th>chevrolet</th>\n",
       "      <td>1.05404</td>\n",
       "      <td>0.934913</td>\n",
       "      <td>0.34701</td>\n",
       "      <td>1.01727</td>\n",
       "      <td>5.45705</td>\n",
       "      <td>0.310056</td>\n",
       "      <td>0.698546</td>\n",
       "      <td>0.736998</td>\n",
       "      <td>0.63992</td>\n",
       "      <td>1.08065</td>\n",
       "      <td>0.656783</td>\n",
       "      <td>0.342814</td>\n",
       "      <td>0</td>\n",
       "      <td>0.440093</td>\n",
       "    </tr>\n",
       "    <tr>\n",
       "      <th>infiniti</th>\n",
       "      <td>1.09714</td>\n",
       "      <td>0.982689</td>\n",
       "      <td>0.422033</td>\n",
       "      <td>1.0261</td>\n",
       "      <td>0.310592</td>\n",
       "      <td>0.279145</td>\n",
       "      <td>0.647293</td>\n",
       "      <td>1.70731</td>\n",
       "      <td>0.855039</td>\n",
       "      <td>6.59959</td>\n",
       "      <td>0.903382</td>\n",
       "      <td>0.817316</td>\n",
       "      <td>0.440093</td>\n",
       "      <td>0</td>\n",
       "    </tr>\n",
       "  </tbody>\n",
       "</table>\n",
       "</div>"
      ],
      "text/plain": [
       "                mercedes-benz     lexus   hyundai     mazda   peugeot  \\\n",
       " mercedes-benz              0   1.20131  0.875713    1.2328  0.879591   \n",
       " lexus                1.20131         0   0.82295   1.35091  0.870306   \n",
       " hyundai             0.875713   0.82295         0   1.70717   2.79701   \n",
       " mazda                 1.2328   1.35091   1.70717         0   0.68054   \n",
       " peugeot             0.879591  0.870306   2.79701   0.68054         0   \n",
       " chrysler            0.892423  0.915564    3.3067   0.69005   4.22389   \n",
       " ford                 1.09071   1.16728  0.246798   1.14554  0.287579   \n",
       " volkswagen           1.32481   1.60099  0.508367   1.78412  0.511005   \n",
       " audi                 1.23067   1.60191  0.336052   1.78023   2.25809   \n",
       " honda                1.04619   1.06228  0.328163   1.30274  0.422641   \n",
       " nissan                1.2462   1.22975  0.367401  0.974475   2.47854   \n",
       " subaru               1.11577   1.09538   3.37878    4.3446  0.117609   \n",
       " chevrolet            1.05404  0.934913   0.34701   1.01727   5.45705   \n",
       " infiniti             1.09714  0.982689  0.422033    1.0261  0.310592   \n",
       "\n",
       "                chrysler      ford  volkswagen      audi     honda    nissan  \\\n",
       " mercedes-benz  0.892423   1.09071     1.32481   1.23067   1.04619    1.2462   \n",
       " lexus          0.915564   1.16728     1.60099   1.60191   1.06228   1.22975   \n",
       " hyundai          3.3067  0.246798    0.508367  0.336052  0.328163  0.367401   \n",
       " mazda           0.69005   1.14554     1.78412   1.78023   1.30274  0.974475   \n",
       " peugeot         4.22389  0.287579    0.511005   2.25809  0.422641   2.47854   \n",
       " chrysler              0   4.09912     0.44013  0.405892  0.453152  0.459018   \n",
       " ford            4.09912         0    0.973444  0.941199  0.903987  0.704376   \n",
       " volkswagen      0.44013  0.973444           0   4.40647    1.6874  0.594519   \n",
       " audi           0.405892  0.941199     4.40647         0  0.907745   4.77262   \n",
       " honda          0.453152  0.903987      1.6874  0.907745         0  0.569352   \n",
       " nissan         0.459018  0.704376    0.594519   4.77262  0.569352         0   \n",
       " subaru         0.281869  0.625015     2.09463   0.63992   1.29678  0.656783   \n",
       " chevrolet      0.310056  0.698546    0.736998   0.63992   1.08065  0.656783   \n",
       " infiniti       0.279145  0.647293     1.70731  0.855039   6.59959  0.903382   \n",
       "\n",
       "                  subaru  chevrolet  infiniti  \n",
       " mercedes-benz   1.11577    1.05404   1.09714  \n",
       " lexus           1.09538   0.934913  0.982689  \n",
       " hyundai         3.37878    0.34701  0.422033  \n",
       " mazda            4.3446    1.01727    1.0261  \n",
       " peugeot        0.117609    5.45705  0.310592  \n",
       " chrysler       0.281869   0.310056  0.279145  \n",
       " ford           0.625015   0.698546  0.647293  \n",
       " volkswagen      2.09463   0.736998   1.70731  \n",
       " audi            0.63992    0.63992  0.855039  \n",
       " honda           1.29678    1.08065   6.59959  \n",
       " nissan         0.656783   0.656783  0.903382  \n",
       " subaru                0   0.342814  0.817316  \n",
       " chevrolet      0.342814          0  0.440093  \n",
       " infiniti       0.817316   0.440093         0  "
      ]
     },
     "execution_count": 33,
     "metadata": {},
     "output_type": "execute_result"
    }
   ],
   "source": [
    "unique_name=unique_brands.index.values\n",
    "matrix = pd.DataFrame(index=unique_name, columns=unique_name)\n",
    "for row in unique_name:\n",
    "       for column in unique_name:\n",
    "            if row==column:\n",
    "                matrix.loc[row,column]=0\n",
    "            else:\n",
    "                matrix.loc[row,column]=((count_2s[(row, column)]+count_2s[(column, row)])*len(posts)*1.0)/(count_1s[row]*count_1s[column]*1.0)\n",
    "matrix.iloc[:14,:14]"
   ]
  },
  {
   "cell_type": "code",
   "execution_count": 112,
   "metadata": {},
   "outputs": [
    {
     "data": {
      "image/png": "[encoded data removed]",
      "text/plain": [
       "<Figure size 720x432 with 2 Axes>"
      ]
     },
     "metadata": {},
     "output_type": "display_data"
    },
    {
     "data": {
      "text/plain": [
       "<Figure size 1800x1440 with 0 Axes>"
      ]
     },
     "metadata": {},
     "output_type": "display_data"
    }
   ],
   "source": [
    "matrix_c = matrix.iloc[:20,:20].apply(pd.to_numeric, errors='coerce')\n",
    "matrix_c\n",
    "sns.heatmap(matrix_c, cmap='RdYlGn_r', linewidths=0.5)\n",
    "plt.figure(figsize=(25,20))\n",
    "plt.show()"
   ]
  },
  {
   "cell_type": "code",
   "execution_count": 34,
   "metadata": {},
   "outputs": [
    {
     "data": {
      "image/png": "[encoded data removed]",
      "text/plain": [
       "<Figure size 720x432 with 1 Axes>"
      ]
     },
     "metadata": {},
     "output_type": "display_data"
    }
   ],
   "source": [
    "matrix_1=matrix.iloc[:16,:16]\n",
    "matrix_1=matrix_1.replace(np.nan,0)\n",
    "\n",
    "import numpy as np\n",
    "from sklearn import manifold\n",
    "from sklearn.manifold import MDS\n",
    "\n",
    "mdsdf = 1/matrix_1\n",
    "\n",
    "mdsdf=mdsdf.replace(np.nan,0)\n",
    "mdsdf=mdsdf.replace(np.inf,0)\n",
    "\n",
    "mdsmatrix=mdsdf.values\n",
    "\n",
    "from matplotlib import pyplot as plt\n",
    "\n",
    "mds=manifold.MDS(n_components=2, dissimilarity ='precomputed', random_state=10)\n",
    "\n",
    "results=mds.fit(mdsmatrix)\n",
    "coords=results.embedding_\n",
    "\n",
    "x=coords[:,0]\n",
    "y=coords[:,1]\n",
    "\n",
    "ax=plt.axes([0.,0.,1.,1.])\n",
    "plt.scatter(x,y,marker='o',color='orange')\n",
    "\n",
    "n=list(mdsdf.index)\n",
    "\n",
    "for i,n in enumerate(n):\n",
    "    #print(x[i].item())\n",
    "    #print(n)\n",
    "    #print(type(y[i]))\n",
    "    if n=='kia':\n",
    "        ax.annotate(n,xy=((x[i]+.01),y[i]-.01))\n",
    "    else:\n",
    "        ax.annotate(n,xy=((x[i]+.01),y[i]-.02))\n",
    "\n",
    "plt.xticks([])\n",
    "plt.yticks([])\n",
    "\n",
    "plt.show()\n",
    "\n"
   ]
  },
  {
   "cell_type": "markdown",
   "metadata": {},
   "source": [
    "### Task B\n",
    "\n",
    "As per our analysis, Mercedes-Benz is facing a really tough competition from Lexus. Despite of the fact that they are perceived to be playing in very different league. Another interesting fact is appearance of Mazda really close to these brands which is unexpected as it isn't a premiere league car. BMW is appearing really far away from all of these which is strange again as these are perceived to be equivalent brands \n",
    "\n",
    "In our MDS mapping, Hyundai and Honda are essentially the two brands far apart, meaning that they were the least frequently mentioned pair in the posts we collected. This is surprising because our perception was that these two brands are close competitors. If Honda is actually closer to VW in the minds of the crowd, then Honda should be trying to differentiate itself from its German competitors while retaining the positive aspects of being compared with VW and Audi. For example, German cars are usually more associated with clean, high quality interiors. Honda can try to match this attention to detail, but offer people a lower cost (up front and maintenance). As per our analysis, Mercedes-Benz is facing a really tough competition from Lexus. Despite of the fact that they are perceived to be playing in very different league. Another interesting fact is appearance of Mazda really close to these brands which is unexpected as it isn't a premiere league car."
   ]
  },
  {
   "cell_type": "markdown",
   "metadata": {},
   "source": [
    "### Task C"
   ]
  },
  {
   "cell_type": "code",
   "execution_count": 56,
   "metadata": {},
   "outputs": [],
   "source": [
    "unique_brands_superlist=posts['unique_brands'].sum()\n",
    "top_5_brands=unique_brands[:5]\n",
    "car_mapping1=car_mapping.merge(top_5_brands,left_on='brand',right_index=True,how='inner')\n",
    "def mentioned_topbrands(list_1):\n",
    "    list_i=pd.DataFrame(list_1)\n",
    "    mask=car_mapping1['model'].isin(pd.Series(list_1))\n",
    "    joiner=car_mapping1[mask]\n",
    "    joined=joiner.merge(list_i, left_on='model', right_on=0)\n",
    "    out=set(list(joined['brand']))\n",
    "    return list(out)\n",
    "\n",
    "posts['unique_topbrands']=posts['unique_words_list'].map(mentioned_topbrands)\n"
   ]
  },
  {
   "cell_type": "code",
   "execution_count": 57,
   "metadata": {},
   "outputs": [],
   "source": [
    "# replacing models and brands with empty string\"\n",
    "\n",
    "def joining(s):\n",
    "    s1=\" \".join(s)\n",
    "    return s1\n",
    "posts['words combined']=posts['unique_words_list1']=posts['unique_words_list'].map(joining)\n",
    "a=posts['words combined'].str.cat(sep = ' ')\n",
    "brand=list(car_mapping['brand'])\n",
    "brand1=[]\n",
    "for i in brand:\n",
    "    j=str(i).replace(' ','')\n",
    "    brand1.append(j)\n",
    "for p in brand1:\n",
    "    a1=str(a).replace(p,\"\")\n",
    "\n",
    "for p in list(car_mapping['model']):\n",
    "    a2=str(a1).replace(p,\"\")\n",
    "\n"
   ]
  },
  {
   "cell_type": "code",
   "execution_count": 58,
   "metadata": {},
   "outputs": [
    {
     "data": {
      "text/html": [
       "<div>\n",
       "<style scoped>\n",
       "    .dataframe tbody tr th:only-of-type {\n",
       "        vertical-align: middle;\n",
       "    }\n",
       "\n",
       "    .dataframe tbody tr th {\n",
       "        vertical-align: top;\n",
       "    }\n",
       "\n",
       "    .dataframe thead th {\n",
       "        text-align: right;\n",
       "    }\n",
       "</style>\n",
       "<table border=\"1\" class=\"dataframe\">\n",
       "  <thead>\n",
       "    <tr style=\"text-align: right;\">\n",
       "      <th></th>\n",
       "      <th>words</th>\n",
       "      <th>count</th>\n",
       "      <th>attributes</th>\n",
       "    </tr>\n",
       "  </thead>\n",
       "  <tbody>\n",
       "    <tr>\n",
       "      <th>0</th>\n",
       "      <td>said</td>\n",
       "      <td>1862</td>\n",
       "      <td>NaN</td>\n",
       "    </tr>\n",
       "    <tr>\n",
       "      <th>1</th>\n",
       "      <td>2015</td>\n",
       "      <td>1529</td>\n",
       "      <td>NaN</td>\n",
       "    </tr>\n",
       "  </tbody>\n",
       "</table>\n",
       "</div>"
      ],
      "text/plain": [
       "  words  count attributes\n",
       "0  said   1862        NaN\n",
       "1  2015   1529        NaN"
      ]
     },
     "execution_count": 58,
     "metadata": {},
     "output_type": "execute_result"
    }
   ],
   "source": [
    "attrbute_mapping=pd.read_csv(\"Attributesmapping.csv\")\n",
    "attrbute_mapping.head(2)"
   ]
  },
  {
   "cell_type": "code",
   "execution_count": 59,
   "metadata": {},
   "outputs": [
    {
     "data": {
      "text/html": [
       "<div>\n",
       "<style scoped>\n",
       "    .dataframe tbody tr th:only-of-type {\n",
       "        vertical-align: middle;\n",
       "    }\n",
       "\n",
       "    .dataframe tbody tr th {\n",
       "        vertical-align: top;\n",
       "    }\n",
       "\n",
       "    .dataframe thead th {\n",
       "        text-align: right;\n",
       "    }\n",
       "</style>\n",
       "<table border=\"1\" class=\"dataframe\">\n",
       "  <thead>\n",
       "    <tr style=\"text-align: right;\">\n",
       "      <th></th>\n",
       "      <th>words</th>\n",
       "      <th>count</th>\n",
       "      <th>attributes</th>\n",
       "    </tr>\n",
       "  </thead>\n",
       "  <tbody>\n",
       "    <tr>\n",
       "      <th>12</th>\n",
       "      <td>previous</td>\n",
       "      <td>910</td>\n",
       "      <td>practical</td>\n",
       "    </tr>\n",
       "    <tr>\n",
       "      <th>13</th>\n",
       "      <td>time</td>\n",
       "      <td>908</td>\n",
       "      <td>practical</td>\n",
       "    </tr>\n",
       "  </tbody>\n",
       "</table>\n",
       "</div>"
      ],
      "text/plain": [
       "       words  count attributes\n",
       "12  previous    910  practical\n",
       "13      time    908  practical"
      ]
     },
     "execution_count": 59,
     "metadata": {},
     "output_type": "execute_result"
    }
   ],
   "source": [
    "attrbute_mapping=attrbute_mapping.dropna(how='any')\n",
    "attrbute_mapping.head(2)"
   ]
  },
  {
   "cell_type": "code",
   "execution_count": 60,
   "metadata": {},
   "outputs": [
    {
     "data": {
      "text/html": [
       "<div>\n",
       "<style scoped>\n",
       "    .dataframe tbody tr th:only-of-type {\n",
       "        vertical-align: middle;\n",
       "    }\n",
       "\n",
       "    .dataframe tbody tr th {\n",
       "        vertical-align: top;\n",
       "    }\n",
       "\n",
       "    .dataframe thead th {\n",
       "        text-align: right;\n",
       "    }\n",
       "</style>\n",
       "<table border=\"1\" class=\"dataframe\">\n",
       "  <thead>\n",
       "    <tr style=\"text-align: right;\">\n",
       "      <th></th>\n",
       "      <th>freq</th>\n",
       "    </tr>\n",
       "  </thead>\n",
       "  <tbody>\n",
       "    <tr>\n",
       "      <th>mercedes-benz</th>\n",
       "      <td>3562</td>\n",
       "    </tr>\n",
       "    <tr>\n",
       "      <th>lexus</th>\n",
       "      <td>2424</td>\n",
       "    </tr>\n",
       "    <tr>\n",
       "      <th>hyundai</th>\n",
       "      <td>926</td>\n",
       "    </tr>\n",
       "    <tr>\n",
       "      <th>mazda</th>\n",
       "      <td>798</td>\n",
       "    </tr>\n",
       "    <tr>\n",
       "      <th>peugeot</th>\n",
       "      <td>719</td>\n",
       "    </tr>\n",
       "  </tbody>\n",
       "</table>\n",
       "</div>"
      ],
      "text/plain": [
       "                freq\n",
       " mercedes-benz  3562\n",
       " lexus          2424\n",
       " hyundai         926\n",
       " mazda           798\n",
       " peugeot         719"
      ]
     },
     "execution_count": 60,
     "metadata": {},
     "output_type": "execute_result"
    }
   ],
   "source": [
    "top5_brands=unique_brands[:5]\n",
    "top5_brands"
   ]
  },
  {
   "cell_type": "code",
   "execution_count": 61,
   "metadata": {
    "scrolled": true
   },
   "outputs": [],
   "source": [
    "from pandas import Series, DataFrame\n",
    "from nltk.corpus import stopwords\n",
    "from nltk.stem import WordNetLemmatizer\n",
    "stop_words = set(stopwords.words('english'))\n",
    "s = re.findall('\\w+', a2)\n",
    "s = [w for w in s if not w in stop_words]\n",
    "lemmatizer = WordNetLemmatizer()\n",
    "s = Series(s).map(lemmatizer.lemmatize)\n",
    "attribute_freq=DataFrame(s.value_counts())\n",
    "#attribute_freq"
   ]
  },
  {
   "cell_type": "code",
   "execution_count": 62,
   "metadata": {},
   "outputs": [],
   "source": [
    "def mentioned_attributes(list_1):\n",
    "    list_i=pd.DataFrame(list_1)\n",
    "    mask=attrbute_mapping['words'].isin(pd.Series(list_1))\n",
    "    joiner=attrbute_mapping[mask]\n",
    "    joined=joiner.merge(list_i, left_on='words', right_on=0)\n",
    "    out=set(list(joined['attributes'].dropna()))\n",
    "    return list(out)\n",
    "\n",
    "posts['unique_attributes']=posts['unique_words_list'].map(mentioned_attributes)\n"
   ]
  },
  {
   "cell_type": "code",
   "execution_count": 63,
   "metadata": {},
   "outputs": [
    {
     "data": {
      "text/plain": [
       "0               []\n",
       "1               []\n",
       "2    [performance]\n",
       "Name: unique_attributes, dtype: object"
      ]
     },
     "execution_count": 63,
     "metadata": {},
     "output_type": "execute_result"
    }
   ],
   "source": [
    "posts['unique_attributes'][:3]"
   ]
  },
  {
   "cell_type": "code",
   "execution_count": 64,
   "metadata": {
    "scrolled": true
   },
   "outputs": [],
   "source": [
    "posts['brand_attr']=posts['unique_topbrands']+posts['unique_attributes']"
   ]
  },
  {
   "cell_type": "code",
   "execution_count": 65,
   "metadata": {},
   "outputs": [
    {
     "data": {
      "text/html": [
       "<div>\n",
       "<style scoped>\n",
       "    .dataframe tbody tr th:only-of-type {\n",
       "        vertical-align: middle;\n",
       "    }\n",
       "\n",
       "    .dataframe tbody tr th {\n",
       "        vertical-align: top;\n",
       "    }\n",
       "\n",
       "    .dataframe thead th {\n",
       "        text-align: right;\n",
       "    }\n",
       "</style>\n",
       "<table border=\"1\" class=\"dataframe\">\n",
       "  <thead>\n",
       "    <tr style=\"text-align: right;\">\n",
       "      <th></th>\n",
       "      <th>freq</th>\n",
       "    </tr>\n",
       "  </thead>\n",
       "  <tbody>\n",
       "    <tr>\n",
       "      <th>practical</th>\n",
       "      <td>3206</td>\n",
       "    </tr>\n",
       "    <tr>\n",
       "      <th>performance</th>\n",
       "      <td>2977</td>\n",
       "    </tr>\n",
       "    <tr>\n",
       "      <th>features n look</th>\n",
       "      <td>2047</td>\n",
       "    </tr>\n",
       "    <tr>\n",
       "      <th>durability</th>\n",
       "      <td>1713</td>\n",
       "    </tr>\n",
       "    <tr>\n",
       "      <th>desire</th>\n",
       "      <td>1287</td>\n",
       "    </tr>\n",
       "  </tbody>\n",
       "</table>\n",
       "</div>"
      ],
      "text/plain": [
       "                 freq\n",
       "practical        3206\n",
       "performance      2977\n",
       "features n look  2047\n",
       "durability       1713\n",
       "desire           1287"
      ]
     },
     "execution_count": 65,
     "metadata": {},
     "output_type": "execute_result"
    }
   ],
   "source": [
    "##If you want distinct count of frequencies of attributes\n",
    "unique_attributes=nltk.FreqDist(posts['unique_attributes'].sum())\n",
    "unique_attributes=pd.DataFrame.from_dict(unique_attributes, orient='index', columns=['freq']).sort_values(by='freq', ascending=False)\n",
    "unique_attributes[:5]"
   ]
  },
  {
   "cell_type": "markdown",
   "metadata": {},
   "source": [
    "### Top Feature is practicality (which includes price, family, durability, mileage, safety) "
   ]
  },
  {
   "cell_type": "code",
   "execution_count": 66,
   "metadata": {},
   "outputs": [],
   "source": [
    "# Sample data\n",
    "unique_attributes_list = list(unique_attributes.index.values)"
   ]
  },
  {
   "cell_type": "markdown",
   "metadata": {},
   "source": [
    "### Brand Association with features"
   ]
  },
  {
   "cell_type": "code",
   "execution_count": 101,
   "metadata": {},
   "outputs": [],
   "source": [
    "from itertools import combinations\n",
    "def combination_of_2(set):\n",
    "    return list(combinations(set,2))\n",
    "\n",
    "posts['combinations_of_2_1']=posts['brand_attr'].map(combination_of_2)"
   ]
  },
  {
   "cell_type": "code",
   "execution_count": 69,
   "metadata": {},
   "outputs": [],
   "source": [
    "#Time taking chunk of code\n",
    "for i in range(len(posts)):\n",
    "    posts['combinations_of_2_1'][i]=list(set(posts['combinations_of_2_1'][i])-set(posts['combinations_of_2'][i]))"
   ]
  },
  {
   "cell_type": "code",
   "execution_count": 100,
   "metadata": {},
   "outputs": [
    {
     "data": {
      "text/plain": [
       "0    [( lexus,  hyundai), ( lexus,  peugeot), ( hyu...\n",
       "1                               [( hyundai,  peugeot)]\n",
       "2                              [( lexus, performance)]\n",
       "3                                   [( lexus, desire)]\n",
       "4                              [( peugeot, practical)]\n",
       "Name: combinations_of_brandattr, dtype: object"
      ]
     },
     "execution_count": 100,
     "metadata": {},
     "output_type": "execute_result"
    }
   ],
   "source": [
    "posts['combinations_of_brandattr']=posts['brand_attr'].map(combination_of_2)\n",
    "posts['combinations_of_brandattr'][:5]"
   ]
  },
  {
   "cell_type": "code",
   "execution_count": 71,
   "metadata": {
    "scrolled": true
   },
   "outputs": [],
   "source": [
    "set_of_1_comb=posts['combinations_of_2_1'].sum()"
   ]
  },
  {
   "cell_type": "code",
   "execution_count": 73,
   "metadata": {},
   "outputs": [
    {
     "data": {
      "text/plain": [
       "['performance', 'desire', 'practical']"
      ]
     },
     "execution_count": 73,
     "metadata": {},
     "output_type": "execute_result"
    }
   ],
   "source": [
    "set_of_2_attr=posts['unique_attributes'].sum()\n",
    "set_of_2_attr[:3]"
   ]
  },
  {
   "cell_type": "code",
   "execution_count": 74,
   "metadata": {},
   "outputs": [],
   "source": [
    "from collections import Counter\n",
    "count_2s_comb=Counter(set_of_1_comb)\n",
    "# count_2s_comb is a dictionary with count of occurences of pairs"
   ]
  },
  {
   "cell_type": "code",
   "execution_count": 75,
   "metadata": {},
   "outputs": [],
   "source": [
    "count_1_attr=Counter(posts['brand_attr'].sum())\n",
    "# count_1_attr is a dictionary with count of occurences of pairs"
   ]
  },
  {
   "cell_type": "code",
   "execution_count": 76,
   "metadata": {},
   "outputs": [],
   "source": [
    "unique_row_name=top5_brands.index.values\n",
    "unique_column_name=unique_attributes.index.values\n",
    "matrix_ba = pd.DataFrame(index=unique_row_name, columns=unique_column_name)"
   ]
  },
  {
   "cell_type": "code",
   "execution_count": 77,
   "metadata": {},
   "outputs": [],
   "source": [
    "for row in unique_row_name:\n",
    "       for column in unique_column_name:\n",
    "            if count_1_attr[row]*count_1_attr[column]==0:\n",
    "                matrix_ba.loc[row,column]=0\n",
    "            else:\n",
    "                matrix_ba.loc[row,column]=((count_2s_comb[(row, column)]+count_2s_comb[(column, row)])*1.0)*len(posts)/(count_1_attr[row]*count_1_attr[column])*1.0\n",
    "                "
   ]
  },
  {
   "cell_type": "code",
   "execution_count": 92,
   "metadata": {},
   "outputs": [
    {
     "data": {
      "text/html": [
       "<div>\n",
       "<style scoped>\n",
       "    .dataframe tbody tr th:only-of-type {\n",
       "        vertical-align: middle;\n",
       "    }\n",
       "\n",
       "    .dataframe tbody tr th {\n",
       "        vertical-align: top;\n",
       "    }\n",
       "\n",
       "    .dataframe thead th {\n",
       "        text-align: right;\n",
       "    }\n",
       "</style>\n",
       "<table border=\"1\" class=\"dataframe\">\n",
       "  <thead>\n",
       "    <tr style=\"text-align: right;\">\n",
       "      <th></th>\n",
       "      <th>practical</th>\n",
       "      <th>performance</th>\n",
       "      <th>features n look</th>\n",
       "      <th>durability</th>\n",
       "      <th>desire</th>\n",
       "    </tr>\n",
       "  </thead>\n",
       "  <tbody>\n",
       "    <tr>\n",
       "      <th>mercedes-benz</th>\n",
       "      <td>1.136236</td>\n",
       "      <td>1.123085</td>\n",
       "      <td>1.226884</td>\n",
       "      <td>1.219153</td>\n",
       "      <td>1.211016</td>\n",
       "    </tr>\n",
       "    <tr>\n",
       "      <th>lexus</th>\n",
       "      <td>1.223907</td>\n",
       "      <td>1.161968</td>\n",
       "      <td>1.285316</td>\n",
       "      <td>1.275518</td>\n",
       "      <td>1.266067</td>\n",
       "    </tr>\n",
       "    <tr>\n",
       "      <th>hyundai</th>\n",
       "      <td>0.863349</td>\n",
       "      <td>1.107722</td>\n",
       "      <td>0.757956</td>\n",
       "      <td>0.896274</td>\n",
       "      <td>0.768692</td>\n",
       "    </tr>\n",
       "    <tr>\n",
       "      <th>mazda</th>\n",
       "      <td>1.283596</td>\n",
       "      <td>1.382334</td>\n",
       "      <td>1.342283</td>\n",
       "      <td>1.578367</td>\n",
       "      <td>1.452532</td>\n",
       "    </tr>\n",
       "    <tr>\n",
       "      <th>peugeot</th>\n",
       "      <td>0.881707</td>\n",
       "      <td>0.783480</td>\n",
       "      <td>0.789100</td>\n",
       "      <td>0.906378</td>\n",
       "      <td>0.687048</td>\n",
       "    </tr>\n",
       "  </tbody>\n",
       "</table>\n",
       "</div>"
      ],
      "text/plain": [
       "                practical  performance  features n look  durability    desire\n",
       " mercedes-benz   1.136236     1.123085         1.226884    1.219153  1.211016\n",
       " lexus           1.223907     1.161968         1.285316    1.275518  1.266067\n",
       " hyundai         0.863349     1.107722         0.757956    0.896274  0.768692\n",
       " mazda           1.283596     1.382334         1.342283    1.578367  1.452532\n",
       " peugeot         0.881707     0.783480         0.789100    0.906378  0.687048"
      ]
     },
     "execution_count": 92,
     "metadata": {},
     "output_type": "execute_result"
    }
   ],
   "source": [
    "matrix_ba = matrix_ba.apply(pd.to_numeric, errors='coerce')\n",
    "matrix_ba"
   ]
  },
  {
   "cell_type": "code",
   "execution_count": 96,
   "metadata": {},
   "outputs": [
    {
     "data": {
      "text/plain": [
       "<matplotlib.axes._subplots.AxesSubplot at 0x1b6cb0b8>"
      ]
     },
     "execution_count": 96,
     "metadata": {},
     "output_type": "execute_result"
    },
    {
     "data": {
      "image/png": "[encoded data removed]",
      "text/plain": [
       "<Figure size 720x432 with 2 Axes>"
      ]
     },
     "metadata": {},
     "output_type": "display_data"
    }
   ],
   "source": [
    "sns.heatmap(matrix_ba, cmap='RdYlGn_r', linewidths=0.5)"
   ]
  },
  {
   "cell_type": "markdown",
   "metadata": {},
   "source": [
    "### Task D & E"
   ]
  },
  {
   "cell_type": "markdown",
   "metadata": {},
   "source": [
    "Continuing with Hyundai, a product manager can look at associations with their cars and see that their brand is lowest in desirability, features, and look. To improve their association with these attributes, product managers can focus more on the internal and external design of their cars. A marketing manager can leverage the association of Hyundai with performance with a new design scheme to increase desirability. Hyundai and Peugeot are almost associated with the attributes in a similar way except for performance. It would be better for product managers at Peugeot to focus on improving performance to be able to be on par with hyundai.\n",
    "\n",
    "Again we also see Mercedes and Lexus in very close competition across all attributes, but we also see Mazda with very high association with these same features. The marketing managers at the luxury brands, MB and Lexus, should be trying to market their supposedly superior features to people that are talking about Mazda. Mazda product managers need to ensure that their vehicles actually perform to the expectations of the users. Mazda leads in durability by far, and should work to keep that differentiation"
   ]
  },
  {
   "cell_type": "markdown",
   "metadata": {},
   "source": [
    "We measure “aspirational” (i.e. desirability) with a word association algorithm liking want-words with higher scores. Our analysis involved running the collection of comments through functions that counted the occurrence of words like “dream”, “love”, and “wanted”. Higher instances resulted in higher scores. The most desirable brand according to this method is Mazda, which makes intuitive sense as they lead in all other categories.\n",
    "\n",
    "They are by far the strongest contender for durability and performance, and do slightly better than all others in looks and practicality, according to the data. Therefore, their best advice is to maintain their strongest leads while staying competitive with everyone else in the other. Market their practicality and looks more aggressively to give them the lead they already have in durability and performance. \n"
   ]
  }
 ],
 "metadata": {
  "kernelspec": {
   "display_name": "Python 2",
   "language": "python",
   "name": "python2"
  },
  "language_info": {
   "codemirror_mode": {
    "name": "ipython",
    "version": 2
   },
   "file_extension": ".py",
   "mimetype": "text/x-python",
   "name": "python",
   "nbconvert_exporter": "python",
   "pygments_lexer": "ipython2",
   "version": "2.7.15"
  }
 },
 "nbformat": 4,
 "nbformat_minor": 2
}
