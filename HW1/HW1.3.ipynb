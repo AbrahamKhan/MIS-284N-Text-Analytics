{
 "cells": [
  {
   "cell_type": "markdown",
   "metadata": {
    "collapsed": true
   },
   "source": [
    "Group Members: Alyson Brown, Apoorva Reddy, Avani Sharma, Jeffery Fulkerson, Abraham Khan"
   ]
  },
  {
   "cell_type": "code",
   "execution_count": 1,
   "metadata": {},
   "outputs": [
    {
     "name": "stderr",
     "output_type": "stream",
     "text": [
      "C:\\Users\\Abraham\\Anaconda3\\lib\\site-packages\\statsmodels\\compat\\pandas.py:56: FutureWarning: The pandas.core.datetools module is deprecated and will be removed in a future version. Please use the pandas.tseries module instead.\n",
      "  from pandas.core import datetools\n"
     ]
    },
    {
     "name": "stdout",
     "output_type": "stream",
     "text": [
      "Populating the interactive namespace from numpy and matplotlib\n"
     ]
    }
   ],
   "source": [
    "import re\n",
    "from pandas import Series, DataFrame\n",
    "import pandas as pd\n",
    "import nltk\n",
    "import string\n",
    "from nltk.tokenize import sent_tokenize, word_tokenize\n",
    "from nltk.corpus import stopwords\n",
    "from nltk.stem import WordNetLemmatizer\n",
    "import statsmodels.api as sm\n",
    "from patsy import dmatrices\n",
    "from scipy import stats\n",
    "import warnings\n",
    "\n",
    "warnings.filterwarnings('ignore')\n",
    "stop_words = set(stopwords.words('english'))\n",
    "%pylab inline"
   ]
  },
  {
   "cell_type": "code",
   "execution_count": 2,
   "metadata": {
    "collapsed": true
   },
   "outputs": [],
   "source": [
    "#Read files\n",
    "df_raw = pd.read_csv(r'C:\\Users\\Abraham\\MSBA\\Text\\HW1\\Train_rev1.csv')\n",
    "df_train = df_raw.sample(2500)"
   ]
  },
  {
   "cell_type": "markdown",
   "metadata": {},
   "source": [
    "# Part A1"
   ]
  },
  {
   "cell_type": "markdown",
   "metadata": {},
   "source": [
    "Randomly select 2500 data points (the training dataset train_rev1 contains nearly 250k) for ease of analysis. \n",
    "(A1) What are the top 5 parts of speech in the job descriptions? How frequently do they appear? How do these numbers change if you exclude stopwords?"
   ]
  },
  {
   "cell_type": "code",
   "execution_count": 3,
   "metadata": {
    "collapsed": true
   },
   "outputs": [],
   "source": [
    "df_train = df_train[['Id','FullDescription','SalaryNormalized']]\n",
    "df_train['FullDescription'] = df_train['FullDescription'].map(str.lower)"
   ]
  },
  {
   "cell_type": "code",
   "execution_count": 4,
   "metadata": {},
   "outputs": [
    {
     "data": {
      "text/plain": [
       "{'.': 19,\n",
       " 'ADJ': 73095,\n",
       " 'ADP': 66635,\n",
       " 'ADV': 17144,\n",
       " 'CONJ': 31628,\n",
       " 'DET': 53720,\n",
       " 'NOUN': 216025,\n",
       " 'NUM': 4840,\n",
       " 'PRON': 22890,\n",
       " 'PRT': 21624,\n",
       " 'VERB': 110096,\n",
       " 'X': 379}"
      ]
     },
     "execution_count": 4,
     "metadata": {},
     "output_type": "execute_result"
    }
   ],
   "source": [
    "#Tag all parts of speech\n",
    "pos_dt = {}\n",
    "\n",
    "#Function to split a job description into words and tag POS\n",
    "def pos_count(desc):\n",
    "    tokens = re.findall('\\w+', desc)\n",
    "    tokenlist = nltk.pos_tag(tokens, tagset='universal')\n",
    "    \n",
    "    for t in tokenlist:\n",
    "        pos = t[1]\n",
    "        if pos in pos_dt:\n",
    "            pos_dt[pos] += 1\n",
    "        else:\n",
    "            pos_dt[pos] = 1\n",
    "    \n",
    "    return desc\n",
    "\n",
    "#Map function\n",
    "df_train['FullDescription'].map(pos_count)\n",
    "\n",
    "pos_dt"
   ]
  },
  {
   "cell_type": "code",
   "execution_count": 5,
   "metadata": {},
   "outputs": [
    {
     "data": {
      "text/plain": [
       "{'.': 21,\n",
       " 'ADJ': 75566,\n",
       " 'ADP': 6209,\n",
       " 'ADV': 14139,\n",
       " 'CONJ': 460,\n",
       " 'DET': 328,\n",
       " 'NOUN': 209339,\n",
       " 'NUM': 4855,\n",
       " 'PRON': 638,\n",
       " 'PRT': 78,\n",
       " 'VERB': 73736,\n",
       " 'X': 502}"
      ]
     },
     "execution_count": 5,
     "metadata": {},
     "output_type": "execute_result"
    }
   ],
   "source": [
    "#Same as above, but stop words were removed\n",
    "pos_nostop_dt = {}\n",
    "\n",
    "def pos_nostop_count(desc):\n",
    "    tokens = re.findall('\\w+', desc)\n",
    "    filtered_tokens = [w for w in tokens if not w in stop_words]\n",
    "    \n",
    "    tokenlist = nltk.pos_tag(filtered_tokens, tagset='universal')\n",
    "    \n",
    "    for t in tokenlist:\n",
    "        pos = t[1]\n",
    "        if pos in pos_nostop_dt:\n",
    "            pos_nostop_dt[pos] += 1\n",
    "        else:\n",
    "            pos_nostop_dt[pos] = 1\n",
    "    \n",
    "    return desc\n",
    "\n",
    "df_train['FullDescription'].map(pos_nostop_count)\n",
    "\n",
    "pos_nostop_dt"
   ]
  },
  {
   "cell_type": "code",
   "execution_count": 6,
   "metadata": {},
   "outputs": [
    {
     "data": {
      "text/plain": [
       "<matplotlib.axes._subplots.AxesSubplot at 0x2d5cac0ddd8>"
      ]
     },
     "execution_count": 6,
     "metadata": {},
     "output_type": "execute_result"
    },
    {
     "data": {
      "image/png": "[encoded data removed]",
      "text/plain": [
       "<matplotlib.figure.Figure at 0x2d5ec6deb38>"
      ]
     },
     "metadata": {},
     "output_type": "display_data"
    }
   ],
   "source": [
    "#Top 5 POS still including stop words\n",
    "Series(pos_dt).sort_values(ascending=False)[0:5].plot(kind='bar')"
   ]
  },
  {
   "cell_type": "code",
   "execution_count": 7,
   "metadata": {},
   "outputs": [
    {
     "data": {
      "text/plain": [
       "<matplotlib.axes._subplots.AxesSubplot at 0x2d5cac0edd8>"
      ]
     },
     "execution_count": 7,
     "metadata": {},
     "output_type": "execute_result"
    },
    {
     "data": {
      "image/png": "[encoded data removed]",
      "text/plain": [
       "<matplotlib.figure.Figure at 0x2d5cac35048>"
      ]
     },
     "metadata": {},
     "output_type": "display_data"
    }
   ],
   "source": [
    "#Top 5 POS after removing stop words\n",
    "Series(pos_nostop_dt).sort_values(ascending=False)[0:5].plot(kind='bar')"
   ]
  },
  {
   "cell_type": "markdown",
   "metadata": {},
   "source": [
    "Nouns make up over 200k words of the roughly 400k in the 2500 job descriptions. \n",
    "\n",
    "The number of verbs decreased by about 40k after removing stop words. Adposition words (ADP) decreased by over 60k when removing stop words because this category contains words such as \"with\" and \"to\". Determiners (DET) decreased from around 60k to barely 200 words because this category contains words such as \"a\" and \"the\"."
   ]
  },
  {
   "cell_type": "markdown",
   "metadata": {},
   "source": [
    "# Part A2"
   ]
  },
  {
   "cell_type": "markdown",
   "metadata": {},
   "source": [
    "Does this data support Zipf’s law? Plot the most common 100 words in the data against the theoretical prediction of the law. For this question, do not remove stopwords. Also do not perform stemming or lemmatization."
   ]
  },
  {
   "cell_type": "code",
   "execution_count": 8,
   "metadata": {
    "collapsed": true
   },
   "outputs": [],
   "source": [
    "#Concatenate all descriptions into one string and split into words\n",
    "a = df_train['FullDescription'].str.cat(sep = ' ')\n",
    "s = re.findall('\\w+', a)\n",
    "s = Series(s)\n",
    "\n",
    "#Get word counts\n",
    "df_words = DataFrame(s.value_counts())\n",
    "df_words = df_words.reset_index()\n",
    "df_words.columns = ['Word','Counts']"
   ]
  },
  {
   "cell_type": "code",
   "execution_count": 9,
   "metadata": {},
   "outputs": [
    {
     "name": "stdout",
     "output_type": "stream",
     "text": [
      "                            OLS Regression Results                            \n",
      "==============================================================================\n",
      "Dep. Variable:                LogRank   R-squared:                       0.982\n",
      "Model:                            OLS   Adj. R-squared:                  0.982\n",
      "Method:                 Least Squares   F-statistic:                 1.001e+06\n",
      "Date:                Thu, 13 Sep 2018   Prob (F-statistic):               0.00\n",
      "Time:                        12:53:56   Log-Likelihood:                 10874.\n",
      "No. Observations:               18213   AIC:                        -2.174e+04\n",
      "Df Residuals:                   18211   BIC:                        -2.173e+04\n",
      "Df Model:                           1                                         \n",
      "Covariance Type:            nonrobust                                         \n",
      "==============================================================================\n",
      "                 coef    std err          t      P>|t|      [0.025      0.975]\n",
      "------------------------------------------------------------------------------\n",
      "Intercept      3.5593      0.005    665.757      0.000       3.549       3.570\n",
      "LogCount      -0.6315      0.001  -1000.562      0.000      -0.633      -0.630\n",
      "==============================================================================\n",
      "Omnibus:                    21831.434   Durbin-Watson:                   0.002\n",
      "Prob(Omnibus):                  0.000   Jarque-Bera (JB):          4675394.455\n",
      "Skew:                          -6.226   Prob(JB):                         0.00\n",
      "Kurtosis:                      80.498   Cond. No.                         46.5\n",
      "==============================================================================\n",
      "\n",
      "Warnings:\n",
      "[1] Standard Errors assume that the covariance matrix of the errors is correctly specified.\n"
     ]
    }
   ],
   "source": [
    "#Rank words by count, take log of rank and log of count\n",
    "df_words['Rank'] = df_words['Counts'].rank(ascending=False)\n",
    "constant = df_words.iloc[-1]['Counts']*df_words.iloc[-1]['Rank']\n",
    "df_words['LogCount'] = log(df_words['Counts']/constant)\n",
    "df_words['LogRank'] = log(df_words['Rank'])\n",
    "\n",
    "#Run and plot linear regression on the log-log relationship\n",
    "Y, X = dmatrices('LogRank~LogCount', data=df_words, return_type='dataframe')\n",
    "model = sm.OLS(Y, X)       # Set up the model\n",
    "result = model.fit()       # Fit model (find the intercept and slopes)\n",
    "print (result.summary())"
   ]
  },
  {
   "cell_type": "markdown",
   "metadata": {},
   "source": [
    "After linear regression, the log(count/min count) has a coefficient of -0.6 with respect to log(rank) so our dataset only loosely follows Zipf's law. A large number of words with low frequencies \"flatten\" the curve because the change from word to the next does not exactly follow the inverse-rank stated by Zipf's law."
   ]
  },
  {
   "cell_type": "code",
   "execution_count": 10,
   "metadata": {},
   "outputs": [
    {
     "name": "stdout",
     "output_type": "stream",
     "text": [
      "                            OLS Regression Results                            \n",
      "==============================================================================\n",
      "Dep. Variable:                LogRank   R-squared:                       0.990\n",
      "Model:                            OLS   Adj. R-squared:                  0.989\n",
      "Method:                 Least Squares   F-statistic:                     9309.\n",
      "Date:                Thu, 13 Sep 2018   Prob (F-statistic):           6.01e-99\n",
      "Time:                        12:53:56   Log-Likelihood:                 94.287\n",
      "No. Observations:                 100   AIC:                            -184.6\n",
      "Df Residuals:                      98   BIC:                            -179.4\n",
      "Df Model:                           1                                         \n",
      "Covariance Type:            nonrobust                                         \n",
      "==============================================================================\n",
      "                 coef    std err          t      P>|t|      [0.025      0.975]\n",
      "------------------------------------------------------------------------------\n",
      "Intercept      1.3869      0.025     55.050      0.000       1.337       1.437\n",
      "LogCount      -1.0975      0.011    -96.483      0.000      -1.120      -1.075\n",
      "==============================================================================\n",
      "Omnibus:                      109.317   Durbin-Watson:                   0.491\n",
      "Prob(Omnibus):                  0.000   Jarque-Bera (JB):             2604.649\n",
      "Skew:                          -3.367   Prob(JB):                         0.00\n",
      "Kurtosis:                      27.078   Cond. No.                         6.91\n",
      "==============================================================================\n",
      "\n",
      "Warnings:\n",
      "[1] Standard Errors assume that the covariance matrix of the errors is correctly specified.\n"
     ]
    }
   ],
   "source": [
    "#Same regression but using only the top 100 words\n",
    "Y, X = dmatrices('LogRank~LogCount', data=df_words[0:100], return_type='dataframe')\n",
    "model = sm.OLS(Y, X)       # Set up the model\n",
    "result = model.fit()       # Fit model (find the intercept and slopes)\n",
    "print (result.summary())"
   ]
  },
  {
   "cell_type": "markdown",
   "metadata": {},
   "source": [
    "Looking at only the 100 most frequent words results in a rank-count relationship that follows Zipf's law much closer with a coefficient of almost exactly -1"
   ]
  },
  {
   "cell_type": "code",
   "execution_count": 12,
   "metadata": {},
   "outputs": [
    {
     "data": {
      "text/plain": [
       "<matplotlib.legend.Legend at 0x2d5cda18cc0>"
      ]
     },
     "execution_count": 12,
     "metadata": {},
     "output_type": "execute_result"
    },
    {
     "data": {
      "image/png": "[encoded data removed]",
      "text/plain": [
       "<matplotlib.figure.Figure at 0x2d5cda18e80>"
      ]
     },
     "metadata": {},
     "output_type": "display_data"
    }
   ],
   "source": [
    "plot(df_words.iloc[0:100]['LogRank'],df_words.iloc[0:100]['LogCount'], linestyle='-', label='Actual Data')\n",
    "xlabel('LogRank')\n",
    "ylabel('LogCount / Constant')\n",
    "plot(log(constant)-df_words.iloc[0:100]['LogCount']-8,df_words.iloc[0:100]['LogCount'], linestyle='-', label=\"Zipf's Law\")\n",
    "legend(loc='best')"
   ]
  },
  {
   "cell_type": "code",
   "execution_count": 13,
   "metadata": {},
   "outputs": [
    {
     "data": {
      "text/plain": [
       "<matplotlib.legend.Legend at 0x2d5ce18ef98>"
      ]
     },
     "execution_count": 13,
     "metadata": {},
     "output_type": "execute_result"
    },
    {
     "data": {
      "image/png": "[encoded data removed]",
      "text/plain": [
       "<matplotlib.figure.Figure at 0x2d5cd966978>"
      ]
     },
     "metadata": {},
     "output_type": "display_data"
    }
   ],
   "source": [
    "plot(df_words.iloc[0:100]['Rank'],df_words.iloc[0:100]['Counts'], linestyle='-', label='Actual Data')\n",
    "xlabel('Rank')\n",
    "ylabel('Count')\n",
    "\n",
    "df_words['Zipf'] = df_words.iloc[0]['Counts']/df_words['Rank']\n",
    "\n",
    "plot(df_words.iloc[0:100]['Rank'],df_words.iloc[0:100]['Zipf'], linestyle='-', label=\"Zipf's Law\")\n",
    "legend(loc='best')"
   ]
  },
  {
   "cell_type": "markdown",
   "metadata": {},
   "source": [
    "The graph above plots the rank and frequency of the top 100 words in our job descriptions in comparison. The actual word frequencies are higher in the top 100 than Zipf's law would predict, but it follows the general rule that a few words (top 10) have very high frequencies and the counts drop dramatically after the top 20. In the log-log graph, the line for Zipf's law was shifted because of the high intercept value attained from the regression of all 100k+ words."
   ]
  },
  {
   "cell_type": "markdown",
   "metadata": {},
   "source": [
    "# Part A3"
   ]
  },
  {
   "cell_type": "markdown",
   "metadata": {},
   "source": [
    "If we remove stopwords and lemmatize the data, what are the 10 most common words? What are their frequencies?"
   ]
  },
  {
   "cell_type": "code",
   "execution_count": 14,
   "metadata": {
    "collapsed": true
   },
   "outputs": [],
   "source": [
    "s = re.findall('\\w+', a)\n",
    "s = [w for w in s if not w in stop_words]\n",
    "\n",
    "lemmatizer = WordNetLemmatizer()\n",
    "s = Series(s).map(lemmatizer.lemmatize)"
   ]
  },
  {
   "cell_type": "code",
   "execution_count": 15,
   "metadata": {},
   "outputs": [
    {
     "data": {
      "text/plain": [
       "<matplotlib.axes._subplots.AxesSubplot at 0x2d5ce133550>"
      ]
     },
     "execution_count": 15,
     "metadata": {},
     "output_type": "execute_result"
    },
    {
     "data": {
      "image/png": "[encoded data removed]",
      "text/plain": [
       "<matplotlib.figure.Figure at 0x2d5ce13a898>"
      ]
     },
     "metadata": {},
     "output_type": "display_data"
    }
   ],
   "source": [
    "s.value_counts()[0:10].plot(kind='bar')"
   ]
  },
  {
   "cell_type": "markdown",
   "metadata": {},
   "source": [
    "Experience is the most common word by far, showing up more than 4,000 times in 2,500 job descriptions"
   ]
  },
  {
   "cell_type": "markdown",
   "metadata": {},
   "source": [
    "# Part B1"
   ]
  },
  {
   "cell_type": "markdown",
   "metadata": {},
   "source": [
    "Ignore the job descriptions, and train a model to predict high/low salary from all the numeric columns, e.g., part time/full time, contract vs. others, type of job (a lot of dummy variables), location (instead of using a huge number of dummy variables, you can use a list of cities in England with highest cost of living, and create a 0/1 variable which is 1 if the job is in one of those cities, else 0). Use the Naïve Bayes classifier. What is the accuracy of your model?    "
   ]
  },
  {
   "cell_type": "code",
   "execution_count": 16,
   "metadata": {
    "collapsed": true
   },
   "outputs": [],
   "source": [
    "from sklearn.naive_bayes import GaussianNB, BernoulliNB, MultinomialNB"
   ]
  },
  {
   "cell_type": "code",
   "execution_count": 17,
   "metadata": {},
   "outputs": [
    {
     "data": {
      "text/html": [
       "<div>\n",
       "<style>\n",
       "    .dataframe thead tr:only-child th {\n",
       "        text-align: right;\n",
       "    }\n",
       "\n",
       "    .dataframe thead th {\n",
       "        text-align: left;\n",
       "    }\n",
       "\n",
       "    .dataframe tbody tr th {\n",
       "        vertical-align: top;\n",
       "    }\n",
       "</style>\n",
       "<table border=\"1\" class=\"dataframe\">\n",
       "  <thead>\n",
       "    <tr style=\"text-align: right;\">\n",
       "      <th></th>\n",
       "      <th>Id</th>\n",
       "      <th>Title</th>\n",
       "      <th>FullDescription</th>\n",
       "      <th>LocationRaw</th>\n",
       "      <th>LocationNormalized</th>\n",
       "      <th>ContractType</th>\n",
       "      <th>ContractTime</th>\n",
       "      <th>Company</th>\n",
       "      <th>Category</th>\n",
       "      <th>SalaryRaw</th>\n",
       "      <th>SalaryNormalized</th>\n",
       "      <th>SourceName</th>\n",
       "      <th>HighSalary</th>\n",
       "    </tr>\n",
       "  </thead>\n",
       "  <tbody>\n",
       "    <tr>\n",
       "      <th>154317</th>\n",
       "      <td>71011736</td>\n",
       "      <td>Personal Injury</td>\n",
       "      <td>Personal Injury, South Manchester. This specia...</td>\n",
       "      <td>Lancashire</td>\n",
       "      <td>Lancashire</td>\n",
       "      <td>full_time</td>\n",
       "      <td>permanent</td>\n",
       "      <td>Sacco Mann</td>\n",
       "      <td>Legal Jobs</td>\n",
       "      <td>From 28,000 to 30,000 per year + benefits</td>\n",
       "      <td>29000</td>\n",
       "      <td>TotallyLegal</td>\n",
       "      <td>0</td>\n",
       "    </tr>\n",
       "    <tr>\n",
       "      <th>19094</th>\n",
       "      <td>67098427</td>\n",
       "      <td>Accountant Financial Services Firm Ipswich</td>\n",
       "      <td>A global financial services firm is looking fo...</td>\n",
       "      <td>Suffolk</td>\n",
       "      <td>Suffolk</td>\n",
       "      <td>full_time</td>\n",
       "      <td>contract</td>\n",
       "      <td>Hewitson Walker</td>\n",
       "      <td>Accounting &amp; Finance Jobs</td>\n",
       "      <td>From 25 to 30 per hour</td>\n",
       "      <td>52800</td>\n",
       "      <td>GAAPweb</td>\n",
       "      <td>1</td>\n",
       "    </tr>\n",
       "    <tr>\n",
       "      <th>50312</th>\n",
       "      <td>68631190</td>\n",
       "      <td>Supplier Quality Assurance Engineer  Mechanical</td>\n",
       "      <td>Job Title: Supplier Quality Assurance Engineer...</td>\n",
       "      <td>Somerset - Bath</td>\n",
       "      <td>Bath</td>\n",
       "      <td>full_time</td>\n",
       "      <td>permanent</td>\n",
       "      <td>CVbrowser</td>\n",
       "      <td>IT Jobs</td>\n",
       "      <td>30000 - 32000</td>\n",
       "      <td>31000</td>\n",
       "      <td>cvbrowser.com</td>\n",
       "      <td>0</td>\n",
       "    </tr>\n",
       "    <tr>\n",
       "      <th>47635</th>\n",
       "      <td>68576328</td>\n",
       "      <td>IP Network Engineer Juniper JNCIA JNCIS &amp;x</td>\n",
       "      <td>IP Network Engineer  Juniper  JNCIA  JNCIS  JN...</td>\n",
       "      <td>Berkshire - Reading</td>\n",
       "      <td>Reading</td>\n",
       "      <td>full_time</td>\n",
       "      <td>permanent</td>\n",
       "      <td>UKStaffsearch</td>\n",
       "      <td>Engineering Jobs</td>\n",
       "      <td>45000 - 55000</td>\n",
       "      <td>50000</td>\n",
       "      <td>ukstaffsearch.com</td>\n",
       "      <td>1</td>\n",
       "    </tr>\n",
       "    <tr>\n",
       "      <th>19270</th>\n",
       "      <td>67099695</td>\n",
       "      <td>Senior Financial Accountant</td>\n",
       "      <td>Sharp Consultancy is currently recruiting excl...</td>\n",
       "      <td>South Yorkshire</td>\n",
       "      <td>South Yorkshire</td>\n",
       "      <td>full_time</td>\n",
       "      <td>permanent</td>\n",
       "      <td>Sharp Consultancy</td>\n",
       "      <td>Accounting &amp; Finance Jobs</td>\n",
       "      <td>From 40,000 to 45,000 per year</td>\n",
       "      <td>42500</td>\n",
       "      <td>GAAPweb</td>\n",
       "      <td>0</td>\n",
       "    </tr>\n",
       "  </tbody>\n",
       "</table>\n",
       "</div>"
      ],
      "text/plain": [
       "              Id                                            Title  \\\n",
       "154317  71011736                                  Personal Injury   \n",
       "19094   67098427       Accountant Financial Services Firm Ipswich   \n",
       "50312   68631190  Supplier Quality Assurance Engineer  Mechanical   \n",
       "47635   68576328       IP Network Engineer Juniper JNCIA JNCIS &x   \n",
       "19270   67099695                      Senior Financial Accountant   \n",
       "\n",
       "                                          FullDescription  \\\n",
       "154317  Personal Injury, South Manchester. This specia...   \n",
       "19094   A global financial services firm is looking fo...   \n",
       "50312   Job Title: Supplier Quality Assurance Engineer...   \n",
       "47635   IP Network Engineer  Juniper  JNCIA  JNCIS  JN...   \n",
       "19270   Sharp Consultancy is currently recruiting excl...   \n",
       "\n",
       "                LocationRaw LocationNormalized ContractType ContractTime  \\\n",
       "154317           Lancashire         Lancashire    full_time    permanent   \n",
       "19094               Suffolk            Suffolk    full_time     contract   \n",
       "50312       Somerset - Bath               Bath    full_time    permanent   \n",
       "47635   Berkshire - Reading            Reading    full_time    permanent   \n",
       "19270       South Yorkshire    South Yorkshire    full_time    permanent   \n",
       "\n",
       "                  Company                   Category  \\\n",
       "154317         Sacco Mann                 Legal Jobs   \n",
       "19094     Hewitson Walker  Accounting & Finance Jobs   \n",
       "50312           CVbrowser                    IT Jobs   \n",
       "47635       UKStaffsearch           Engineering Jobs   \n",
       "19270   Sharp Consultancy  Accounting & Finance Jobs   \n",
       "\n",
       "                                        SalaryRaw  SalaryNormalized  \\\n",
       "154317  From 28,000 to 30,000 per year + benefits             29000   \n",
       "19094                      From 25 to 30 per hour             52800   \n",
       "50312                               30000 - 32000             31000   \n",
       "47635                               45000 - 55000             50000   \n",
       "19270              From 40,000 to 45,000 per year             42500   \n",
       "\n",
       "               SourceName  HighSalary  \n",
       "154317       TotallyLegal           0  \n",
       "19094             GAAPweb           1  \n",
       "50312       cvbrowser.com           0  \n",
       "47635   ukstaffsearch.com           1  \n",
       "19270             GAAPweb           0  "
      ]
     },
     "execution_count": 17,
     "metadata": {},
     "output_type": "execute_result"
    }
   ],
   "source": [
    "df_train = df_raw.dropna().sample(2500)\n",
    "cutoff = df_train['SalaryNormalized'].quantile(0.75)\n",
    "\n",
    "df_train['HighSalary'] = 0\n",
    "df_train['HighSalary'][df_train['SalaryNormalized']>cutoff] = 1\n",
    "\n",
    "df_train.head()"
   ]
  },
  {
   "cell_type": "code",
   "execution_count": 18,
   "metadata": {},
   "outputs": [
    {
     "data": {
      "text/html": [
       "<div>\n",
       "<style>\n",
       "    .dataframe thead tr:only-child th {\n",
       "        text-align: right;\n",
       "    }\n",
       "\n",
       "    .dataframe thead th {\n",
       "        text-align: left;\n",
       "    }\n",
       "\n",
       "    .dataframe tbody tr th {\n",
       "        vertical-align: top;\n",
       "    }\n",
       "</style>\n",
       "<table border=\"1\" class=\"dataframe\">\n",
       "  <thead>\n",
       "    <tr style=\"text-align: right;\">\n",
       "      <th></th>\n",
       "      <th>ContractType_full_time</th>\n",
       "      <th>ContractTime_permanent</th>\n",
       "      <th>Category_Accounting &amp; Finance Jobs</th>\n",
       "      <th>Category_Admin Jobs</th>\n",
       "      <th>Category_Charity &amp; Voluntary Jobs</th>\n",
       "      <th>Category_Consultancy Jobs</th>\n",
       "      <th>Category_Creative &amp; Design Jobs</th>\n",
       "      <th>Category_Customer Services Jobs</th>\n",
       "      <th>Category_Domestic help &amp; Cleaning Jobs</th>\n",
       "      <th>Category_Energy, Oil &amp; Gas Jobs</th>\n",
       "      <th>...</th>\n",
       "      <th>Category_PR, Advertising &amp; Marketing Jobs</th>\n",
       "      <th>Category_Property Jobs</th>\n",
       "      <th>Category_Retail Jobs</th>\n",
       "      <th>Category_Sales Jobs</th>\n",
       "      <th>Category_Scientific &amp; QA Jobs</th>\n",
       "      <th>Category_Social work Jobs</th>\n",
       "      <th>Category_Teaching Jobs</th>\n",
       "      <th>Category_Trade &amp; Construction Jobs</th>\n",
       "      <th>ExpensiveCity</th>\n",
       "      <th>HighSalary</th>\n",
       "    </tr>\n",
       "  </thead>\n",
       "  <tbody>\n",
       "    <tr>\n",
       "      <th>154317</th>\n",
       "      <td>1</td>\n",
       "      <td>1</td>\n",
       "      <td>0</td>\n",
       "      <td>0</td>\n",
       "      <td>0</td>\n",
       "      <td>0</td>\n",
       "      <td>0</td>\n",
       "      <td>0</td>\n",
       "      <td>0</td>\n",
       "      <td>0</td>\n",
       "      <td>...</td>\n",
       "      <td>0</td>\n",
       "      <td>0</td>\n",
       "      <td>0</td>\n",
       "      <td>0</td>\n",
       "      <td>0</td>\n",
       "      <td>0</td>\n",
       "      <td>0</td>\n",
       "      <td>0</td>\n",
       "      <td>0</td>\n",
       "      <td>0</td>\n",
       "    </tr>\n",
       "    <tr>\n",
       "      <th>19094</th>\n",
       "      <td>1</td>\n",
       "      <td>0</td>\n",
       "      <td>1</td>\n",
       "      <td>0</td>\n",
       "      <td>0</td>\n",
       "      <td>0</td>\n",
       "      <td>0</td>\n",
       "      <td>0</td>\n",
       "      <td>0</td>\n",
       "      <td>0</td>\n",
       "      <td>...</td>\n",
       "      <td>0</td>\n",
       "      <td>0</td>\n",
       "      <td>0</td>\n",
       "      <td>0</td>\n",
       "      <td>0</td>\n",
       "      <td>0</td>\n",
       "      <td>0</td>\n",
       "      <td>0</td>\n",
       "      <td>0</td>\n",
       "      <td>1</td>\n",
       "    </tr>\n",
       "    <tr>\n",
       "      <th>50312</th>\n",
       "      <td>1</td>\n",
       "      <td>1</td>\n",
       "      <td>0</td>\n",
       "      <td>0</td>\n",
       "      <td>0</td>\n",
       "      <td>0</td>\n",
       "      <td>0</td>\n",
       "      <td>0</td>\n",
       "      <td>0</td>\n",
       "      <td>0</td>\n",
       "      <td>...</td>\n",
       "      <td>0</td>\n",
       "      <td>0</td>\n",
       "      <td>0</td>\n",
       "      <td>0</td>\n",
       "      <td>0</td>\n",
       "      <td>0</td>\n",
       "      <td>0</td>\n",
       "      <td>0</td>\n",
       "      <td>0</td>\n",
       "      <td>0</td>\n",
       "    </tr>\n",
       "    <tr>\n",
       "      <th>47635</th>\n",
       "      <td>1</td>\n",
       "      <td>1</td>\n",
       "      <td>0</td>\n",
       "      <td>0</td>\n",
       "      <td>0</td>\n",
       "      <td>0</td>\n",
       "      <td>0</td>\n",
       "      <td>0</td>\n",
       "      <td>0</td>\n",
       "      <td>0</td>\n",
       "      <td>...</td>\n",
       "      <td>0</td>\n",
       "      <td>0</td>\n",
       "      <td>0</td>\n",
       "      <td>0</td>\n",
       "      <td>0</td>\n",
       "      <td>0</td>\n",
       "      <td>0</td>\n",
       "      <td>0</td>\n",
       "      <td>0</td>\n",
       "      <td>1</td>\n",
       "    </tr>\n",
       "    <tr>\n",
       "      <th>19270</th>\n",
       "      <td>1</td>\n",
       "      <td>1</td>\n",
       "      <td>1</td>\n",
       "      <td>0</td>\n",
       "      <td>0</td>\n",
       "      <td>0</td>\n",
       "      <td>0</td>\n",
       "      <td>0</td>\n",
       "      <td>0</td>\n",
       "      <td>0</td>\n",
       "      <td>...</td>\n",
       "      <td>0</td>\n",
       "      <td>0</td>\n",
       "      <td>0</td>\n",
       "      <td>0</td>\n",
       "      <td>0</td>\n",
       "      <td>0</td>\n",
       "      <td>0</td>\n",
       "      <td>0</td>\n",
       "      <td>0</td>\n",
       "      <td>0</td>\n",
       "    </tr>\n",
       "  </tbody>\n",
       "</table>\n",
       "<p>5 rows × 31 columns</p>\n",
       "</div>"
      ],
      "text/plain": [
       "        ContractType_full_time  ContractTime_permanent  \\\n",
       "154317                       1                       1   \n",
       "19094                        1                       0   \n",
       "50312                        1                       1   \n",
       "47635                        1                       1   \n",
       "19270                        1                       1   \n",
       "\n",
       "        Category_Accounting & Finance Jobs  Category_Admin Jobs  \\\n",
       "154317                                   0                    0   \n",
       "19094                                    1                    0   \n",
       "50312                                    0                    0   \n",
       "47635                                    0                    0   \n",
       "19270                                    1                    0   \n",
       "\n",
       "        Category_Charity & Voluntary Jobs  Category_Consultancy Jobs  \\\n",
       "154317                                  0                          0   \n",
       "19094                                   0                          0   \n",
       "50312                                   0                          0   \n",
       "47635                                   0                          0   \n",
       "19270                                   0                          0   \n",
       "\n",
       "        Category_Creative & Design Jobs  Category_Customer Services Jobs  \\\n",
       "154317                                0                                0   \n",
       "19094                                 0                                0   \n",
       "50312                                 0                                0   \n",
       "47635                                 0                                0   \n",
       "19270                                 0                                0   \n",
       "\n",
       "        Category_Domestic help & Cleaning Jobs  \\\n",
       "154317                                       0   \n",
       "19094                                        0   \n",
       "50312                                        0   \n",
       "47635                                        0   \n",
       "19270                                        0   \n",
       "\n",
       "        Category_Energy, Oil & Gas Jobs     ...      \\\n",
       "154317                                0     ...       \n",
       "19094                                 0     ...       \n",
       "50312                                 0     ...       \n",
       "47635                                 0     ...       \n",
       "19270                                 0     ...       \n",
       "\n",
       "        Category_PR, Advertising & Marketing Jobs  Category_Property Jobs  \\\n",
       "154317                                          0                       0   \n",
       "19094                                           0                       0   \n",
       "50312                                           0                       0   \n",
       "47635                                           0                       0   \n",
       "19270                                           0                       0   \n",
       "\n",
       "        Category_Retail Jobs  Category_Sales Jobs  \\\n",
       "154317                     0                    0   \n",
       "19094                      0                    0   \n",
       "50312                      0                    0   \n",
       "47635                      0                    0   \n",
       "19270                      0                    0   \n",
       "\n",
       "        Category_Scientific & QA Jobs  Category_Social work Jobs  \\\n",
       "154317                              0                          0   \n",
       "19094                               0                          0   \n",
       "50312                               0                          0   \n",
       "47635                               0                          0   \n",
       "19270                               0                          0   \n",
       "\n",
       "        Category_Teaching Jobs  Category_Trade & Construction Jobs  \\\n",
       "154317                       0                                   0   \n",
       "19094                        0                                   0   \n",
       "50312                        0                                   0   \n",
       "47635                        0                                   0   \n",
       "19270                        0                                   0   \n",
       "\n",
       "        ExpensiveCity  HighSalary  \n",
       "154317              0           0  \n",
       "19094               0           1  \n",
       "50312               0           0  \n",
       "47635               0           1  \n",
       "19270               0           0  \n",
       "\n",
       "[5 rows x 31 columns]"
      ]
     },
     "execution_count": 18,
     "metadata": {},
     "output_type": "execute_result"
    }
   ],
   "source": [
    "df_nbtrain = pd.get_dummies(df_train[['ContractType','ContractTime','Category']])\n",
    "\n",
    "#Cities where avg rent is >= 20% of avg income\n",
    "high_cities = ['London', 'Central London','The City','Brighton','Edinburgh','Bristol','Southampton','Portsmouth','Exeter'\\\n",
    "                 ,'Cardiff', 'Manchester', 'Birmingham', 'Leeds', 'Aberdeen', 'Glasgow', 'Newcastle', 'Sheffield', 'Liverpool', 'Hull']\n",
    "\n",
    "a = df_train['LocationNormalized']\n",
    "b = []\n",
    "\n",
    "#Create dummy variable for expensive cities\n",
    "for i in range(len(a)):\n",
    "    if a.iloc[i] in high_cities: \n",
    "        b.append(1)\n",
    "    else: b.append(0)\n",
    "\n",
    "\n",
    "df_nbtrain['ExpensiveCity'] = b\n",
    "df_nbtrain['HighSalary'] = df_train['HighSalary']\n",
    "\n",
    "#Drop extra dummies\n",
    "df_nbtrain = df_nbtrain.drop(['ContractType_part_time','ContractTime_contract','Category_Travel Jobs'], axis=1)\n",
    "df_nbtrain.head()\n"
   ]
  },
  {
   "cell_type": "code",
   "execution_count": 19,
   "metadata": {
    "collapsed": true
   },
   "outputs": [],
   "source": [
    "from sklearn import naive_bayes\n",
    "from sklearn import model_selection\n",
    "from sklearn.model_selection import train_test_split\n",
    "from patsy import dmatrices\n",
    "from sklearn import metrics"
   ]
  },
  {
   "cell_type": "code",
   "execution_count": 20,
   "metadata": {},
   "outputs": [
    {
     "name": "stdout",
     "output_type": "stream",
     "text": [
      "Training Accuracy\n",
      "0.753142857143\n",
      " \n",
      "Test Accuracy\n",
      "0.749333333333\n",
      " \n",
      "Baseline Accuracy\n",
      "0.749333333333\n",
      " \n",
      "[[562   0]\n",
      " [188   0]]\n"
     ]
    }
   ],
   "source": [
    "dummy_column_names = list(df_nbtrain.columns.values)[:-1]\n",
    "\n",
    "formula = 'HighSalary ~ 0 + {}'.format(' + '.join(['Q(\"{}\")'.format(x) for x in dummy_column_names]))\n",
    "\n",
    "nbtrain, nbtest = train_test_split(df_nbtrain, test_size=0.3)\n",
    "    \n",
    "#Training Sets\n",
    "Ytrain, xtrain = dmatrices(formula, nbtrain, return_type='dataframe')\n",
    "ytrain = Ytrain['HighSalary'].values\n",
    "\n",
    "#Testing Set\n",
    "Ytest, xtest = dmatrices(formula, nbtest, return_type='dataframe')\n",
    "ytest = Ytest['HighSalary'].values\n",
    "\n",
    "model = naive_bayes.MultinomialNB()\n",
    "model.fit(xtrain, ytrain)\n",
    "\n",
    "prediction_train = model.predict(xtrain)\n",
    "print (\"Training Accuracy\")\n",
    "print (metrics.accuracy_score(ytrain, prediction_train))\n",
    "\n",
    "print (\" \")\n",
    "print (\"Test Accuracy\")\n",
    "prediction_test = model.predict(xtest)\n",
    "print (metrics.accuracy_score(ytest, prediction_test))\n",
    "\n",
    "#Baseline accuracy = if we guessed 'No' for all of them\n",
    "print (\" \")\n",
    "print (\"Baseline Accuracy\")\n",
    "print (1-ytest.mean())\n",
    "\n",
    "#Row 1 is all the ones low salary\n",
    "#Column 1 is all the ones predicted low salary\n",
    "print(' ')\n",
    "print (metrics.confusion_matrix(ytest, prediction_test))"
   ]
  },
  {
   "cell_type": "markdown",
   "metadata": {},
   "source": [
    "A Binomial Naive Bayes model using every variable except the job description essentially predicts a \"Low Salary\" for every job and underperforms even the baseline accuracy."
   ]
  },
  {
   "cell_type": "markdown",
   "metadata": {},
   "source": [
    "# Part B2 "
   ]
  },
  {
   "cell_type": "markdown",
   "metadata": {},
   "source": [
    "Create a classification model with all words and the bag-of-words approach. How accurate is the model (show the confusion matrix)? "
   ]
  },
  {
   "cell_type": "code",
   "execution_count": 21,
   "metadata": {
    "collapsed": true
   },
   "outputs": [],
   "source": [
    "from sklearn.model_selection import train_test_split\n",
    "from sklearn.feature_extraction.text import CountVectorizer\n",
    "from sklearn.feature_extraction.text import TfidfTransformer\n",
    "from sklearn.naive_bayes import MultinomialNB\n",
    "from sklearn import metrics\n",
    "from operator import itemgetter\n",
    "from sklearn.metrics import classification_report\n",
    "import csv\n",
    "import os"
   ]
  },
  {
   "cell_type": "code",
   "execution_count": 22,
   "metadata": {
    "collapsed": true
   },
   "outputs": [],
   "source": [
    "df_text = df_train[['FullDescription','HighSalary']]\n",
    "df_text['FullDescription'] = df_text['FullDescription'].dropna().str.lower().str.replace('\\d+', '')\\\n",
    ".map(lambda x:re.findall('\\w+',x)).map(lambda x:' '.join([i for i in x if i not in stop_words \\\n",
    "                                                          and i not in string.punctuation]))"
   ]
  },
  {
   "cell_type": "code",
   "execution_count": 23,
   "metadata": {
    "collapsed": true
   },
   "outputs": [],
   "source": [
    "#Split Train and Test sets\n",
    "#Split descriptions from salary range\n",
    "X_train, X_test, y_train, y_test = train_test_split(df_text['FullDescription'],\n",
    "                                                    df_text['HighSalary'],\n",
    "                                                    test_size=0.3, random_state=1)"
   ]
  },
  {
   "cell_type": "code",
   "execution_count": 25,
   "metadata": {},
   "outputs": [],
   "source": [
    "#Like the document term matrix, but filled with 1's and 0's instead of TFIDF scores\n",
    "count_vect = CountVectorizer()\n",
    "X_train_counts = count_vect.fit_transform(X_train)\n",
    "X_test_counts = count_vect.transform(X_test)\n",
    "\n",
    "#Fit model on train data\n",
    "clf = BernoulliNB().fit(X_train_counts, y_train)\n",
    "\n",
    "#Predict using X_test data\n",
    "prediction = clf.predict(X_test_counts)"
   ]
  },
  {
   "cell_type": "code",
   "execution_count": 26,
   "metadata": {},
   "outputs": [
    {
     "name": "stdout",
     "output_type": "stream",
     "text": [
      "Prediction Accuracy\n",
      "0.801333333333\n",
      "  \n",
      "Baseline Accuracy\n",
      "0.7653333333333333\n"
     ]
    }
   ],
   "source": [
    "#Percent correct overall\n",
    "print ('Prediction Accuracy')\n",
    "print (metrics.accuracy_score(y_test, prediction))\n",
    "print('  ')\n",
    "#Baseline accuracy = if we guessed 'No' for all of them\n",
    "print ('Baseline Accuracy')\n",
    "print (1-y_test.mean())"
   ]
  },
  {
   "cell_type": "code",
   "execution_count": 27,
   "metadata": {},
   "outputs": [
    {
     "data": {
      "text/plain": [
       "array([[533,  41],\n",
       "       [108,  68]])"
      ]
     },
     "execution_count": 27,
     "metadata": {},
     "output_type": "execute_result"
    }
   ],
   "source": [
    "#Row 1 is all the ones low salary\n",
    "#Column 1 is all the ones predicted low salary\n",
    "metrics.confusion_matrix(y_test, prediction)"
   ]
  },
  {
   "cell_type": "markdown",
   "metadata": {
    "collapsed": true
   },
   "source": [
    "Accuracy is high on the Low salary jobs, but below 50% on the high salary jobs."
   ]
  },
  {
   "cell_type": "markdown",
   "metadata": {},
   "source": [
    "### Also show the top 10 words (excluding stopwords) that are most indicative of (i) high salary, and (ii) low salary.  "
   ]
  },
  {
   "cell_type": "code",
   "execution_count": 33,
   "metadata": {},
   "outputs": [
    {
     "data": {
      "text/plain": [
       "comprising      3.152373\n",
       "schools         3.004606\n",
       "scenarios       2.864691\n",
       "teach           2.858895\n",
       "ks              2.688269\n",
       "negotiations    2.682369\n",
       "strategist      2.682369\n",
       "migration       2.682369\n",
       "terrific        2.682369\n",
       "definitions     2.682369\n",
       "dtype: float64"
      ]
     },
     "execution_count": 33,
     "metadata": {},
     "output_type": "execute_result"
    }
   ],
   "source": [
    "commonimp = abs(clf.feature_log_prob_[1]-clf.feature_log_prob_[0])\n",
    "\n",
    "topcommon = Series(commonimp,index=count_vect.get_feature_names()).sort_values(ascending=False)\n",
    "topcommon[0:10]"
   ]
  },
  {
   "cell_type": "markdown",
   "metadata": {},
   "source": [
    "The words above are the most indicative in our model for predicting salary, either high or low."
   ]
  },
  {
   "cell_type": "code",
   "execution_count": 34,
   "metadata": {
    "scrolled": true
   },
   "outputs": [
    {
     "data": {
      "text/plain": [
       "comprising      3.152373\n",
       "scenarios       2.864691\n",
       "definitions     2.682369\n",
       "footprint       2.682369\n",
       "negotiations    2.682369\n",
       "terrific        2.682369\n",
       "migration       2.682369\n",
       "strategist      2.682369\n",
       "fp              2.682369\n",
       "definition      2.539268\n",
       "dtype: float64"
      ]
     },
     "execution_count": 34,
     "metadata": {},
     "output_type": "execute_result"
    }
   ],
   "source": [
    "highimp = clf.feature_log_prob_[1]-clf.feature_log_prob_[0]\n",
    "\n",
    "tophigh = Series(highimp,index=count_vect.get_feature_names()).sort_values(ascending=False)\n",
    "tophigh[0:10]"
   ]
  },
  {
   "cell_type": "markdown",
   "metadata": {},
   "source": [
    "The words above are the top 10 most indicative of high salary jobs in this model. They seem to describe specific high-level positions that involve things such as negotiations and strategic decisions."
   ]
  },
  {
   "cell_type": "code",
   "execution_count": 35,
   "metadata": {},
   "outputs": [
    {
     "data": {
      "text/plain": [
       "teachers      -2.282804\n",
       "technicians   -2.392805\n",
       "pupils        -2.423576\n",
       "gcse          -2.453429\n",
       "technician    -2.482417\n",
       "graduates     -2.482417\n",
       "maths         -2.482417\n",
       "ks            -2.688269\n",
       "teach         -2.858895\n",
       "schools       -3.004606\n",
       "dtype: float64"
      ]
     },
     "execution_count": 35,
     "metadata": {},
     "output_type": "execute_result"
    }
   ],
   "source": [
    "lowimp = clf.feature_log_prob_[1]-clf.feature_log_prob_[0]\n",
    "\n",
    "toplow = Series(highimp,index=count_vect.get_feature_names()).sort_values(ascending=False)\n",
    "toplow[-10:]"
   ]
  },
  {
   "cell_type": "markdown",
   "metadata": {
    "collapsed": true
   },
   "source": [
    "The words above are the top 10 most indicative of low salary jobs in this model. They seem to center around school and teaching positions, with the exception of technicians which are commonly also low-level jobs."
   ]
  },
  {
   "cell_type": "markdown",
   "metadata": {},
   "source": [
    "# Part B3"
   ]
  },
  {
   "cell_type": "markdown",
   "metadata": {},
   "source": [
    "Train a “hybrid” model to predict high/low salary using both numeric and text data. Show the accuracy of the model. "
   ]
  },
  {
   "cell_type": "code",
   "execution_count": 36,
   "metadata": {
    "collapsed": true
   },
   "outputs": [],
   "source": [
    "df_hybrid = df_text.join(df_nbtrain.drop('HighSalary',axis=1))\n",
    "\n",
    "X_htrain, X_htest, y_htrain, y_htest = train_test_split(df_hybrid.drop('HighSalary',axis=1),\n",
    "                                                    df_hybrid['HighSalary'],\n",
    "                                                    test_size=0.3, random_state=1)"
   ]
  },
  {
   "cell_type": "code",
   "execution_count": 37,
   "metadata": {
    "collapsed": true
   },
   "outputs": [],
   "source": [
    "X_htrain_words = count_vect.fit_transform(X_htrain['FullDescription'])\n",
    "X_htrain_counts = DataFrame(X_htrain_words.todense()).join(X_htrain.drop('FullDescription',axis=1).reset_index())"
   ]
  },
  {
   "cell_type": "code",
   "execution_count": 38,
   "metadata": {
    "collapsed": true
   },
   "outputs": [],
   "source": [
    "X_htest_words = count_vect.transform(X_htest['FullDescription'])\n",
    "X_htest_counts = DataFrame(X_htest_words.todense()).join(X_htest.drop('FullDescription',axis=1).reset_index())"
   ]
  },
  {
   "cell_type": "code",
   "execution_count": 39,
   "metadata": {},
   "outputs": [
    {
     "name": "stdout",
     "output_type": "stream",
     "text": [
      "Prediction Accuracy\n",
      "0.802666666667\n",
      "  \n",
      "Baseline Accuracy\n",
      "0.7653333333333333\n"
     ]
    }
   ],
   "source": [
    "#Fit model on train data\n",
    "hybrid_model = BernoulliNB().fit(X_htrain_counts, y_htrain)\n",
    "\n",
    "#Predict using X_test data\n",
    "hybrid_prediction = hybrid_model.predict(X_htest_counts)\n",
    "\n",
    "#Percent correct overall\n",
    "print ('Prediction Accuracy')\n",
    "print (metrics.accuracy_score(y_htest, hybrid_prediction))\n",
    "print('  ')\n",
    "#Baseline accuracy = if we guessed 'No' for all of them\n",
    "print ('Baseline Accuracy')\n",
    "print (1-y_htest.mean())"
   ]
  },
  {
   "cell_type": "code",
   "execution_count": 40,
   "metadata": {},
   "outputs": [
    {
     "data": {
      "text/plain": [
       "array([[533,  41],\n",
       "       [107,  69]])"
      ]
     },
     "execution_count": 40,
     "metadata": {},
     "output_type": "execute_result"
    }
   ],
   "source": [
    "#Row 1 is all the ones low salary\n",
    "#Column 1 is all the ones predicted low salary\n",
    "metrics.confusion_matrix(y_htest, hybrid_prediction)"
   ]
  },
  {
   "cell_type": "markdown",
   "metadata": {},
   "source": [
    "The hybrid model is on par with the text-only model with an accuracy of 80.2% vs 80.1%\n",
    "\n",
    "Even though accuracy increased for \"High Salary\" jobs, it decreased when predicting the \"Low Salary\" jobs, which make up 75% of the data. This is not surprising because we saw earlier that the dummy variables such as job category have little to no predictive power."
   ]
  }
 ],
 "metadata": {
  "kernelspec": {
   "display_name": "Python 3",
   "language": "python",
   "name": "python3"
  },
  "language_info": {
   "codemirror_mode": {
    "name": "ipython",
    "version": 3
   },
   "file_extension": ".py",
   "mimetype": "text/x-python",
   "name": "python",
   "nbconvert_exporter": "python",
   "pygments_lexer": "ipython3",
   "version": "3.6.1"
  }
 },
 "nbformat": 4,
 "nbformat_minor": 2
}
