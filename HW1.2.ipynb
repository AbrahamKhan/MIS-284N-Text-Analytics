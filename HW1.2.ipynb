{
 "cells": [
  {
   "cell_type": "code",
   "execution_count": 1,
   "metadata": {},
   "outputs": [
    {
     "name": "stderr",
     "output_type": "stream",
     "text": [
      "C:\\Users\\Abraham\\Anaconda3\\lib\\site-packages\\statsmodels\\compat\\pandas.py:56: FutureWarning: The pandas.core.datetools module is deprecated and will be removed in a future version. Please use the pandas.tseries module instead.\n",
      "  from pandas.core import datetools\n"
     ]
    },
    {
     "name": "stdout",
     "output_type": "stream",
     "text": [
      "Populating the interactive namespace from numpy and matplotlib\n"
     ]
    }
   ],
   "source": [
    "import re\n",
    "from pandas import Series, DataFrame\n",
    "import pandas as pd\n",
    "import nltk\n",
    "import string\n",
    "from nltk.tokenize import sent_tokenize, word_tokenize\n",
    "from nltk.corpus import stopwords\n",
    "from nltk.stem import WordNetLemmatizer\n",
    "import statsmodels.api as sm\n",
    "from patsy import dmatrices\n",
    "from scipy import stats\n",
    "%pylab inline"
   ]
  },
  {
   "cell_type": "code",
   "execution_count": 2,
   "metadata": {
    "collapsed": true
   },
   "outputs": [],
   "source": [
    "#Read files\n",
    "df_raw = pd.read_csv(r'C:\\Users\\Abraham\\MSBA\\Text\\HW1\\Train_rev1.csv')\n",
    "df_train = df_raw.sample(2500)"
   ]
  },
  {
   "cell_type": "markdown",
   "metadata": {},
   "source": [
    "# Part A1"
   ]
  },
  {
   "cell_type": "markdown",
   "metadata": {},
   "source": [
    "Randomly select 2500 data points (the training dataset train_rev1 contains nearly 250k) for ease of analysis. \n",
    "(A1) What are the top 5 parts of speech in the job descriptions? How frequently do they appear? How do these numbers change if you exclude stopwords?"
   ]
  },
  {
   "cell_type": "code",
   "execution_count": 3,
   "metadata": {
    "collapsed": true
   },
   "outputs": [],
   "source": [
    "df_train = df_train[['Id','FullDescription','SalaryNormalized']]\n",
    "df_train['FullDescription'] = df_train['FullDescription'].map(str.lower)"
   ]
  },
  {
   "cell_type": "code",
   "execution_count": 4,
   "metadata": {},
   "outputs": [
    {
     "data": {
      "text/plain": [
       "{'$': 23,\n",
       " \"''\": 2,\n",
       " 'CC': 30973,\n",
       " 'CD': 4702,\n",
       " 'DT': 49595,\n",
       " 'EX': 226,\n",
       " 'FW': 408,\n",
       " 'IN': 63791,\n",
       " 'JJ': 69298,\n",
       " 'JJR': 881,\n",
       " 'JJS': 1174,\n",
       " 'MD': 9841,\n",
       " 'NN': 159256,\n",
       " 'NNP': 238,\n",
       " 'NNS': 51266,\n",
       " 'PDT': 142,\n",
       " 'POS': 7,\n",
       " 'PRP': 12275,\n",
       " 'PRP$': 7713,\n",
       " 'RB': 14978,\n",
       " 'RBR': 255,\n",
       " 'RBS': 266,\n",
       " 'RP': 967,\n",
       " 'TO': 19931,\n",
       " 'UH': 5,\n",
       " 'VB': 32003,\n",
       " 'VBD': 3416,\n",
       " 'VBG': 22708,\n",
       " 'VBN': 11962,\n",
       " 'VBP': 15502,\n",
       " 'VBZ': 10657,\n",
       " 'WDT': 1314,\n",
       " 'WP': 1372,\n",
       " 'WP$': 21,\n",
       " 'WRB': 874}"
      ]
     },
     "execution_count": 4,
     "metadata": {},
     "output_type": "execute_result"
    }
   ],
   "source": [
    "#Tag all parts of speech\n",
    "pos_dt = {}\n",
    "\n",
    "#Function to split a job description into words and tag POS\n",
    "def pos_count(desc):\n",
    "    tokens = re.findall('\\w+', desc)\n",
    "    tokenlist = nltk.pos_tag(tokens)\n",
    "    \n",
    "    for t in tokenlist:\n",
    "        pos = t[1]\n",
    "        if pos in pos_dt:\n",
    "            pos_dt[pos] += 1\n",
    "        else:\n",
    "            pos_dt[pos] = 1\n",
    "    \n",
    "    return desc\n",
    "\n",
    "#Map function\n",
    "df_train['FullDescription'].map(pos_count)\n",
    "\n",
    "pos_dt"
   ]
  },
  {
   "cell_type": "code",
   "execution_count": 5,
   "metadata": {},
   "outputs": [
    {
     "data": {
      "text/plain": [
       "{'$': 14,\n",
       " \"''\": 1,\n",
       " 'CC': 494,\n",
       " 'CD': 4727,\n",
       " 'DT': 289,\n",
       " 'EX': 2,\n",
       " 'FW': 508,\n",
       " 'IN': 5958,\n",
       " 'JJ': 71938,\n",
       " 'JJR': 356,\n",
       " 'JJS': 1128,\n",
       " 'MD': 2494,\n",
       " 'NN': 153202,\n",
       " 'NNP': 315,\n",
       " 'NNS': 50780,\n",
       " 'POS': 2,\n",
       " 'PRP': 582,\n",
       " 'PRP$': 5,\n",
       " 'RB': 13235,\n",
       " 'RBR': 239,\n",
       " 'RBS': 44,\n",
       " 'RP': 68,\n",
       " 'SYM': 3,\n",
       " 'UH': 4,\n",
       " 'VB': 7412,\n",
       " 'VBD': 8006,\n",
       " 'VBG': 25683,\n",
       " 'VBN': 7327,\n",
       " 'VBP': 17173,\n",
       " 'VBZ': 3894,\n",
       " 'WDT': 15,\n",
       " 'WP': 30,\n",
       " 'WP$': 21,\n",
       " 'WRB': 30}"
      ]
     },
     "execution_count": 5,
     "metadata": {},
     "output_type": "execute_result"
    }
   ],
   "source": [
    "#Same as above, but stop words were removed\n",
    "stop_words = set(stopwords.words('english'))\n",
    "\n",
    "pos_nostop_dt = {}\n",
    "\n",
    "def pos_nostop_count(desc):\n",
    "    tokens = re.findall('\\w+', desc)\n",
    "    filtered_tokens = [w for w in tokens if not w in stop_words]\n",
    "    \n",
    "    tokenlist = nltk.pos_tag(filtered_tokens)\n",
    "    \n",
    "    for t in tokenlist:\n",
    "        pos = t[1]\n",
    "        if pos in pos_nostop_dt:\n",
    "            pos_nostop_dt[pos] += 1\n",
    "        else:\n",
    "            pos_nostop_dt[pos] = 1\n",
    "    \n",
    "    return desc\n",
    "\n",
    "df_train['FullDescription'].map(pos_nostop_count)\n",
    "\n",
    "pos_nostop_dt"
   ]
  },
  {
   "cell_type": "code",
   "execution_count": 6,
   "metadata": {},
   "outputs": [
    {
     "data": {
      "text/plain": [
       "<matplotlib.axes._subplots.AxesSubplot at 0x1cec762b8d0>"
      ]
     },
     "execution_count": 6,
     "metadata": {},
     "output_type": "execute_result"
    },
    {
     "data": {
      "image/png": "[encoded data removed]",
      "text/plain": [
       "<matplotlib.figure.Figure at 0x1ceb8ed3668>"
      ]
     },
     "metadata": {},
     "output_type": "display_data"
    }
   ],
   "source": [
    "#Top 5 POS still including stop words\n",
    "Series(pos_dt).sort_values(ascending=False)[0:5].plot(kind='bar')"
   ]
  },
  {
   "cell_type": "code",
   "execution_count": 7,
   "metadata": {},
   "outputs": [
    {
     "data": {
      "text/plain": [
       "<matplotlib.axes._subplots.AxesSubplot at 0x1cec78ceb00>"
      ]
     },
     "execution_count": 7,
     "metadata": {},
     "output_type": "execute_result"
    },
    {
     "data": {
      "image/png": "[encoded data removed]",
      "text/plain": [
       "<matplotlib.figure.Figure at 0x1cec69fb4e0>"
      ]
     },
     "metadata": {},
     "output_type": "display_data"
    }
   ],
   "source": [
    "#Top 5 POS after removing stop words\n",
    "Series(pos_nostop_dt).sort_values(ascending=False)[0:5].plot(kind='bar')"
   ]
  },
  {
   "cell_type": "markdown",
   "metadata": {},
   "source": [
    "Nouns make up almost 160k words of the roughly 400k in the 2500 job descriptions. Adjectives make up around 70k words, but the next 3 top categories depend on if we include stop words. Prepositions (IN) and Determiners (DT) disappear from the top 5 after removing stop words and verbs move up the ranking."
   ]
  },
  {
   "cell_type": "markdown",
   "metadata": {},
   "source": [
    "# Part A2"
   ]
  },
  {
   "cell_type": "markdown",
   "metadata": {},
   "source": [
    "Does this data support Zipf’s law? Plot the most common 100 words in the data against the theoretical prediction of the law. For this question, do not remove stopwords. Also do not perform stemming or lemmatization."
   ]
  },
  {
   "cell_type": "code",
   "execution_count": 8,
   "metadata": {
    "collapsed": true
   },
   "outputs": [],
   "source": [
    "#Concatenate all descriptions into one string and split into words\n",
    "a = df_train['FullDescription'].str.cat(sep = ' ')\n",
    "s = re.findall('\\w+', a)\n",
    "s = Series(s)\n",
    "\n",
    "#Get word counts\n",
    "df_words = DataFrame(s.value_counts())\n",
    "df_words = df_words.reset_index()\n",
    "df_words.columns = ['Word','Counts']"
   ]
  },
  {
   "cell_type": "code",
   "execution_count": 11,
   "metadata": {},
   "outputs": [
    {
     "name": "stdout",
     "output_type": "stream",
     "text": [
      "                            OLS Regression Results                            \n",
      "==============================================================================\n",
      "Dep. Variable:                LogRank   R-squared:                       0.981\n",
      "Model:                            OLS   Adj. R-squared:                  0.981\n",
      "Method:                 Least Squares   F-statistic:                 8.957e+05\n",
      "Date:                Wed, 12 Sep 2018   Prob (F-statistic):               0.00\n",
      "Time:                        11:34:12   Log-Likelihood:                 9834.7\n",
      "No. Observations:               17526   AIC:                        -1.967e+04\n",
      "Df Residuals:                   17524   BIC:                        -1.965e+04\n",
      "Df Model:                           1                                         \n",
      "Covariance Type:            nonrobust                                         \n",
      "==============================================================================\n",
      "                 coef    std err          t      P>|t|      [0.025      0.975]\n",
      "------------------------------------------------------------------------------\n",
      "Intercept      3.5767      0.006    639.468      0.000       3.566       3.588\n",
      "LogCount      -0.6290      0.001   -946.422      0.000      -0.630      -0.628\n",
      "==============================================================================\n",
      "Omnibus:                    20521.323   Durbin-Watson:                   0.002\n",
      "Prob(Omnibus):                  0.000   Jarque-Bera (JB):          3944370.790\n",
      "Skew:                          -5.999   Prob(JB):                         0.00\n",
      "Kurtosis:                      75.508   Cond. No.                         45.7\n",
      "==============================================================================\n",
      "\n",
      "Warnings:\n",
      "[1] Standard Errors assume that the covariance matrix of the errors is correctly specified.\n"
     ]
    }
   ],
   "source": [
    "#Rank words by count, take log of rank and log of count\n",
    "df_words['Rank'] = df_words['Counts'].rank(ascending=False)\n",
    "constant = df_words.iloc[-1]['Counts']*df_words.iloc[-1]['Rank']\n",
    "df_words['LogCount'] = log(df_words['Counts']/constant)\n",
    "df_words['LogRank'] = log(df_words['Rank'])\n",
    "\n",
    "#Run and plot linear regression on the log-log relationship\n",
    "Y, X = dmatrices('LogRank~LogCount', data=df_words, return_type='dataframe')\n",
    "model = sm.OLS(Y, X)       # Set up the model\n",
    "result = model.fit()       # Fit model (find the intercept and slopes)\n",
    "print (result.summary())"
   ]
  },
  {
   "cell_type": "markdown",
   "metadata": {},
   "source": [
    "After linear regression, the log(count/min count) has a coefficient of -0.6 with respect to log(rank) so our dataset only loosely follows Zipf's law. A large number of words with low frequencies \"flatten\" the curve because the change from word to the next does not exactly follow the inverse-rank stated by Zipf's law."
   ]
  },
  {
   "cell_type": "code",
   "execution_count": 15,
   "metadata": {},
   "outputs": [
    {
     "name": "stdout",
     "output_type": "stream",
     "text": [
      "                            OLS Regression Results                            \n",
      "==============================================================================\n",
      "Dep. Variable:                LogRank   R-squared:                       0.996\n",
      "Model:                            OLS   Adj. R-squared:                  0.996\n",
      "Method:                 Least Squares   F-statistic:                 2.333e+05\n",
      "Date:                Wed, 12 Sep 2018   Prob (F-statistic):               0.00\n",
      "Time:                        11:35:38   Log-Likelihood:                 1325.5\n",
      "No. Observations:                1000   AIC:                            -2647.\n",
      "Df Residuals:                     998   BIC:                            -2637.\n",
      "Df Model:                           1                                         \n",
      "Covariance Type:            nonrobust                                         \n",
      "==============================================================================\n",
      "                 coef    std err          t      P>|t|      [0.025      0.975]\n",
      "------------------------------------------------------------------------------\n",
      "Intercept      1.5380      0.009    165.699      0.000       1.520       1.556\n",
      "LogCount      -1.0633      0.002   -482.997      0.000      -1.068      -1.059\n",
      "==============================================================================\n",
      "Omnibus:                      733.761   Durbin-Watson:                   0.107\n",
      "Prob(Omnibus):                  0.000   Jarque-Bera (JB):            36356.874\n",
      "Skew:                          -2.810   Prob(JB):                         0.00\n",
      "Kurtosis:                      32.000   Cond. No.                         20.3\n",
      "==============================================================================\n",
      "\n",
      "Warnings:\n",
      "[1] Standard Errors assume that the covariance matrix of the errors is correctly specified.\n"
     ]
    }
   ],
   "source": [
    "#Same regression but using only the top 100 words\n",
    "Y, X = dmatrices('LogRank~LogCount', data=df_words[0:1000], return_type='dataframe')\n",
    "model = sm.OLS(Y, X)       # Set up the model\n",
    "result = model.fit()       # Fit model (find the intercept and slopes)\n",
    "print (result.summary())"
   ]
  },
  {
   "cell_type": "markdown",
   "metadata": {},
   "source": [
    "Looking at only the 1000 most frequent words results in a rank-count relationship that follows Zipf's law much closer with a coefficient of almost exactly -1"
   ]
  },
  {
   "cell_type": "code",
   "execution_count": 26,
   "metadata": {},
   "outputs": [
    {
     "data": {
      "text/plain": [
       "[<matplotlib.lines.Line2D at 0x1cecbef2f60>]"
      ]
     },
     "execution_count": 26,
     "metadata": {},
     "output_type": "execute_result"
    },
    {
     "data": {
      "image/png": "[encoded data removed]",
      "text/plain": [
       "<matplotlib.figure.Figure at 0x1cecbec81d0>"
      ]
     },
     "metadata": {},
     "output_type": "display_data"
    }
   ],
   "source": [
    "plot(df_words['LogCount'],df_words['LogRank'], linestyle='-')\n"
   ]
  },
  {
   "cell_type": "markdown",
   "metadata": {},
   "source": [
    "# Part A3"
   ]
  },
  {
   "cell_type": "markdown",
   "metadata": {},
   "source": [
    "If we remove stopwords and lemmatize the data, what are the 10 most common words? What are their frequencies?"
   ]
  },
  {
   "cell_type": "code",
   "execution_count": 16,
   "metadata": {
    "collapsed": true
   },
   "outputs": [],
   "source": [
    "s = re.findall('\\w+', a)\n",
    "s = [w for w in s if not w in stop_words]\n",
    "\n",
    "lemmatizer = WordNetLemmatizer()\n",
    "s = Series(s).map(lemmatizer.lemmatize)"
   ]
  },
  {
   "cell_type": "code",
   "execution_count": 17,
   "metadata": {},
   "outputs": [
    {
     "data": {
      "text/plain": [
       "<matplotlib.axes._subplots.AxesSubplot at 0x1cecab0a6d8>"
      ]
     },
     "execution_count": 17,
     "metadata": {},
     "output_type": "execute_result"
    },
    {
     "data": {
      "image/png": "[encoded data removed]",
      "text/plain": [
       "<matplotlib.figure.Figure at 0x1cecaaf30b8>"
      ]
     },
     "metadata": {},
     "output_type": "display_data"
    }
   ],
   "source": [
    "s.value_counts()[0:10].plot(kind='bar')"
   ]
  },
  {
   "cell_type": "markdown",
   "metadata": {},
   "source": [
    "Experience is the most common word by far, showing up more than 4,000 times in 2,500 job descriptions"
   ]
  },
  {
   "cell_type": "markdown",
   "metadata": {},
   "source": [
    "# Part B1"
   ]
  },
  {
   "cell_type": "markdown",
   "metadata": {},
   "source": [
    "Ignore the job descriptions, and train a model to predict high/low salary from all the numeric columns, e.g., part time/full time, contract vs. others, type of job (a lot of dummy variables), location (instead of using a huge number of dummy variables, you can use a list of cities in England with highest cost of living, and create a 0/1 variable which is 1 if the job is in one of those cities, else 0). Use the Naïve Bayes classifier. What is the accuracy of your model?    "
   ]
  },
  {
   "cell_type": "code",
   "execution_count": 37,
   "metadata": {
    "collapsed": true
   },
   "outputs": [],
   "source": [
    "from sklearn.naive_bayes import GaussianNB, BernoulliNB, MultinomialNB"
   ]
  },
  {
   "cell_type": "code",
   "execution_count": 28,
   "metadata": {},
   "outputs": [
    {
     "name": "stderr",
     "output_type": "stream",
     "text": [
      "C:\\Users\\Abraham\\Anaconda3\\lib\\site-packages\\ipykernel_launcher.py:5: SettingWithCopyWarning: \n",
      "A value is trying to be set on a copy of a slice from a DataFrame\n",
      "\n",
      "See the caveats in the documentation: http://pandas.pydata.org/pandas-docs/stable/indexing.html#indexing-view-versus-copy\n",
      "  \"\"\"\n"
     ]
    },
    {
     "data": {
      "text/html": [
       "<div>\n",
       "<style>\n",
       "    .dataframe thead tr:only-child th {\n",
       "        text-align: right;\n",
       "    }\n",
       "\n",
       "    .dataframe thead th {\n",
       "        text-align: left;\n",
       "    }\n",
       "\n",
       "    .dataframe tbody tr th {\n",
       "        vertical-align: top;\n",
       "    }\n",
       "</style>\n",
       "<table border=\"1\" class=\"dataframe\">\n",
       "  <thead>\n",
       "    <tr style=\"text-align: right;\">\n",
       "      <th></th>\n",
       "      <th>Id</th>\n",
       "      <th>Title</th>\n",
       "      <th>FullDescription</th>\n",
       "      <th>LocationRaw</th>\n",
       "      <th>LocationNormalized</th>\n",
       "      <th>ContractType</th>\n",
       "      <th>ContractTime</th>\n",
       "      <th>Company</th>\n",
       "      <th>Category</th>\n",
       "      <th>SalaryRaw</th>\n",
       "      <th>SalaryNormalized</th>\n",
       "      <th>SourceName</th>\n",
       "      <th>HighSalary</th>\n",
       "    </tr>\n",
       "  </thead>\n",
       "  <tbody>\n",
       "    <tr>\n",
       "      <th>41037</th>\n",
       "      <td>68371413</td>\n",
       "      <td>Teaching Assistant</td>\n",
       "      <td>Graduate Teaching Assistant required for a Pri...</td>\n",
       "      <td>Greater Manchester</td>\n",
       "      <td>Manchester</td>\n",
       "      <td>full_time</td>\n",
       "      <td>contract</td>\n",
       "      <td>EDUSTAFF</td>\n",
       "      <td>Teaching Jobs</td>\n",
       "      <td>Up to 300 per week with tax effeciency scheme</td>\n",
       "      <td>14400</td>\n",
       "      <td>jobs.guardian.co.uk</td>\n",
       "      <td>0</td>\n",
       "    </tr>\n",
       "    <tr>\n",
       "      <th>157655</th>\n",
       "      <td>71113341</td>\n",
       "      <td>Front Line Manager</td>\n",
       "      <td>KEY ACCOUNTABILITIES RESPONSIBILITIES Actively...</td>\n",
       "      <td>Lancashire - Preston</td>\n",
       "      <td>Preston</td>\n",
       "      <td>full_time</td>\n",
       "      <td>permanent</td>\n",
       "      <td>UKStaffsearch</td>\n",
       "      <td>Engineering Jobs</td>\n",
       "      <td>40000 - 49999</td>\n",
       "      <td>44999</td>\n",
       "      <td>ukstaffsearch.com</td>\n",
       "      <td>1</td>\n",
       "    </tr>\n",
       "    <tr>\n",
       "      <th>240317</th>\n",
       "      <td>72637120</td>\n",
       "      <td>Cluster Manager (Libraries)</td>\n",
       "      <td>Job Reference: LBC**** Job Title: Cluster Mana...</td>\n",
       "      <td>West London</td>\n",
       "      <td>West London</td>\n",
       "      <td>full_time</td>\n",
       "      <td>permanent</td>\n",
       "      <td>LONDON BOROUGH OF CAMDEN</td>\n",
       "      <td>Other/General Jobs</td>\n",
       "      <td>33,436 + 25 days leave (27 after 5 year's serv...</td>\n",
       "      <td>33436</td>\n",
       "      <td>jobs.guardian.co.uk</td>\n",
       "      <td>0</td>\n",
       "    </tr>\n",
       "    <tr>\n",
       "      <th>208655</th>\n",
       "      <td>72158746</td>\n",
       "      <td>PPA Cover Primary Teachers in Barnet</td>\n",
       "      <td>PPA Cover Primary Teachers in Barnet Long term...</td>\n",
       "      <td>London</td>\n",
       "      <td>London</td>\n",
       "      <td>full_time</td>\n",
       "      <td>contract</td>\n",
       "      <td>Tradewind Recruitment</td>\n",
       "      <td>Teaching Jobs</td>\n",
       "      <td>From 120 to 145 per day</td>\n",
       "      <td>31800</td>\n",
       "      <td>JustLondonJobs</td>\n",
       "      <td>0</td>\n",
       "    </tr>\n",
       "    <tr>\n",
       "      <th>141102</th>\n",
       "      <td>70583242</td>\n",
       "      <td>Full Time Temporary Lecturer in Motor Vehicle</td>\n",
       "      <td>As one of the largest colleges in the UK, Belf...</td>\n",
       "      <td>Belfast</td>\n",
       "      <td>Belfast</td>\n",
       "      <td>full_time</td>\n",
       "      <td>contract</td>\n",
       "      <td>Belfast Metropolitan College</td>\n",
       "      <td>Teaching Jobs</td>\n",
       "      <td>20,000 - 30,000</td>\n",
       "      <td>25000</td>\n",
       "      <td>nijobfinder.co.uk</td>\n",
       "      <td>0</td>\n",
       "    </tr>\n",
       "  </tbody>\n",
       "</table>\n",
       "</div>"
      ],
      "text/plain": [
       "              Id                                          Title  \\\n",
       "41037   68371413                             Teaching Assistant   \n",
       "157655  71113341                             Front Line Manager   \n",
       "240317  72637120                    Cluster Manager (Libraries)   \n",
       "208655  72158746           PPA Cover Primary Teachers in Barnet   \n",
       "141102  70583242  Full Time Temporary Lecturer in Motor Vehicle   \n",
       "\n",
       "                                          FullDescription  \\\n",
       "41037   Graduate Teaching Assistant required for a Pri...   \n",
       "157655  KEY ACCOUNTABILITIES RESPONSIBILITIES Actively...   \n",
       "240317  Job Reference: LBC**** Job Title: Cluster Mana...   \n",
       "208655  PPA Cover Primary Teachers in Barnet Long term...   \n",
       "141102  As one of the largest colleges in the UK, Belf...   \n",
       "\n",
       "                 LocationRaw LocationNormalized ContractType ContractTime  \\\n",
       "41037     Greater Manchester         Manchester    full_time     contract   \n",
       "157655  Lancashire - Preston            Preston    full_time    permanent   \n",
       "240317           West London        West London    full_time    permanent   \n",
       "208655                London             London    full_time     contract   \n",
       "141102               Belfast            Belfast    full_time     contract   \n",
       "\n",
       "                             Company            Category  \\\n",
       "41037                       EDUSTAFF       Teaching Jobs   \n",
       "157655                 UKStaffsearch    Engineering Jobs   \n",
       "240317      LONDON BOROUGH OF CAMDEN  Other/General Jobs   \n",
       "208655         Tradewind Recruitment       Teaching Jobs   \n",
       "141102  Belfast Metropolitan College       Teaching Jobs   \n",
       "\n",
       "                                                SalaryRaw  SalaryNormalized  \\\n",
       "41037       Up to 300 per week with tax effeciency scheme             14400   \n",
       "157655                                      40000 - 49999             44999   \n",
       "240317  33,436 + 25 days leave (27 after 5 year's serv...             33436   \n",
       "208655                            From 120 to 145 per day             31800   \n",
       "141102                                    20,000 - 30,000             25000   \n",
       "\n",
       "                 SourceName  HighSalary  \n",
       "41037   jobs.guardian.co.uk           0  \n",
       "157655    ukstaffsearch.com           1  \n",
       "240317  jobs.guardian.co.uk           0  \n",
       "208655       JustLondonJobs           0  \n",
       "141102    nijobfinder.co.uk           0  "
      ]
     },
     "execution_count": 28,
     "metadata": {},
     "output_type": "execute_result"
    }
   ],
   "source": [
    "df_train = df_raw.dropna().sample(2500)\n",
    "cutoff = df_train['SalaryNormalized'].quantile(0.75)\n",
    "\n",
    "df_train['HighSalary'] = 0\n",
    "df_train['HighSalary'][df_train['SalaryNormalized']>cutoff] = 1\n",
    "\n",
    "df_train.head()"
   ]
  },
  {
   "cell_type": "code",
   "execution_count": 29,
   "metadata": {},
   "outputs": [
    {
     "data": {
      "text/html": [
       "<div>\n",
       "<style>\n",
       "    .dataframe thead tr:only-child th {\n",
       "        text-align: right;\n",
       "    }\n",
       "\n",
       "    .dataframe thead th {\n",
       "        text-align: left;\n",
       "    }\n",
       "\n",
       "    .dataframe tbody tr th {\n",
       "        vertical-align: top;\n",
       "    }\n",
       "</style>\n",
       "<table border=\"1\" class=\"dataframe\">\n",
       "  <thead>\n",
       "    <tr style=\"text-align: right;\">\n",
       "      <th></th>\n",
       "      <th>ContractType_full_time</th>\n",
       "      <th>ContractTime_permanent</th>\n",
       "      <th>Category_Accounting &amp; Finance Jobs</th>\n",
       "      <th>Category_Admin Jobs</th>\n",
       "      <th>Category_Charity &amp; Voluntary Jobs</th>\n",
       "      <th>Category_Consultancy Jobs</th>\n",
       "      <th>Category_Creative &amp; Design Jobs</th>\n",
       "      <th>Category_Customer Services Jobs</th>\n",
       "      <th>Category_Domestic help &amp; Cleaning Jobs</th>\n",
       "      <th>Category_Energy, Oil &amp; Gas Jobs</th>\n",
       "      <th>...</th>\n",
       "      <th>Category_PR, Advertising &amp; Marketing Jobs</th>\n",
       "      <th>Category_Property Jobs</th>\n",
       "      <th>Category_Retail Jobs</th>\n",
       "      <th>Category_Sales Jobs</th>\n",
       "      <th>Category_Scientific &amp; QA Jobs</th>\n",
       "      <th>Category_Social work Jobs</th>\n",
       "      <th>Category_Teaching Jobs</th>\n",
       "      <th>Category_Trade &amp; Construction Jobs</th>\n",
       "      <th>ExpensiveCity</th>\n",
       "      <th>HighSalary</th>\n",
       "    </tr>\n",
       "  </thead>\n",
       "  <tbody>\n",
       "    <tr>\n",
       "      <th>41037</th>\n",
       "      <td>1</td>\n",
       "      <td>0</td>\n",
       "      <td>0</td>\n",
       "      <td>0</td>\n",
       "      <td>0</td>\n",
       "      <td>0</td>\n",
       "      <td>0</td>\n",
       "      <td>0</td>\n",
       "      <td>0</td>\n",
       "      <td>0</td>\n",
       "      <td>...</td>\n",
       "      <td>0</td>\n",
       "      <td>0</td>\n",
       "      <td>0</td>\n",
       "      <td>0</td>\n",
       "      <td>0</td>\n",
       "      <td>0</td>\n",
       "      <td>1</td>\n",
       "      <td>0</td>\n",
       "      <td>1</td>\n",
       "      <td>0</td>\n",
       "    </tr>\n",
       "    <tr>\n",
       "      <th>157655</th>\n",
       "      <td>1</td>\n",
       "      <td>1</td>\n",
       "      <td>0</td>\n",
       "      <td>0</td>\n",
       "      <td>0</td>\n",
       "      <td>0</td>\n",
       "      <td>0</td>\n",
       "      <td>0</td>\n",
       "      <td>0</td>\n",
       "      <td>0</td>\n",
       "      <td>...</td>\n",
       "      <td>0</td>\n",
       "      <td>0</td>\n",
       "      <td>0</td>\n",
       "      <td>0</td>\n",
       "      <td>0</td>\n",
       "      <td>0</td>\n",
       "      <td>0</td>\n",
       "      <td>0</td>\n",
       "      <td>0</td>\n",
       "      <td>1</td>\n",
       "    </tr>\n",
       "    <tr>\n",
       "      <th>240317</th>\n",
       "      <td>1</td>\n",
       "      <td>1</td>\n",
       "      <td>0</td>\n",
       "      <td>0</td>\n",
       "      <td>0</td>\n",
       "      <td>0</td>\n",
       "      <td>0</td>\n",
       "      <td>0</td>\n",
       "      <td>0</td>\n",
       "      <td>0</td>\n",
       "      <td>...</td>\n",
       "      <td>0</td>\n",
       "      <td>0</td>\n",
       "      <td>0</td>\n",
       "      <td>0</td>\n",
       "      <td>0</td>\n",
       "      <td>0</td>\n",
       "      <td>0</td>\n",
       "      <td>0</td>\n",
       "      <td>0</td>\n",
       "      <td>0</td>\n",
       "    </tr>\n",
       "    <tr>\n",
       "      <th>208655</th>\n",
       "      <td>1</td>\n",
       "      <td>0</td>\n",
       "      <td>0</td>\n",
       "      <td>0</td>\n",
       "      <td>0</td>\n",
       "      <td>0</td>\n",
       "      <td>0</td>\n",
       "      <td>0</td>\n",
       "      <td>0</td>\n",
       "      <td>0</td>\n",
       "      <td>...</td>\n",
       "      <td>0</td>\n",
       "      <td>0</td>\n",
       "      <td>0</td>\n",
       "      <td>0</td>\n",
       "      <td>0</td>\n",
       "      <td>0</td>\n",
       "      <td>1</td>\n",
       "      <td>0</td>\n",
       "      <td>1</td>\n",
       "      <td>0</td>\n",
       "    </tr>\n",
       "    <tr>\n",
       "      <th>141102</th>\n",
       "      <td>1</td>\n",
       "      <td>0</td>\n",
       "      <td>0</td>\n",
       "      <td>0</td>\n",
       "      <td>0</td>\n",
       "      <td>0</td>\n",
       "      <td>0</td>\n",
       "      <td>0</td>\n",
       "      <td>0</td>\n",
       "      <td>0</td>\n",
       "      <td>...</td>\n",
       "      <td>0</td>\n",
       "      <td>0</td>\n",
       "      <td>0</td>\n",
       "      <td>0</td>\n",
       "      <td>0</td>\n",
       "      <td>0</td>\n",
       "      <td>1</td>\n",
       "      <td>0</td>\n",
       "      <td>0</td>\n",
       "      <td>0</td>\n",
       "    </tr>\n",
       "  </tbody>\n",
       "</table>\n",
       "<p>5 rows × 31 columns</p>\n",
       "</div>"
      ],
      "text/plain": [
       "        ContractType_full_time  ContractTime_permanent  \\\n",
       "41037                        1                       0   \n",
       "157655                       1                       1   \n",
       "240317                       1                       1   \n",
       "208655                       1                       0   \n",
       "141102                       1                       0   \n",
       "\n",
       "        Category_Accounting & Finance Jobs  Category_Admin Jobs  \\\n",
       "41037                                    0                    0   \n",
       "157655                                   0                    0   \n",
       "240317                                   0                    0   \n",
       "208655                                   0                    0   \n",
       "141102                                   0                    0   \n",
       "\n",
       "        Category_Charity & Voluntary Jobs  Category_Consultancy Jobs  \\\n",
       "41037                                   0                          0   \n",
       "157655                                  0                          0   \n",
       "240317                                  0                          0   \n",
       "208655                                  0                          0   \n",
       "141102                                  0                          0   \n",
       "\n",
       "        Category_Creative & Design Jobs  Category_Customer Services Jobs  \\\n",
       "41037                                 0                                0   \n",
       "157655                                0                                0   \n",
       "240317                                0                                0   \n",
       "208655                                0                                0   \n",
       "141102                                0                                0   \n",
       "\n",
       "        Category_Domestic help & Cleaning Jobs  \\\n",
       "41037                                        0   \n",
       "157655                                       0   \n",
       "240317                                       0   \n",
       "208655                                       0   \n",
       "141102                                       0   \n",
       "\n",
       "        Category_Energy, Oil & Gas Jobs     ...      \\\n",
       "41037                                 0     ...       \n",
       "157655                                0     ...       \n",
       "240317                                0     ...       \n",
       "208655                                0     ...       \n",
       "141102                                0     ...       \n",
       "\n",
       "        Category_PR, Advertising & Marketing Jobs  Category_Property Jobs  \\\n",
       "41037                                           0                       0   \n",
       "157655                                          0                       0   \n",
       "240317                                          0                       0   \n",
       "208655                                          0                       0   \n",
       "141102                                          0                       0   \n",
       "\n",
       "        Category_Retail Jobs  Category_Sales Jobs  \\\n",
       "41037                      0                    0   \n",
       "157655                     0                    0   \n",
       "240317                     0                    0   \n",
       "208655                     0                    0   \n",
       "141102                     0                    0   \n",
       "\n",
       "        Category_Scientific & QA Jobs  Category_Social work Jobs  \\\n",
       "41037                               0                          0   \n",
       "157655                              0                          0   \n",
       "240317                              0                          0   \n",
       "208655                              0                          0   \n",
       "141102                              0                          0   \n",
       "\n",
       "        Category_Teaching Jobs  Category_Trade & Construction Jobs  \\\n",
       "41037                        1                                   0   \n",
       "157655                       0                                   0   \n",
       "240317                       0                                   0   \n",
       "208655                       1                                   0   \n",
       "141102                       1                                   0   \n",
       "\n",
       "        ExpensiveCity  HighSalary  \n",
       "41037               1           0  \n",
       "157655              0           1  \n",
       "240317              0           0  \n",
       "208655              1           0  \n",
       "141102              0           0  \n",
       "\n",
       "[5 rows x 31 columns]"
      ]
     },
     "execution_count": 29,
     "metadata": {},
     "output_type": "execute_result"
    }
   ],
   "source": [
    "df_nbtrain = pd.get_dummies(df_train[['ContractType','ContractTime','Category']])\n",
    "\n",
    "#Cities where avg rent is >= 20% of avg income\n",
    "high_cities = ['London', 'Central London','The City','Brighton','Edinburgh','Bristol','Southampton','Portsmouth','Exeter'\\\n",
    "                 ,'Cardiff', 'Manchester', 'Birmingham', 'Leeds', 'Aberdeen', 'Glasgow', 'Newcastle', 'Sheffield', 'Liverpool', 'Hull']\n",
    "\n",
    "a = df_train['LocationNormalized']\n",
    "b = []\n",
    "\n",
    "#Create dummy variable for expensive cities\n",
    "for i in range(len(a)):\n",
    "    if a.iloc[i] in high_cities: \n",
    "        b.append(1)\n",
    "    else: b.append(0)\n",
    "\n",
    "\n",
    "df_nbtrain['ExpensiveCity'] = b\n",
    "df_nbtrain['HighSalary'] = df_train['HighSalary']\n",
    "\n",
    "#Drop extra dummies\n",
    "df_nbtrain = df_nbtrain.drop(['ContractType_part_time','ContractTime_contract','Category_Travel Jobs'], axis=1)\n",
    "df_nbtrain.head()\n"
   ]
  },
  {
   "cell_type": "code",
   "execution_count": 30,
   "metadata": {
    "collapsed": true
   },
   "outputs": [],
   "source": [
    "from sklearn import naive_bayes\n",
    "from sklearn import model_selection\n",
    "from sklearn.model_selection import train_test_split\n",
    "from patsy import dmatrices\n",
    "from sklearn import metrics"
   ]
  },
  {
   "cell_type": "code",
   "execution_count": 82,
   "metadata": {},
   "outputs": [
    {
     "name": "stdout",
     "output_type": "stream",
     "text": [
      "Training Accuracy\n",
      "0.754\n",
      " \n",
      "Test Accuracy\n",
      "0.746\n",
      " \n",
      "Baseline Accuracy\n",
      "0.75\n",
      " \n",
      "[[371   4]\n",
      " [123   2]]\n"
     ]
    }
   ],
   "source": [
    "dummy_column_names = list(df_nbtrain.columns.values)[:-1]\n",
    "\n",
    "formula = 'HighSalary ~ 0 + {}'.format(' + '.join(['Q(\"{}\")'.format(x) for x in dummy_column_names]))\n",
    "\n",
    "nbtrain, nbtest = train_test_split(df_nbtrain, test_size=0.2)\n",
    "    \n",
    "#Training Sets\n",
    "Ytrain, xtrain = dmatrices(formula, nbtrain, return_type='dataframe')\n",
    "ytrain = Ytrain['HighSalary'].values\n",
    "\n",
    "#Testing Set\n",
    "Ytest, xtest = dmatrices(formula, nbtest, return_type='dataframe')\n",
    "ytest = Ytest['HighSalary'].values\n",
    "\n",
    "model = naive_bayes.MultinomialNB()\n",
    "model.fit(xtrain, ytrain)\n",
    "\n",
    "prediction_train = model.predict(xtrain)\n",
    "print (\"Training Accuracy\")\n",
    "print (metrics.accuracy_score(ytrain, prediction_train))\n",
    "\n",
    "print (\" \")\n",
    "print (\"Test Accuracy\")\n",
    "prediction_test = model.predict(xtest)\n",
    "print (metrics.accuracy_score(ytest, prediction_test))\n",
    "\n",
    "#Baseline accuracy = if we guessed 'No' for all of them\n",
    "print (\" \")\n",
    "print (\"Baseline Accuracy\")\n",
    "print (1-ytest.mean())\n",
    "\n",
    "#Row 1 is all the ones low salary\n",
    "#Column 1 is all the ones predicted low salary\n",
    "print(' ')\n",
    "print (metrics.confusion_matrix(ytest, prediction_test))"
   ]
  },
  {
   "cell_type": "markdown",
   "metadata": {},
   "source": [
    "A Binomial Naive Bayes model using every variable except the job description essentially predicts a \"Low Salary\" for every job and underperforms even the baseline accuracy."
   ]
  },
  {
   "cell_type": "markdown",
   "metadata": {},
   "source": [
    "# Part B2 "
   ]
  },
  {
   "cell_type": "markdown",
   "metadata": {},
   "source": [
    "Create a classification model with all words and the bag-of-words approach. How accurate is the model (show the confusion matrix)? "
   ]
  },
  {
   "cell_type": "code",
   "execution_count": 38,
   "metadata": {
    "collapsed": true
   },
   "outputs": [],
   "source": [
    "from sklearn.model_selection import train_test_split\n",
    "from sklearn.feature_extraction.text import CountVectorizer\n",
    "from sklearn.feature_extraction.text import TfidfTransformer\n",
    "from sklearn.naive_bayes import MultinomialNB\n",
    "from sklearn import metrics\n",
    "from operator import itemgetter\n",
    "from sklearn.metrics import classification_report\n",
    "import csv\n",
    "import os"
   ]
  },
  {
   "cell_type": "code",
   "execution_count": 39,
   "metadata": {},
   "outputs": [
    {
     "name": "stderr",
     "output_type": "stream",
     "text": [
      "C:\\Users\\Abraham\\Anaconda3\\lib\\site-packages\\ipykernel_launcher.py:2: SettingWithCopyWarning: \n",
      "A value is trying to be set on a copy of a slice from a DataFrame.\n",
      "Try using .loc[row_indexer,col_indexer] = value instead\n",
      "\n",
      "See the caveats in the documentation: http://pandas.pydata.org/pandas-docs/stable/indexing.html#indexing-view-versus-copy\n",
      "  \n"
     ]
    }
   ],
   "source": [
    "df_text = df_train[['FullDescription','HighSalary']]\n",
    "df_text['FullDescription'] = df_text['FullDescription'].dropna().str.lower().str.replace('\\d+', '')\\\n",
    ".map(lambda x:re.findall('\\w+',x)).map(lambda x:' '.join([i for i in x if i not in stop_words \\\n",
    "                                                          and i not in string.punctuation]))"
   ]
  },
  {
   "cell_type": "code",
   "execution_count": 40,
   "metadata": {
    "collapsed": true
   },
   "outputs": [],
   "source": [
    "#Split Train and Test sets\n",
    "#Split descriptions from salary range\n",
    "X_train, X_test, y_train, y_test = train_test_split(df_text['FullDescription'],\n",
    "                                                    df_text['HighSalary'],\n",
    "                                                    test_size=0.3, random_state=1)"
   ]
  },
  {
   "cell_type": "code",
   "execution_count": 41,
   "metadata": {
    "collapsed": true
   },
   "outputs": [],
   "source": [
    "#Like the document term matrix, but filled with 1's and 0's instead of TFIDF scores\n",
    "count_vect = CountVectorizer()\n",
    "X_train_counts = count_vect.fit_transform(X_train)\n",
    "X_test_counts = count_vect.transform(X_test)\n",
    "\n",
    "#Fit model on train data\n",
    "clf = BernoulliNB().fit(X_train_counts, y_train)\n",
    "\n",
    "#Predict using X_test data\n",
    "prediction = clf.predict(X_test_counts)"
   ]
  },
  {
   "cell_type": "code",
   "execution_count": 48,
   "metadata": {},
   "outputs": [
    {
     "name": "stdout",
     "output_type": "stream",
     "text": [
      "Prediction Accuracy\n",
      "0.794666666667\n",
      "  \n",
      "Baseline Accuracy\n",
      "0.7546666666666667\n"
     ]
    }
   ],
   "source": [
    "#Percent correct overall\n",
    "print ('Prediction Accuracy')\n",
    "print (metrics.accuracy_score(y_test, prediction))\n",
    "print('  ')\n",
    "#Baseline accuracy = if we guessed 'No' for all of them\n",
    "print ('Baseline Accuracy')\n",
    "print (1-y_test.mean())"
   ]
  },
  {
   "cell_type": "code",
   "execution_count": 45,
   "metadata": {},
   "outputs": [
    {
     "data": {
      "text/plain": [
       "array([[521,  45],\n",
       "       [109,  75]])"
      ]
     },
     "execution_count": 45,
     "metadata": {},
     "output_type": "execute_result"
    }
   ],
   "source": [
    "#Row 1 is all the ones low salary\n",
    "#Column 1 is all the ones predicted low salary\n",
    "metrics.confusion_matrix(y_test, prediction)"
   ]
  },
  {
   "cell_type": "markdown",
   "metadata": {
    "collapsed": true
   },
   "source": [
    "Accuracy is high on the Low salary jobs, but below 50% on the high salary jobs."
   ]
  },
  {
   "cell_type": "markdown",
   "metadata": {},
   "source": [
    "### Also show the top 10 words (excluding stopwords) that are most indicative of (i) high salary, and (ii) low salary.  "
   ]
  },
  {
   "cell_type": "code",
   "execution_count": 72,
   "metadata": {},
   "outputs": [
    {
     "data": {
      "text/html": [
       "<div>\n",
       "<style>\n",
       "    .dataframe thead tr:only-child th {\n",
       "        text-align: right;\n",
       "    }\n",
       "\n",
       "    .dataframe thead th {\n",
       "        text-align: left;\n",
       "    }\n",
       "\n",
       "    .dataframe tbody tr th {\n",
       "        vertical-align: top;\n",
       "    }\n",
       "</style>\n",
       "<table border=\"1\" class=\"dataframe\">\n",
       "  <thead>\n",
       "    <tr style=\"text-align: right;\">\n",
       "      <th></th>\n",
       "      <th>Count</th>\n",
       "      <th>Freq</th>\n",
       "    </tr>\n",
       "  </thead>\n",
       "  <tbody>\n",
       "    <tr>\n",
       "      <th>experience</th>\n",
       "      <td>1256</td>\n",
       "      <td>1.276384</td>\n",
       "    </tr>\n",
       "    <tr>\n",
       "      <th>business</th>\n",
       "      <td>1117</td>\n",
       "      <td>1.135128</td>\n",
       "    </tr>\n",
       "    <tr>\n",
       "      <th>role</th>\n",
       "      <td>910</td>\n",
       "      <td>0.924769</td>\n",
       "    </tr>\n",
       "    <tr>\n",
       "      <th>team</th>\n",
       "      <td>776</td>\n",
       "      <td>0.788594</td>\n",
       "    </tr>\n",
       "    <tr>\n",
       "      <th>management</th>\n",
       "      <td>734</td>\n",
       "      <td>0.745912</td>\n",
       "    </tr>\n",
       "    <tr>\n",
       "      <th>work</th>\n",
       "      <td>675</td>\n",
       "      <td>0.685955</td>\n",
       "    </tr>\n",
       "    <tr>\n",
       "      <th>within</th>\n",
       "      <td>626</td>\n",
       "      <td>0.636159</td>\n",
       "    </tr>\n",
       "    <tr>\n",
       "      <th>skills</th>\n",
       "      <td>611</td>\n",
       "      <td>0.620916</td>\n",
       "    </tr>\n",
       "    <tr>\n",
       "      <th>client</th>\n",
       "      <td>552</td>\n",
       "      <td>0.560959</td>\n",
       "    </tr>\n",
       "    <tr>\n",
       "      <th>development</th>\n",
       "      <td>545</td>\n",
       "      <td>0.553845</td>\n",
       "    </tr>\n",
       "  </tbody>\n",
       "</table>\n",
       "</div>"
      ],
      "text/plain": [
       "             Count      Freq\n",
       "experience    1256  1.276384\n",
       "business      1117  1.135128\n",
       "role           910  0.924769\n",
       "team           776  0.788594\n",
       "management     734  0.745912\n",
       "work           675  0.685955\n",
       "within         626  0.636159\n",
       "skills         611  0.620916\n",
       "client         552  0.560959\n",
       "development    545  0.553845"
      ]
     },
     "execution_count": 72,
     "metadata": {},
     "output_type": "execute_result"
    }
   ],
   "source": [
    "df_high = df_text[df_text['HighSalary']==1]\n",
    "\n",
    "#Concatenate all descriptions into one string and split into words\n",
    "a = df_high['FullDescription'].str.cat(sep = ' ')\n",
    "s = re.findall('\\w+', a)\n",
    "s = Series(s)\n",
    "\n",
    "#Get word counts\n",
    "high_words = DataFrame(s.value_counts())\n",
    "high_words.columns=['Count']\n",
    "high_words['Freq']= high_words['Count']/high_words['Count'].sum()*100\n",
    "high_words[0:10]"
   ]
  },
  {
   "cell_type": "code",
   "execution_count": 71,
   "metadata": {},
   "outputs": [
    {
     "data": {
      "text/html": [
       "<div>\n",
       "<style>\n",
       "    .dataframe thead tr:only-child th {\n",
       "        text-align: right;\n",
       "    }\n",
       "\n",
       "    .dataframe thead th {\n",
       "        text-align: left;\n",
       "    }\n",
       "\n",
       "    .dataframe tbody tr th {\n",
       "        vertical-align: top;\n",
       "    }\n",
       "</style>\n",
       "<table border=\"1\" class=\"dataframe\">\n",
       "  <thead>\n",
       "    <tr style=\"text-align: right;\">\n",
       "      <th></th>\n",
       "      <th>Count</th>\n",
       "      <th>Freq</th>\n",
       "    </tr>\n",
       "  </thead>\n",
       "  <tbody>\n",
       "    <tr>\n",
       "      <th>experience</th>\n",
       "      <td>3029</td>\n",
       "      <td>1.045994</td>\n",
       "    </tr>\n",
       "    <tr>\n",
       "      <th>role</th>\n",
       "      <td>2314</td>\n",
       "      <td>0.799086</td>\n",
       "    </tr>\n",
       "    <tr>\n",
       "      <th>work</th>\n",
       "      <td>2260</td>\n",
       "      <td>0.780438</td>\n",
       "    </tr>\n",
       "    <tr>\n",
       "      <th>team</th>\n",
       "      <td>1963</td>\n",
       "      <td>0.677876</td>\n",
       "    </tr>\n",
       "    <tr>\n",
       "      <th>business</th>\n",
       "      <td>1810</td>\n",
       "      <td>0.625041</td>\n",
       "    </tr>\n",
       "    <tr>\n",
       "      <th>working</th>\n",
       "      <td>1777</td>\n",
       "      <td>0.613645</td>\n",
       "    </tr>\n",
       "    <tr>\n",
       "      <th>sales</th>\n",
       "      <td>1719</td>\n",
       "      <td>0.593616</td>\n",
       "    </tr>\n",
       "    <tr>\n",
       "      <th>skills</th>\n",
       "      <td>1668</td>\n",
       "      <td>0.576005</td>\n",
       "    </tr>\n",
       "    <tr>\n",
       "      <th>within</th>\n",
       "      <td>1549</td>\n",
       "      <td>0.534911</td>\n",
       "    </tr>\n",
       "    <tr>\n",
       "      <th>please</th>\n",
       "      <td>1512</td>\n",
       "      <td>0.522134</td>\n",
       "    </tr>\n",
       "  </tbody>\n",
       "</table>\n",
       "</div>"
      ],
      "text/plain": [
       "            Count      Freq\n",
       "experience   3029  1.045994\n",
       "role         2314  0.799086\n",
       "work         2260  0.780438\n",
       "team         1963  0.677876\n",
       "business     1810  0.625041\n",
       "working      1777  0.613645\n",
       "sales        1719  0.593616\n",
       "skills       1668  0.576005\n",
       "within       1549  0.534911\n",
       "please       1512  0.522134"
      ]
     },
     "execution_count": 71,
     "metadata": {},
     "output_type": "execute_result"
    }
   ],
   "source": [
    "df_low = df_text[df_text['HighSalary']==0]\n",
    "\n",
    "#Concatenate all descriptions into one string and split into words\n",
    "a = df_low['FullDescription'].str.cat(sep = ' ')\n",
    "s = re.findall('\\w+', a)\n",
    "s = Series(s)\n",
    "\n",
    "#Get word counts\n",
    "low_words = DataFrame(s.value_counts())\n",
    "low_words.columns=['Count']\n",
    "low_words['Freq']= low_words['Count']/low_words['Count'].sum()*100\n",
    "low_words[0:10]"
   ]
  },
  {
   "cell_type": "markdown",
   "metadata": {},
   "source": [
    "# Part B3"
   ]
  },
  {
   "cell_type": "markdown",
   "metadata": {},
   "source": [
    "Train a “hybrid” model to predict high/low salary using both numeric and text data. Show the accuracy of the model. "
   ]
  },
  {
   "cell_type": "code",
   "execution_count": 73,
   "metadata": {
    "collapsed": true
   },
   "outputs": [],
   "source": [
    "df_hybrid = df_text.join(df_nbtrain.drop('HighSalary',axis=1))\n",
    "\n",
    "X_htrain, X_htest, y_htrain, y_htest = train_test_split(df_hybrid.drop('HighSalary',axis=1),\n",
    "                                                    df_hybrid['HighSalary'],\n",
    "                                                    test_size=0.3, random_state=1)"
   ]
  },
  {
   "cell_type": "code",
   "execution_count": 74,
   "metadata": {
    "collapsed": true
   },
   "outputs": [],
   "source": [
    "X_htrain_words = count_vect.fit_transform(X_htrain['FullDescription'])\n",
    "X_htrain_counts = DataFrame(X_htrain_words.todense()).join(X_htrain.drop('FullDescription',axis=1).reset_index())"
   ]
  },
  {
   "cell_type": "code",
   "execution_count": 75,
   "metadata": {
    "collapsed": true
   },
   "outputs": [],
   "source": [
    "X_htest_words = count_vect.transform(X_htest['FullDescription'])\n",
    "X_htest_counts = DataFrame(X_htest_words.todense()).join(X_htest.drop('FullDescription',axis=1).reset_index())"
   ]
  },
  {
   "cell_type": "code",
   "execution_count": 77,
   "metadata": {},
   "outputs": [
    {
     "name": "stdout",
     "output_type": "stream",
     "text": [
      "Prediction Accuracy\n",
      "0.790666666667\n",
      "  \n",
      "Baseline Accuracy\n",
      "0.7546666666666667\n"
     ]
    }
   ],
   "source": [
    "#Fit model on train data\n",
    "hybrid_model = BernoulliNB().fit(X_htrain_counts, y_htrain)\n",
    "\n",
    "#Predict using X_test data\n",
    "hybrid_prediction = hybrid_model.predict(X_htest_counts)\n",
    "\n",
    "#Percent correct overall\n",
    "print ('Prediction Accuracy')\n",
    "print (metrics.accuracy_score(y_htest, hybrid_prediction))\n",
    "print('  ')\n",
    "#Baseline accuracy = if we guessed 'No' for all of them\n",
    "print ('Baseline Accuracy')\n",
    "print (1-y_htest.mean())"
   ]
  },
  {
   "cell_type": "code",
   "execution_count": 118,
   "metadata": {},
   "outputs": [
    {
     "data": {
      "text/plain": [
       "array([[493,  68],\n",
       "       [ 92,  97]])"
      ]
     },
     "execution_count": 118,
     "metadata": {},
     "output_type": "execute_result"
    }
   ],
   "source": [
    "#Row 1 is all the ones low salary\n",
    "#Column 1 is all the ones predicted low salary\n",
    "metrics.confusion_matrix(y_htest, hybrid_prediction)"
   ]
  },
  {
   "cell_type": "markdown",
   "metadata": {},
   "source": [
    "The hybrid model slightly underperformed the text-only model. 79.1% accuracy vs 79.5%\n",
    "\n",
    "It is surprising that adding more variables actually hurt performance. Even though accuracy increased for \"High Salary\" jobs, it decreased when predicting the \"Low Salary\" jobs, which make up 75% of the data."
   ]
  }
 ],
 "metadata": {
  "kernelspec": {
   "display_name": "Python 3",
   "language": "python",
   "name": "python3"
  },
  "language_info": {
   "codemirror_mode": {
    "name": "ipython",
    "version": 3
   },
   "file_extension": ".py",
   "mimetype": "text/x-python",
   "name": "python",
   "nbconvert_exporter": "python",
   "pygments_lexer": "ipython3",
   "version": "3.6.1"
  }
 },
 "nbformat": 4,
 "nbformat_minor": 2
}
