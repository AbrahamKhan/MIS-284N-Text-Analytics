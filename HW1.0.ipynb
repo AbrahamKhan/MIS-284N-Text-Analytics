{
 "cells": [
  {
   "cell_type": "code",
   "execution_count": 1,
   "metadata": {},
   "outputs": [
    {
     "name": "stdout",
     "output_type": "stream",
     "text": [
      "Populating the interactive namespace from numpy and matplotlib\n"
     ]
    }
   ],
   "source": [
    "import re\n",
    "from pandas import Series, DataFrame\n",
    "import pandas as pd\n",
    "import nltk\n",
    "from nltk.tokenize import sent_tokenize, word_tokenize\n",
    "from nltk.corpus import stopwords\n",
    "from nltk.stem import WordNetLemmatizer\n",
    "%pylab inline"
   ]
  },
  {
   "cell_type": "code",
   "execution_count": 2,
   "metadata": {},
   "outputs": [],
   "source": [
    "#Read files\n",
    "df_raw = pd.read_csv('C:\\Users\\Abraham\\MSBA\\Text\\HW1\\Train_rev1.csv')\n",
    "df_train = df_raw.sample(2500)"
   ]
  },
  {
   "cell_type": "markdown",
   "metadata": {},
   "source": [
    "# Part A1"
   ]
  },
  {
   "cell_type": "code",
   "execution_count": 3,
   "metadata": {},
   "outputs": [],
   "source": [
    "df_train = df_train[['Id','FullDescription','SalaryNormalized']]\n",
    "df_train['FullDescription'] = df_train['FullDescription'].map(str.lower)"
   ]
  },
  {
   "cell_type": "code",
   "execution_count": 4,
   "metadata": {},
   "outputs": [
    {
     "data": {
      "text/plain": [
       "{'$': 24,\n",
       " \"''\": 2,\n",
       " 'CC': 31697,\n",
       " 'CD': 4702,\n",
       " 'DT': 51909,\n",
       " 'EX': 245,\n",
       " 'FW': 392,\n",
       " 'IN': 66717,\n",
       " 'JJ': 72121,\n",
       " 'JJR': 865,\n",
       " 'JJS': 1232,\n",
       " 'MD': 10503,\n",
       " 'NN': 164276,\n",
       " 'NNP': 237,\n",
       " 'NNPS': 1,\n",
       " 'NNS': 52148,\n",
       " 'PDT': 100,\n",
       " 'POS': 7,\n",
       " 'PRP': 12927,\n",
       " 'PRP$': 7859,\n",
       " 'RB': 15463,\n",
       " 'RBR': 304,\n",
       " 'RBS': 239,\n",
       " 'RP': 952,\n",
       " 'TO': 20933,\n",
       " 'UH': 2,\n",
       " 'VB': 33296,\n",
       " 'VBD': 3619,\n",
       " 'VBG': 23927,\n",
       " 'VBN': 12521,\n",
       " 'VBP': 15570,\n",
       " 'VBZ': 11089,\n",
       " 'WDT': 1413,\n",
       " 'WP': 1522,\n",
       " 'WP$': 25,\n",
       " 'WRB': 928}"
      ]
     },
     "execution_count": 4,
     "metadata": {},
     "output_type": "execute_result"
    }
   ],
   "source": [
    "pos_dt = {}\n",
    "\n",
    "def pos_count(desc):\n",
    "    tokens = re.findall('\\w+', desc)\n",
    "    tokenlist = nltk.pos_tag(tokens)\n",
    "    \n",
    "    for t in tokenlist:\n",
    "        pos = t[1]\n",
    "        if pos in pos_dt:\n",
    "            pos_dt[pos] += 1\n",
    "        else:\n",
    "            pos_dt[pos] = 1\n",
    "    \n",
    "    return desc\n",
    "\n",
    "df_train['FullDescription'].map(pos_count)\n",
    "\n",
    "pos_dt\n"
   ]
  },
  {
   "cell_type": "code",
   "execution_count": 5,
   "metadata": {},
   "outputs": [
    {
     "data": {
      "text/plain": [
       "{'$': 21,\n",
       " \"''\": 1,\n",
       " 'CC': 501,\n",
       " 'CD': 4730,\n",
       " 'DT': 286,\n",
       " 'FW': 511,\n",
       " 'IN': 6274,\n",
       " 'JJ': 74763,\n",
       " 'JJR': 356,\n",
       " 'JJS': 1197,\n",
       " 'MD': 2528,\n",
       " 'NN': 158131,\n",
       " 'NNP': 290,\n",
       " 'NNS': 51617,\n",
       " 'POS': 6,\n",
       " 'PRP': 607,\n",
       " 'PRP$': 6,\n",
       " 'RB': 13630,\n",
       " 'RBR': 229,\n",
       " 'RBS': 65,\n",
       " 'RP': 95,\n",
       " 'SYM': 4,\n",
       " 'UH': 6,\n",
       " 'VB': 7633,\n",
       " 'VBD': 8539,\n",
       " 'VBG': 26777,\n",
       " 'VBN': 7657,\n",
       " 'VBP': 17148,\n",
       " 'VBZ': 4054,\n",
       " 'WDT': 23,\n",
       " 'WP': 26,\n",
       " 'WP$': 25,\n",
       " 'WRB': 34}"
      ]
     },
     "execution_count": 5,
     "metadata": {},
     "output_type": "execute_result"
    }
   ],
   "source": [
    "stop_words = set(stopwords.words('english'))\n",
    "\n",
    "pos_nostop_dt = {}\n",
    "\n",
    "def pos_nostop_count(desc):\n",
    "    tokens = re.findall('\\w+', desc)\n",
    "    filtered_tokens = [w for w in tokens if not w in stop_words]\n",
    "    \n",
    "    tokenlist = nltk.pos_tag(filtered_tokens)\n",
    "    \n",
    "    for t in tokenlist:\n",
    "        pos = t[1]\n",
    "        if pos in pos_nostop_dt:\n",
    "            pos_nostop_dt[pos] += 1\n",
    "        else:\n",
    "            pos_nostop_dt[pos] = 1\n",
    "    \n",
    "    return desc\n",
    "\n",
    "df_train['FullDescription'].map(pos_nostop_count)\n",
    "\n",
    "pos_nostop_dt\n"
   ]
  },
  {
   "cell_type": "code",
   "execution_count": 6,
   "metadata": {},
   "outputs": [
    {
     "data": {
      "text/plain": [
       "<matplotlib.axes._subplots.AxesSubplot at 0x1d5de048>"
      ]
     },
     "execution_count": 6,
     "metadata": {},
     "output_type": "execute_result"
    },
    {
     "data": {
      "image/png": "[encoded data removed]",
      "text/plain": [
       "<Figure size 432x288 with 1 Axes>"
      ]
     },
     "metadata": {},
     "output_type": "display_data"
    }
   ],
   "source": [
    "Series(pos_dt).sort_values(ascending=False)[0:5].plot(kind='bar')"
   ]
  },
  {
   "cell_type": "code",
   "execution_count": 7,
   "metadata": {},
   "outputs": [
    {
     "data": {
      "text/plain": [
       "<matplotlib.axes._subplots.AxesSubplot at 0x1d6f48d0>"
      ]
     },
     "execution_count": 7,
     "metadata": {},
     "output_type": "execute_result"
    },
    {
     "data": {
      "image/png": "[encoded data removed]",
      "text/plain": [
       "<Figure size 432x288 with 1 Axes>"
      ]
     },
     "metadata": {},
     "output_type": "display_data"
    }
   ],
   "source": [
    "Series(pos_nostop_dt).sort_values(ascending=False)[0:5].plot(kind='bar')"
   ]
  },
  {
   "cell_type": "markdown",
   "metadata": {},
   "source": [
    "# Part A2"
   ]
  },
  {
   "cell_type": "code",
   "execution_count": 8,
   "metadata": {},
   "outputs": [
    {
     "data": {
      "text/plain": [
       "<matplotlib.axes._subplots.AxesSubplot at 0x1f406be0>"
      ]
     },
     "execution_count": 8,
     "metadata": {},
     "output_type": "execute_result"
    },
    {
     "data": {
      "image/png": "[encoded data removed]",
      "text/plain": [
       "<Figure size 432x288 with 1 Axes>"
      ]
     },
     "metadata": {},
     "output_type": "display_data"
    }
   ],
   "source": [
    "a = df_train['FullDescription'].str.cat(sep = ' ') #pos = a.decode('utf-8')\n",
    "s = re.findall('\\w+', a)\n",
    "s = Series(s)\n",
    "\n",
    "df_words = DataFrame(s.value_counts())\n",
    "df_words = df_words.reset_index()\n",
    "df_words.columns = ['Word','Counts']\n",
    "\n",
    "topcount = df_words.iloc[0]['Counts']\n",
    "zipf_list = []\n",
    "\n",
    "for f in range(1,len(df_words)):\n",
    "    zipf_list.append(topcount/f)\n",
    "\n",
    "Series(zipf_list)\n",
    "    \n",
    "df_words['Zipf'] = Series(zipf_list)\n",
    "\n",
    "df_words['Counts'][0:50].plot(kind='bar')\n",
    "df_words['Zipf'][0:50].plot(kind='line')\n",
    "\n"
   ]
  },
  {
   "cell_type": "code",
   "execution_count": 9,
   "metadata": {},
   "outputs": [],
   "source": [
    "s = re.findall('\\w+', a)\n",
    "s = [w for w in s if not w in stop_words]\n",
    "\n",
    "lemmatizer = WordNetLemmatizer()\n",
    "s = Series(s).map(lemmatizer.lemmatize)"
   ]
  },
  {
   "cell_type": "code",
   "execution_count": 10,
   "metadata": {},
   "outputs": [
    {
     "data": {
      "text/plain": [
       "<matplotlib.axes._subplots.AxesSubplot at 0x1f6089e8>"
      ]
     },
     "execution_count": 10,
     "metadata": {},
     "output_type": "execute_result"
    },
    {
     "data": {
      "image/png": "[encoded data removed]",
      "text/plain": [
       "<Figure size 432x288 with 1 Axes>"
      ]
     },
     "metadata": {},
     "output_type": "display_data"
    }
   ],
   "source": [
    "s.value_counts()[0:10].plot(kind='bar')"
   ]
  },
  {
   "cell_type": "markdown",
   "metadata": {},
   "source": [
    "# Part B1"
   ]
  },
  {
   "cell_type": "code",
   "execution_count": 11,
   "metadata": {},
   "outputs": [],
   "source": [
    "from sklearn.naive_bayes import GaussianNB, BernoulliNB, MultinomialNB"
   ]
  },
  {
   "cell_type": "code",
   "execution_count": 126,
   "metadata": {},
   "outputs": [
    {
     "name": "stderr",
     "output_type": "stream",
     "text": [
      "C:\\Users\\Abraham\\Anaconda2\\lib\\site-packages\\ipykernel_launcher.py:5: SettingWithCopyWarning: \n",
      "A value is trying to be set on a copy of a slice from a DataFrame\n",
      "\n",
      "See the caveats in the documentation: http://pandas.pydata.org/pandas-docs/stable/indexing.html#indexing-view-versus-copy\n",
      "  \"\"\"\n"
     ]
    },
    {
     "data": {
      "text/html": [
       "<div>\n",
       "<style scoped>\n",
       "    .dataframe tbody tr th:only-of-type {\n",
       "        vertical-align: middle;\n",
       "    }\n",
       "\n",
       "    .dataframe tbody tr th {\n",
       "        vertical-align: top;\n",
       "    }\n",
       "\n",
       "    .dataframe thead th {\n",
       "        text-align: right;\n",
       "    }\n",
       "</style>\n",
       "<table border=\"1\" class=\"dataframe\">\n",
       "  <thead>\n",
       "    <tr style=\"text-align: right;\">\n",
       "      <th></th>\n",
       "      <th>Id</th>\n",
       "      <th>Title</th>\n",
       "      <th>FullDescription</th>\n",
       "      <th>LocationRaw</th>\n",
       "      <th>LocationNormalized</th>\n",
       "      <th>ContractType</th>\n",
       "      <th>ContractTime</th>\n",
       "      <th>Company</th>\n",
       "      <th>Category</th>\n",
       "      <th>SalaryRaw</th>\n",
       "      <th>SalaryNormalized</th>\n",
       "      <th>SourceName</th>\n",
       "      <th>HighSalary</th>\n",
       "    </tr>\n",
       "  </thead>\n",
       "  <tbody>\n",
       "    <tr>\n",
       "      <th>2664</th>\n",
       "      <td>55410037</td>\n",
       "      <td>Non Fucntional Test Analyst</td>\n",
       "      <td>Non Fucntional Test Analyst Location: Rickmans...</td>\n",
       "      <td>Buckinghamshire</td>\n",
       "      <td>Buckinghamshire</td>\n",
       "      <td>full_time</td>\n",
       "      <td>permanent</td>\n",
       "      <td>JOBG8</td>\n",
       "      <td>IT Jobs</td>\n",
       "      <td>Up to 60,000 per year + 50000.00-60000.00</td>\n",
       "      <td>60000</td>\n",
       "      <td>planetrecruit.com</td>\n",
       "      <td>1</td>\n",
       "    </tr>\n",
       "    <tr>\n",
       "      <th>202034</th>\n",
       "      <td>71882888</td>\n",
       "      <td>Senior Research Executive  International Resea...</td>\n",
       "      <td>An international Research Agency is looking fo...</td>\n",
       "      <td>Greater London</td>\n",
       "      <td>London</td>\n",
       "      <td>full_time</td>\n",
       "      <td>permanent</td>\n",
       "      <td>RP CUSHING</td>\n",
       "      <td>Teaching Jobs</td>\n",
       "      <td>25000.00 - 30000.00 per annum</td>\n",
       "      <td>27500</td>\n",
       "      <td>jobs.guardian.co.uk</td>\n",
       "      <td>0</td>\n",
       "    </tr>\n",
       "    <tr>\n",
       "      <th>44247</th>\n",
       "      <td>68508488</td>\n",
       "      <td>Store Manager</td>\n",
       "      <td>As the leading specialist retailer in electron...</td>\n",
       "      <td>London</td>\n",
       "      <td>London</td>\n",
       "      <td>full_time</td>\n",
       "      <td>permanent</td>\n",
       "      <td>networx</td>\n",
       "      <td>Consultancy Jobs</td>\n",
       "      <td>20,000-24,000 + Excellent Benefits</td>\n",
       "      <td>22000</td>\n",
       "      <td>fish4.co.uk</td>\n",
       "      <td>0</td>\n",
       "    </tr>\n",
       "    <tr>\n",
       "      <th>195110</th>\n",
       "      <td>71798047</td>\n",
       "      <td>Year 5 Teacher</td>\n",
       "      <td>Are you a Year 5 Teacher who would relish the ...</td>\n",
       "      <td>London</td>\n",
       "      <td>London</td>\n",
       "      <td>full_time</td>\n",
       "      <td>permanent</td>\n",
       "      <td>Edustaff</td>\n",
       "      <td>Teaching Jobs</td>\n",
       "      <td>From 27,000 to 35,000 per year + MPS plus TLR</td>\n",
       "      <td>31000</td>\n",
       "      <td>jobsineducation.co.uk</td>\n",
       "      <td>0</td>\n",
       "    </tr>\n",
       "    <tr>\n",
       "      <th>177525</th>\n",
       "      <td>71531502</td>\n",
       "      <td>Specialist Dyslexia Teacher in the Learning Su...</td>\n",
       "      <td>Specialist Teacher in the Learning Support Dep...</td>\n",
       "      <td>Central London</td>\n",
       "      <td>Central London</td>\n",
       "      <td>full_time</td>\n",
       "      <td>permanent</td>\n",
       "      <td>ITN Mark Education West London</td>\n",
       "      <td>Teaching Jobs</td>\n",
       "      <td>25000.00 - 40000.00 GBP Annual</td>\n",
       "      <td>32500</td>\n",
       "      <td>jobs.newstatesman.com</td>\n",
       "      <td>0</td>\n",
       "    </tr>\n",
       "  </tbody>\n",
       "</table>\n",
       "</div>"
      ],
      "text/plain": [
       "              Id                                              Title  \\\n",
       "2664    55410037                        Non Fucntional Test Analyst   \n",
       "202034  71882888  Senior Research Executive  International Resea...   \n",
       "44247   68508488                                      Store Manager   \n",
       "195110  71798047                                     Year 5 Teacher   \n",
       "177525  71531502  Specialist Dyslexia Teacher in the Learning Su...   \n",
       "\n",
       "                                          FullDescription      LocationRaw  \\\n",
       "2664    Non Fucntional Test Analyst Location: Rickmans...  Buckinghamshire   \n",
       "202034  An international Research Agency is looking fo...   Greater London   \n",
       "44247   As the leading specialist retailer in electron...           London   \n",
       "195110  Are you a Year 5 Teacher who would relish the ...           London   \n",
       "177525  Specialist Teacher in the Learning Support Dep...   Central London   \n",
       "\n",
       "       LocationNormalized ContractType ContractTime  \\\n",
       "2664      Buckinghamshire    full_time    permanent   \n",
       "202034             London    full_time    permanent   \n",
       "44247              London    full_time    permanent   \n",
       "195110             London    full_time    permanent   \n",
       "177525     Central London    full_time    permanent   \n",
       "\n",
       "                               Company          Category  \\\n",
       "2664                             JOBG8           IT Jobs   \n",
       "202034                      RP CUSHING     Teaching Jobs   \n",
       "44247                          networx  Consultancy Jobs   \n",
       "195110                        Edustaff     Teaching Jobs   \n",
       "177525  ITN Mark Education West London     Teaching Jobs   \n",
       "\n",
       "                                            SalaryRaw  SalaryNormalized  \\\n",
       "2664        Up to 60,000 per year + 50000.00-60000.00             60000   \n",
       "202034                  25000.00 - 30000.00 per annum             27500   \n",
       "44247              20,000-24,000 + Excellent Benefits             22000   \n",
       "195110  From 27,000 to 35,000 per year + MPS plus TLR             31000   \n",
       "177525                 25000.00 - 40000.00 GBP Annual             32500   \n",
       "\n",
       "                   SourceName  HighSalary  \n",
       "2664        planetrecruit.com           1  \n",
       "202034    jobs.guardian.co.uk           0  \n",
       "44247             fish4.co.uk           0  \n",
       "195110  jobsineducation.co.uk           0  \n",
       "177525  jobs.newstatesman.com           0  "
      ]
     },
     "execution_count": 126,
     "metadata": {},
     "output_type": "execute_result"
    }
   ],
   "source": [
    "df_train = df_raw.dropna().sample(2500)\n",
    "cutoff = df_train['SalaryNormalized'].quantile(0.75)\n",
    "\n",
    "df_train['HighSalary'] = 0\n",
    "df_train['HighSalary'][df_train['SalaryNormalized']>cutoff] = 1\n",
    "\n",
    "df_train.head()"
   ]
  },
  {
   "cell_type": "code",
   "execution_count": 147,
   "metadata": {},
   "outputs": [
    {
     "data": {
      "text/html": [
       "<div>\n",
       "<style scoped>\n",
       "    .dataframe tbody tr th:only-of-type {\n",
       "        vertical-align: middle;\n",
       "    }\n",
       "\n",
       "    .dataframe tbody tr th {\n",
       "        vertical-align: top;\n",
       "    }\n",
       "\n",
       "    .dataframe thead th {\n",
       "        text-align: right;\n",
       "    }\n",
       "</style>\n",
       "<table border=\"1\" class=\"dataframe\">\n",
       "  <thead>\n",
       "    <tr style=\"text-align: right;\">\n",
       "      <th></th>\n",
       "      <th>ContractType_full_time</th>\n",
       "      <th>ContractTime_permanent</th>\n",
       "      <th>Category_Accounting &amp; Finance Jobs</th>\n",
       "      <th>Category_Admin Jobs</th>\n",
       "      <th>Category_Charity &amp; Voluntary Jobs</th>\n",
       "      <th>Category_Consultancy Jobs</th>\n",
       "      <th>Category_Creative &amp; Design Jobs</th>\n",
       "      <th>Category_Customer Services Jobs</th>\n",
       "      <th>Category_Domestic help &amp; Cleaning Jobs</th>\n",
       "      <th>Category_Energy, Oil &amp; Gas Jobs</th>\n",
       "      <th>...</th>\n",
       "      <th>Category_Property Jobs</th>\n",
       "      <th>Category_Retail Jobs</th>\n",
       "      <th>Category_Sales Jobs</th>\n",
       "      <th>Category_Scientific &amp; QA Jobs</th>\n",
       "      <th>Category_Social work Jobs</th>\n",
       "      <th>Category_Teaching Jobs</th>\n",
       "      <th>Category_Trade &amp; Construction Jobs</th>\n",
       "      <th>Category_Travel Jobs</th>\n",
       "      <th>ExpensiveCity</th>\n",
       "      <th>HighSalary</th>\n",
       "    </tr>\n",
       "  </thead>\n",
       "  <tbody>\n",
       "    <tr>\n",
       "      <th>2664</th>\n",
       "      <td>1</td>\n",
       "      <td>1</td>\n",
       "      <td>0</td>\n",
       "      <td>0</td>\n",
       "      <td>0</td>\n",
       "      <td>0</td>\n",
       "      <td>0</td>\n",
       "      <td>0</td>\n",
       "      <td>0</td>\n",
       "      <td>0</td>\n",
       "      <td>...</td>\n",
       "      <td>0</td>\n",
       "      <td>0</td>\n",
       "      <td>0</td>\n",
       "      <td>0</td>\n",
       "      <td>0</td>\n",
       "      <td>0</td>\n",
       "      <td>0</td>\n",
       "      <td>0</td>\n",
       "      <td>0</td>\n",
       "      <td>1</td>\n",
       "    </tr>\n",
       "    <tr>\n",
       "      <th>202034</th>\n",
       "      <td>1</td>\n",
       "      <td>1</td>\n",
       "      <td>0</td>\n",
       "      <td>0</td>\n",
       "      <td>0</td>\n",
       "      <td>0</td>\n",
       "      <td>0</td>\n",
       "      <td>0</td>\n",
       "      <td>0</td>\n",
       "      <td>0</td>\n",
       "      <td>...</td>\n",
       "      <td>0</td>\n",
       "      <td>0</td>\n",
       "      <td>0</td>\n",
       "      <td>0</td>\n",
       "      <td>0</td>\n",
       "      <td>1</td>\n",
       "      <td>0</td>\n",
       "      <td>0</td>\n",
       "      <td>1</td>\n",
       "      <td>0</td>\n",
       "    </tr>\n",
       "    <tr>\n",
       "      <th>44247</th>\n",
       "      <td>1</td>\n",
       "      <td>1</td>\n",
       "      <td>0</td>\n",
       "      <td>0</td>\n",
       "      <td>0</td>\n",
       "      <td>1</td>\n",
       "      <td>0</td>\n",
       "      <td>0</td>\n",
       "      <td>0</td>\n",
       "      <td>0</td>\n",
       "      <td>...</td>\n",
       "      <td>0</td>\n",
       "      <td>0</td>\n",
       "      <td>0</td>\n",
       "      <td>0</td>\n",
       "      <td>0</td>\n",
       "      <td>0</td>\n",
       "      <td>0</td>\n",
       "      <td>0</td>\n",
       "      <td>1</td>\n",
       "      <td>0</td>\n",
       "    </tr>\n",
       "    <tr>\n",
       "      <th>195110</th>\n",
       "      <td>1</td>\n",
       "      <td>1</td>\n",
       "      <td>0</td>\n",
       "      <td>0</td>\n",
       "      <td>0</td>\n",
       "      <td>0</td>\n",
       "      <td>0</td>\n",
       "      <td>0</td>\n",
       "      <td>0</td>\n",
       "      <td>0</td>\n",
       "      <td>...</td>\n",
       "      <td>0</td>\n",
       "      <td>0</td>\n",
       "      <td>0</td>\n",
       "      <td>0</td>\n",
       "      <td>0</td>\n",
       "      <td>1</td>\n",
       "      <td>0</td>\n",
       "      <td>0</td>\n",
       "      <td>1</td>\n",
       "      <td>0</td>\n",
       "    </tr>\n",
       "    <tr>\n",
       "      <th>177525</th>\n",
       "      <td>1</td>\n",
       "      <td>1</td>\n",
       "      <td>0</td>\n",
       "      <td>0</td>\n",
       "      <td>0</td>\n",
       "      <td>0</td>\n",
       "      <td>0</td>\n",
       "      <td>0</td>\n",
       "      <td>0</td>\n",
       "      <td>0</td>\n",
       "      <td>...</td>\n",
       "      <td>0</td>\n",
       "      <td>0</td>\n",
       "      <td>0</td>\n",
       "      <td>0</td>\n",
       "      <td>0</td>\n",
       "      <td>1</td>\n",
       "      <td>0</td>\n",
       "      <td>0</td>\n",
       "      <td>1</td>\n",
       "      <td>0</td>\n",
       "    </tr>\n",
       "  </tbody>\n",
       "</table>\n",
       "<p>5 rows × 32 columns</p>\n",
       "</div>"
      ],
      "text/plain": [
       "        ContractType_full_time  ContractTime_permanent  \\\n",
       "2664                         1                       1   \n",
       "202034                       1                       1   \n",
       "44247                        1                       1   \n",
       "195110                       1                       1   \n",
       "177525                       1                       1   \n",
       "\n",
       "        Category_Accounting & Finance Jobs  Category_Admin Jobs  \\\n",
       "2664                                     0                    0   \n",
       "202034                                   0                    0   \n",
       "44247                                    0                    0   \n",
       "195110                                   0                    0   \n",
       "177525                                   0                    0   \n",
       "\n",
       "        Category_Charity & Voluntary Jobs  Category_Consultancy Jobs  \\\n",
       "2664                                    0                          0   \n",
       "202034                                  0                          0   \n",
       "44247                                   0                          1   \n",
       "195110                                  0                          0   \n",
       "177525                                  0                          0   \n",
       "\n",
       "        Category_Creative & Design Jobs  Category_Customer Services Jobs  \\\n",
       "2664                                  0                                0   \n",
       "202034                                0                                0   \n",
       "44247                                 0                                0   \n",
       "195110                                0                                0   \n",
       "177525                                0                                0   \n",
       "\n",
       "        Category_Domestic help & Cleaning Jobs  \\\n",
       "2664                                         0   \n",
       "202034                                       0   \n",
       "44247                                        0   \n",
       "195110                                       0   \n",
       "177525                                       0   \n",
       "\n",
       "        Category_Energy, Oil & Gas Jobs     ...      Category_Property Jobs  \\\n",
       "2664                                  0     ...                           0   \n",
       "202034                                0     ...                           0   \n",
       "44247                                 0     ...                           0   \n",
       "195110                                0     ...                           0   \n",
       "177525                                0     ...                           0   \n",
       "\n",
       "        Category_Retail Jobs  Category_Sales Jobs  \\\n",
       "2664                       0                    0   \n",
       "202034                     0                    0   \n",
       "44247                      0                    0   \n",
       "195110                     0                    0   \n",
       "177525                     0                    0   \n",
       "\n",
       "        Category_Scientific & QA Jobs  Category_Social work Jobs  \\\n",
       "2664                                0                          0   \n",
       "202034                              0                          0   \n",
       "44247                               0                          0   \n",
       "195110                              0                          0   \n",
       "177525                              0                          0   \n",
       "\n",
       "        Category_Teaching Jobs  Category_Trade & Construction Jobs  \\\n",
       "2664                         0                                   0   \n",
       "202034                       1                                   0   \n",
       "44247                        0                                   0   \n",
       "195110                       1                                   0   \n",
       "177525                       1                                   0   \n",
       "\n",
       "        Category_Travel Jobs  ExpensiveCity  HighSalary  \n",
       "2664                       0              0           1  \n",
       "202034                     0              1           0  \n",
       "44247                      0              1           0  \n",
       "195110                     0              1           0  \n",
       "177525                     0              1           0  \n",
       "\n",
       "[5 rows x 32 columns]"
      ]
     },
     "execution_count": 147,
     "metadata": {},
     "output_type": "execute_result"
    }
   ],
   "source": [
    "df_nbtrain = pd.get_dummies(df_train[['ContractType','ContractTime','Category']])\n",
    "\n",
    "#Cities where avg rent is >= 20% of avg income\n",
    "high_cities = ['London', 'Central London','The City','Brighton','Edinburgh','Bristol','Southampton','Portsmouth','Exeter'\\\n",
    "                 ,'Cardiff', 'Manchester', 'Birmingham', 'Leeds', 'Aberdeen', 'Glasgow', 'Newcastle', 'Sheffield', 'Liverpool', 'Hull']\n",
    "\n",
    "a = df_train['LocationNormalized']\n",
    "b = []\n",
    "\n",
    "for i in range(len(a)):\n",
    "    if a.iloc[i] in high_cities: \n",
    "        b.append(1)\n",
    "    else: b.append(0)\n",
    "\n",
    "df_nbtrain['ExpensiveCity'] = b\n",
    "df_nbtrain['HighSalary'] = df_train['HighSalary']\n",
    "df_nbtrain = df_nbtrain.drop(columns=['ContractType_part_time','ContractTime_contract'])\n",
    "df_nbtrain.head()\n"
   ]
  },
  {
   "cell_type": "code",
   "execution_count": 149,
   "metadata": {},
   "outputs": [],
   "source": [
    "from sklearn import naive_bayes\n",
    "from sklearn import model_selection\n",
    "from sklearn.model_selection import train_test_split\n",
    "from patsy import dmatrices\n",
    "from sklearn import metrics"
   ]
  },
  {
   "cell_type": "code",
   "execution_count": 163,
   "metadata": {},
   "outputs": [
    {
     "name": "stdout",
     "output_type": "stream",
     "text": [
      "Training\n",
      "0.76\n",
      " \n",
      "Test\n",
      "0.776\n"
     ]
    }
   ],
   "source": [
    "dummy_column_names = list(df_nbtrain.columns.values)[:-1]\n",
    "\n",
    "formula = 'HighSalary ~ 0 + {}'.format(' + '.join(['Q(\"{}\")'.format(x) for x in dummy_column_names]))\n",
    "\n",
    "nbtrain, nbtest = train_test_split(df_nbtrain, test_size=0.2)\n",
    "    \n",
    "#Training Sets\n",
    "Ytrain, xtrain = dmatrices(formula, nbtrain, return_type='dataframe')\n",
    "ytrain = Ytrain['HighSalary'].values\n",
    "\n",
    "#Testing Set\n",
    "Ytest, xtest = dmatrices(formula, nbtest, return_type='dataframe')\n",
    "ytest = Ytest['HighSalary'].values\n",
    "\n",
    "model = naive_bayes.MultinomialNB()\n",
    "model.fit(xtrain, ytrain)\n",
    "\n",
    "prediction_train = model.predict(xtrain)\n",
    "print \"Training\"\n",
    "print metrics.accuracy_score(ytrain, prediction_train)\n",
    "\n",
    "print \" \" \n",
    "print \"Test\"\n",
    "prediction_test = model.predict(xtest)\n",
    "print metrics.accuracy_score(ytest, prediction_test)"
   ]
  },
  {
   "cell_type": "markdown",
   "metadata": {},
   "source": [
    "# Part B2 "
   ]
  },
  {
   "cell_type": "code",
   "execution_count": null,
   "metadata": {},
   "outputs": [],
   "source": []
  },
  {
   "cell_type": "code",
   "execution_count": null,
   "metadata": {},
   "outputs": [],
   "source": []
  }
 ],
 "metadata": {
  "kernelspec": {
   "display_name": "Python 2",
   "language": "python",
   "name": "python2"
  },
  "language_info": {
   "codemirror_mode": {
    "name": "ipython",
    "version": 2
   },
   "file_extension": ".py",
   "mimetype": "text/x-python",
   "name": "python",
   "nbconvert_exporter": "python",
   "pygments_lexer": "ipython2",
   "version": "2.7.15"
  }
 },
 "nbformat": 4,
 "nbformat_minor": 2
}
